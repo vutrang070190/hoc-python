{
 "cells": [
  {
   "cell_type": "markdown",
   "id": "dc718fde",
   "metadata": {},
   "source": [
    "# TÌM HIỂU THƯ VIỆN TURTLE\n",
    "1. Sử dụng lệnh PIP\n",
    "2. Thư viện Turtle\n",
    "3. Điều khiển chuyển động trong turle\n",
    "4. Điều khiển nét bút trong turtle"
   ]
  },
  {
   "cell_type": "markdown",
   "id": "df7065ed",
   "metadata": {},
   "source": [
    "## LỆNH PIP\n",
    "PIP là một trình quản lý gói cho Python, cho phép cài đặt và\n",
    "quản lý các thư viện và dependency mà không được phân\n",
    "phối như một phần của thư viện chuẩn của Python.\n",
    "> pip command"
   ]
  },
  {
   "cell_type": "markdown",
   "id": "f33877e9",
   "metadata": {},
   "source": [
    "Để kiểm tra pip đang chạy trên máy tính, chúng ta có thể sử dụng command:"
   ]
  },
  {
   "cell_type": "code",
   "execution_count": 3,
   "id": "176a259c",
   "metadata": {},
   "outputs": [
    {
     "name": "stdout",
     "output_type": "stream",
     "text": [
      "pip 21.1.1 from c:\\users\\pc\\appdata\\local\\programs\\python\\python38\\lib\\site-packages\\pip (python 3.8)\n",
      "\n"
     ]
    }
   ],
   "source": [
    "!pip --version"
   ]
  },
  {
   "cell_type": "code",
   "execution_count": 4,
   "id": "83fc6602",
   "metadata": {},
   "outputs": [
    {
     "name": "stdout",
     "output_type": "stream",
     "text": [
      "Selected Jupyter core packages...\n",
      "IPython          : 8.0.1\n",
      "ipykernel        : 6.9.1\n",
      "ipywidgets       : 7.6.5\n",
      "jupyter_client   : 7.1.2\n",
      "jupyter_core     : 4.9.2\n",
      "jupyter_server   : not installed\n",
      "jupyterlab       : not installed\n",
      "nbclient         : 0.5.11\n",
      "nbconvert        : 6.4.2\n",
      "nbformat         : 5.1.3\n",
      "notebook         : 6.4.8\n",
      "qtconsole        : 5.2.2\n",
      "traitlets        : 5.1.1\n"
     ]
    }
   ],
   "source": [
    "! jupyter --version"
   ]
  },
  {
   "cell_type": "markdown",
   "id": "5de29f0c",
   "metadata": {},
   "source": [
    "# THƯ VIỆN TURLTE\n",
    "- Turtle graphic là một chương trình con có sẵn trong python khi bạn đã cài Python lên máy\n",
    "- Turtle được xem như một cây bút vẽ, di chuyển đến đâu là vẽ hình đến đó"
   ]
  },
  {
   "cell_type": "markdown",
   "id": "41610170",
   "metadata": {},
   "source": [
    "### Cài đặt thư viện turtle với pip"
   ]
  },
  {
   "cell_type": "code",
   "execution_count": 6,
   "id": "269755c7",
   "metadata": {},
   "outputs": [
    {
     "name": "stdout",
     "output_type": "stream",
     "text": [
      "Collecting turtle"
     ]
    },
    {
     "name": "stderr",
     "output_type": "stream",
     "text": [
      "    ERROR: Command errored out with exit status 1:"
     ]
    },
    {
     "name": "stdout",
     "output_type": "stream",
     "text": [
      "\n",
      "  Downloading turtle-0.0.2.tar.gz (11 kB)\n",
      "  Downloading turtle-0.0.1.tar.gz (10 kB)\n",
      "Collecting PyYAML>=3.08\n",
      "  Downloading PyYAML-6.0-cp38-cp38-win_amd64.whl (155 kB)\n",
      "Using legacy 'setup.py install' for turtle, since package 'wheel' is not installed.\n",
      "Installing collected packages: PyYAML, turtle\n",
      "    Running setup.py install for turtle: started\n",
      "    Running setup.py install for turtle: finished with status 'done'\n",
      "Successfully installed PyYAML-6.0 turtle-0.0.1\n"
     ]
    },
    {
     "name": "stderr",
     "output_type": "stream",
     "text": [
      "\n",
      "     command: 'c:\\users\\pc\\appdata\\local\\programs\\python\\python38\\python.exe' -c 'import io, os, sys, setuptools, tokenize; sys.argv[0] = '\"'\"'C:\\\\Users\\\\pc\\\\AppData\\\\Local\\\\Temp\\\\pip-install-a9gfdqqe\\\\turtle_8530d581388d47b6b59d349a3a4cd350\\\\setup.py'\"'\"'; __file__='\"'\"'C:\\\\Users\\\\pc\\\\AppData\\\\Local\\\\Temp\\\\pip-install-a9gfdqqe\\\\turtle_8530d581388d47b6b59d349a3a4cd350\\\\setup.py'\"'\"';f = getattr(tokenize, '\"'\"'open'\"'\"', open)(__file__) if os.path.exists(__file__) else io.StringIO('\"'\"'from setuptools import setup; setup()'\"'\"');code = f.read().replace('\"'\"'\\r\\n'\"'\"', '\"'\"'\\n'\"'\"');f.close();exec(compile(code, __file__, '\"'\"'exec'\"'\"'))' egg_info --egg-base 'C:\\Users\\pc\\AppData\\Local\\Temp\\pip-pip-egg-info-88yano5s'\n",
      "         cwd: C:\\Users\\pc\\AppData\\Local\\Temp\\pip-install-a9gfdqqe\\turtle_8530d581388d47b6b59d349a3a4cd350\\\n",
      "    Complete output (6 lines):\n",
      "    Traceback (most recent call last):\n",
      "      File \"<string>\", line 1, in <module>\n",
      "      File \"C:\\Users\\pc\\AppData\\Local\\Temp\\pip-install-a9gfdqqe\\turtle_8530d581388d47b6b59d349a3a4cd350\\setup.py\", line 40\n",
      "        except ValueError, ve:\n",
      "                         ^\n",
      "    SyntaxError: invalid syntax\n",
      "    ----------------------------------------\n",
      "WARNING: Discarding https://files.pythonhosted.org/packages/ff/f0/21a42e9e424d24bdd0e509d5ed3c7dfb8f47d962d9c044dba903b0b4a26f/turtle-0.0.2.tar.gz#sha256=edff7868ddfeba60cb2dcc3fb2218f29fd042ab697dcac0723e3e16a330979dd (from https://pypi.org/simple/turtle/). Command errored out with exit status 1: python setup.py egg_info Check the logs for full command output.\n",
      "WARNING: You are using pip version 21.1.1; however, version 22.0.3 is available.\n",
      "You should consider upgrading via the 'c:\\users\\pc\\appdata\\local\\programs\\python\\python38\\python.exe -m pip install --upgrade pip' command.\n"
     ]
    }
   ],
   "source": [
    "! pip install turtle"
   ]
  },
  {
   "cell_type": "code",
   "execution_count": 9,
   "id": "28256d23",
   "metadata": {},
   "outputs": [],
   "source": [
    "import turtle"
   ]
  },
  {
   "cell_type": "markdown",
   "id": "327a8a11",
   "metadata": {},
   "source": [
    "### Sử dụng turtle"
   ]
  },
  {
   "cell_type": "markdown",
   "id": "10e0be43",
   "metadata": {},
   "source": [
    "Bước 1: Import module turle\n"
   ]
  },
  {
   "cell_type": "code",
   "execution_count": 21,
   "id": "781d6b32",
   "metadata": {},
   "outputs": [],
   "source": [
    "import turtle"
   ]
  },
  {
   "cell_type": "markdown",
   "id": "d20f3f3f",
   "metadata": {},
   "source": [
    "Bước 2: Tạo đối tượng turtle"
   ]
  },
  {
   "cell_type": "code",
   "execution_count": 22,
   "id": "9d62ff7d",
   "metadata": {},
   "outputs": [],
   "source": [
    "pen = turtle.Turtle()"
   ]
  },
  {
   "cell_type": "markdown",
   "id": "62a000c8",
   "metadata": {},
   "source": [
    "Bước 3: Vẽ bằng các phương thức của turtle"
   ]
  },
  {
   "cell_type": "code",
   "execution_count": 19,
   "id": "b772347e",
   "metadata": {},
   "outputs": [],
   "source": [
    "pen.forward (100)"
   ]
  },
  {
   "cell_type": "markdown",
   "id": "8e0f4830",
   "metadata": {},
   "source": [
    "Bước 4: Hoàn thành vẽ"
   ]
  },
  {
   "cell_type": "code",
   "execution_count": 20,
   "id": "8e4a076e",
   "metadata": {},
   "outputs": [],
   "source": [
    "turtle.done()"
   ]
  },
  {
   "cell_type": "markdown",
   "id": "850cff26",
   "metadata": {},
   "source": [
    "### Thực hành: Vẽ hình vuông"
   ]
  },
  {
   "cell_type": "code",
   "execution_count": 10,
   "id": "7e69bd76",
   "metadata": {
    "scrolled": false
   },
   "outputs": [],
   "source": [
    "import turtle\n",
    "pen = turtle.Turtle()\n",
    "pen.forward (100)\n",
    "pen.right (90)\n",
    "pen.forward (100)\n",
    "pen.right (90)\n",
    "pen.forward (100)\n",
    "pen.right (90)\n",
    "pen.forward (100)\n",
    "pen.right (90)\n",
    "\n",
    "turtle.done()"
   ]
  },
  {
   "cell_type": "markdown",
   "id": "5887d86b",
   "metadata": {},
   "source": [
    "### Thực hành: Vẽ hình tam giác đều"
   ]
  },
  {
   "cell_type": "code",
   "execution_count": 5,
   "id": "4bbbad3a",
   "metadata": {},
   "outputs": [],
   "source": [
    "import turtle\n",
    "pen = turtle.Turtle()\n",
    "pen.forward(100)\n",
    "pen.right(120)\n",
    "pen.forward(100)\n",
    "pen.right(120)\n",
    "pen.forward(100)\n",
    "pen.right(120)\n",
    "\n",
    "turtle.done()"
   ]
  },
  {
   "cell_type": "code",
   "execution_count": null,
   "id": "3bfa117d",
   "metadata": {},
   "outputs": [],
   "source": [
    "# ve ngoi sao 5 canh"
   ]
  },
  {
   "cell_type": "code",
   "execution_count": 24,
   "id": "1fd04ccd",
   "metadata": {},
   "outputs": [],
   "source": [
    "import turtle\n",
    "pen = turtle.Turtle()\n",
    "pen.right(72)\n",
    "pen.forward(200)\n",
    "pen.right(144)\n",
    "pen.forward(200)\n",
    "pen.right(144)\n",
    "pen.forward(200)\n",
    "pen.right(144)\n",
    "pen.forward(200)\n",
    "pen.right(144)\n",
    "pen.forward(200)\n",
    "turtle.done()"
   ]
  },
  {
   "cell_type": "markdown",
   "id": "286e4627",
   "metadata": {},
   "source": [
    "### Các lệnh điều khiển nét bút"
   ]
  },
  {
   "cell_type": "markdown",
   "id": "172501b8",
   "metadata": {},
   "source": [
    "Thay đổi kích thước của bút"
   ]
  },
  {
   "cell_type": "code",
   "execution_count": 5,
   "id": "7fb9025f",
   "metadata": {},
   "outputs": [],
   "source": [
    "import turtle\n",
    "pen = turtle.Turtle()\n",
    "pen.pensize(2)\n",
    "pen.forward(50)\n",
    "turtle.done()"
   ]
  },
  {
   "cell_type": "markdown",
   "id": "a2f89a48",
   "metadata": {},
   "source": [
    "Nhấc bút lên"
   ]
  },
  {
   "cell_type": "code",
   "execution_count": null,
   "id": "e5ea9ef7",
   "metadata": {},
   "outputs": [],
   "source": [
    "import turtle\n",
    "pen = turtle.Turtle()\n",
    "pen.penup()\n",
    "pen.forward(50)"
   ]
  },
  {
   "cell_type": "markdown",
   "id": "249ee9cd",
   "metadata": {},
   "source": [
    "Đặt bút xuống"
   ]
  },
  {
   "cell_type": "code",
   "execution_count": null,
   "id": "cbb2b715",
   "metadata": {},
   "outputs": [],
   "source": [
    "pen.pendown()\n",
    "pen.forward(50)"
   ]
  },
  {
   "cell_type": "markdown",
   "id": "9a4a4e08",
   "metadata": {},
   "source": [
    "### Điều chỉnh màu sắc trong turtle"
   ]
  },
  {
   "cell_type": "markdown",
   "id": "767c4808",
   "metadata": {},
   "source": [
    "Thay đổi màu rùa"
   ]
  },
  {
   "cell_type": "code",
   "execution_count": null,
   "id": "e8e0a962",
   "metadata": {},
   "outputs": [],
   "source": [
    "pen.fillcolor()\n",
    "pen.forward(50)"
   ]
  },
  {
   "cell_type": "markdown",
   "id": "e587faf1",
   "metadata": {},
   "source": [
    "Thay đổi màu bút"
   ]
  },
  {
   "cell_type": "code",
   "execution_count": null,
   "id": "4227ed0a",
   "metadata": {},
   "outputs": [],
   "source": [
    "pen.pencolor()\n",
    "pen.pensize(5)\n",
    "pen.forward(100)"
   ]
  },
  {
   "cell_type": "markdown",
   "id": "9f9b669a",
   "metadata": {},
   "source": [
    "Thay đổi tốc độ"
   ]
  },
  {
   "cell_type": "code",
   "execution_count": 6,
   "id": "4f7bcc7b",
   "metadata": {},
   "outputs": [],
   "source": [
    "pen.speed(10)\n",
    "pen.forward(100)"
   ]
  },
  {
   "cell_type": "code",
   "execution_count": null,
   "id": "737bef2e",
   "metadata": {},
   "outputs": [],
   "source": []
  },
  {
   "cell_type": "code",
   "execution_count": null,
   "id": "e2e24e0d",
   "metadata": {},
   "outputs": [],
   "source": []
  },
  {
   "cell_type": "code",
   "execution_count": null,
   "id": "15bcd97f",
   "metadata": {},
   "outputs": [],
   "source": []
  },
  {
   "cell_type": "code",
   "execution_count": null,
   "id": "c549e4b4",
   "metadata": {},
   "outputs": [],
   "source": []
  },
  {
   "cell_type": "code",
   "execution_count": null,
   "id": "95aa89bd",
   "metadata": {},
   "outputs": [],
   "source": []
  },
  {
   "cell_type": "code",
   "execution_count": null,
   "id": "52217836",
   "metadata": {},
   "outputs": [],
   "source": []
  },
  {
   "cell_type": "code",
   "execution_count": null,
   "id": "dbaa93e7",
   "metadata": {},
   "outputs": [],
   "source": []
  }
 ],
 "metadata": {
  "kernelspec": {
   "display_name": "Python 3 (ipykernel)",
   "language": "python",
   "name": "python3"
  },
  "language_info": {
   "codemirror_mode": {
    "name": "ipython",
    "version": 3
   },
   "file_extension": ".py",
   "mimetype": "text/x-python",
   "name": "python",
   "nbconvert_exporter": "python",
   "pygments_lexer": "ipython3",
   "version": "3.8.10"
  }
 },
 "nbformat": 4,
 "nbformat_minor": 5
}
