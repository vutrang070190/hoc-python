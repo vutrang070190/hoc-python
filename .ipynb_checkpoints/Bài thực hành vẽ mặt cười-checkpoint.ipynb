{
 "cells": [
  {
   "cell_type": "code",
   "execution_count": 26,
   "id": "070c2382",
   "metadata": {},
   "outputs": [],
   "source": [
    "# bài thực hành vẽ mặt cười\n",
    "import turtle\n",
    "pen = turtle.Turtle()\n",
    "pen.pensize(5)\n",
    "# pen.fillcolor(\" #fa0202 \")\n",
    "pen.shape(\"square\")\n",
    "pen.penup()\n",
    "pen.goto(0, -200)\n",
    "\n",
    "facesize = 200\n",
    "eye_size = 25\n",
    "\n",
    "pen.pendown()\n",
    "pen.begin_fill()\n",
    "pen.circle(facesize)\n",
    "pen.end_fill()\n",
    "\n",
    "pen.penup()\n",
    "pen.goto(0,50)\n",
    "\n",
    "#ve mat\n",
    "pen.pendown()\n",
    "\n",
    "\n",
    "turtle.done()"
   ]
  },
  {
   "cell_type": "code",
   "execution_count": 15,
   "id": "c404ef1f",
   "metadata": {},
   "outputs": [],
   "source": [
    "turtle.done()"
   ]
  },
  {
   "cell_type": "code",
   "execution_count": null,
   "id": "64697d8b",
   "metadata": {},
   "outputs": [],
   "source": []
  },
  {
   "cell_type": "code",
   "execution_count": null,
   "id": "f0099d0a",
   "metadata": {},
   "outputs": [],
   "source": []
  },
  {
   "cell_type": "code",
   "execution_count": null,
   "id": "cd8348dd",
   "metadata": {},
   "outputs": [],
   "source": []
  },
  {
   "cell_type": "code",
   "execution_count": null,
   "id": "a8aa88f1",
   "metadata": {},
   "outputs": [],
   "source": []
  }
 ],
 "metadata": {
  "kernelspec": {
   "display_name": "Python 3 (ipykernel)",
   "language": "python",
   "name": "python3"
  },
  "language_info": {
   "codemirror_mode": {
    "name": "ipython",
    "version": 3
   },
   "file_extension": ".py",
   "mimetype": "text/x-python",
   "name": "python",
   "nbconvert_exporter": "python",
   "pygments_lexer": "ipython3",
   "version": "3.8.10"
  }
 },
 "nbformat": 4,
 "nbformat_minor": 5
}
