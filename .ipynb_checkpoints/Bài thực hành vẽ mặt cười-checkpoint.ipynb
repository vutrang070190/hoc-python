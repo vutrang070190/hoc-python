{
 "cells": [
  {
   "cell_type": "code",
   "execution_count": 22,
   "id": "0e4cfa5c",
   "metadata": {},
   "outputs": [],
   "source": [
    "# bài thực hành vẽ mặt cười\n",
    "import turtle\n",
    "pen = turtle.Turtle()\n",
    "pen.pensize(5)\n",
    "pen.fillcolor(\"red\")\n",
    "pen.shape(\"square\")\n",
    "pen.penup()\n",
    "pen.goto(0, -200)\n",
    "\n",
    "facesize = 200\n",
    "eye_size = 25\n",
    "nose_size = 100\n",
    "\n",
    "pen.pendown()\n",
    "pen.circle(facesize)\n",
    "\n",
    "# pen.end_fill()\n",
    "\n",
    "pen.penup()\n",
    "pen.goto(-50,100)\n",
    "\n",
    "#ve mat t1\n",
    "pen.pendown()\n",
    "pen.fillcolor(\"yellow\")\n",
    "pen.begin_fill()\n",
    "pen.circle(eye_size)\n",
    "pen.end_fill()\n",
    "\n",
    "\n",
    "pen.penup()\n",
    "pen.goto(50,100)\n",
    "\n",
    "# ve mat t2\n",
    "pen.pendown()\n",
    "pen.fillcolor(\"yellow\")\n",
    "pen.begin_fill()\n",
    "pen.circle(eye_size)\n",
    "pen.end_fill()\n",
    "\n",
    "pen.penup()\n",
    "pen.goto(0,50)\n",
    "\n",
    "# ve mieng\n",
    "pen.pendown()\n",
    "pen.circle(-nose_size)\n",
    "pen.end_fill()\n",
    "\n",
    "turtle.done()"
   ]
  },
  {
   "cell_type": "code",
   "execution_count": 9,
   "id": "b1155cd6",
   "metadata": {},
   "outputs": [
    {
     "ename": "Terminator",
     "evalue": "",
     "output_type": "error",
     "traceback": [
      "\u001b[1;31m---------------------------------------------------------------------------\u001b[0m",
      "\u001b[1;31mTerminator\u001b[0m                                Traceback (most recent call last)",
      "Input \u001b[1;32mIn [9]\u001b[0m, in \u001b[0;36m<module>\u001b[1;34m\u001b[0m\n\u001b[1;32m----> 1\u001b[0m \u001b[43mturtle\u001b[49m\u001b[38;5;241;43m.\u001b[39;49m\u001b[43mdone\u001b[49m\u001b[43m(\u001b[49m\u001b[43m)\u001b[49m\n",
      "File \u001b[1;32m<string>:5\u001b[0m, in \u001b[0;36mmainloop\u001b[1;34m()\u001b[0m\n",
      "\u001b[1;31mTerminator\u001b[0m: "
     ]
    }
   ],
   "source": [
    "turtle.done()"
   ]
  },
  {
   "cell_type": "code",
   "execution_count": null,
   "id": "19d63199",
   "metadata": {},
   "outputs": [],
   "source": [
    "# thực hành tính diện tích tam giác\n",
    "a = 10\n",
    "b = 20\n",
    "c = 15\n",
    "\n",
    "p = (a + b + c)/2\n",
    "S = (p* (p -a) * (p - b) * (p - c)) ** 0.5"
   ]
  },
  {
   "cell_type": "code",
   "execution_count": null,
   "id": "73c6b433",
   "metadata": {},
   "outputs": [],
   "source": []
  },
  {
   "cell_type": "code",
   "execution_count": null,
   "id": "f4824487",
   "metadata": {},
   "outputs": [],
   "source": []
  },
  {
   "cell_type": "code",
   "execution_count": null,
   "id": "5a666331",
   "metadata": {},
   "outputs": [],
   "source": []
  }
 ],
 "metadata": {
  "kernelspec": {
   "display_name": "Python 3 (ipykernel)",
   "language": "python",
   "name": "python3"
  },
  "language_info": {
   "codemirror_mode": {
    "name": "ipython",
    "version": 3
   },
   "file_extension": ".py",
   "mimetype": "text/x-python",
   "name": "python",
   "nbconvert_exporter": "python",
   "pygments_lexer": "ipython3",
   "version": "3.8.10"
  }
 },
 "nbformat": 4,
 "nbformat_minor": 5
}
