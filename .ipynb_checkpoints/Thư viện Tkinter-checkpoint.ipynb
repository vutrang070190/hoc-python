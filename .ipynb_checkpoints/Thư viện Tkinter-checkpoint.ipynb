{
 "cells": [
  {
   "cell_type": "markdown",
   "id": "7637b45d",
   "metadata": {},
   "source": [
    "# Tkinter"
   ]
  },
  {
   "cell_type": "markdown",
   "id": "aef48c70",
   "metadata": {},
   "source": [
    "## Tkinter là gì?\n",
    "Tkinter là thư viện GUI tiêu chuẩn cho Python."
   ]
  },
  {
   "cell_type": "markdown",
   "id": "a555c9c5",
   "metadata": {},
   "source": [
    "## Các bước tạo ứng dụng Tkinter\n",
    "**Bước 1:** Import Tkinter module\n",
    "\n",
    "**Bước 2:** Tạo ra cửa số chính cho ứng dụng \n",
    "\n",
    "**Bước 3:** Thêm một số widget cho ứng dụng\n",
    "\n",
    "**Bước 4:** Tạo vòng lặp sự kiện chính để các hành động có thể diễn ra trên màn hình máy tính của người dùng\n"
   ]
  },
  {
   "cell_type": "markdown",
   "id": "f5a0f4e8",
   "metadata": {},
   "source": [
    "## Import Tkinter \n",
    "\n",
    "Cú pháp:\n",
    "\n",
    "`from tkinter import *`\n",
    "\n",
    "<b> Thêm thư viện: </b>"
   ]
  },
  {
   "cell_type": "code",
   "execution_count": null,
   "id": "28a5f795",
   "metadata": {},
   "outputs": [],
   "source": []
  },
  {
   "cell_type": "markdown",
   "id": "27f1704a",
   "metadata": {},
   "source": [
    "## Tạo ra cửa số cho ứng dụng\n",
    "\n",
    "Cú pháp:\n",
    "\n",
    "`<tên đối tượng> = Tk()`\n",
    "\n",
    "Đổi tiêu đề cửa số:\n",
    "\n",
    "`<tên đối tượng>.title(\"Tiêu đề mới\")`\n",
    "\n",
    "##### Lưu ý: ta cần thêm hàm `<tên đối tượng>.mainloop()` để cửa sổ hoạt động\n",
    "\n",
    "<b>Hãy khởi tạo một cửa sổ:</b>"
   ]
  },
  {
   "cell_type": "code",
   "execution_count": null,
   "id": "3063eaa3",
   "metadata": {},
   "outputs": [],
   "source": []
  },
  {
   "cell_type": "markdown",
   "id": "6a7f27d7",
   "metadata": {},
   "source": [
    "## Thêm widget cho ứng dụng\n",
    "\n",
    "\n",
    "Widget là những đối tượng sẽ hiển thị và hoạt động trên cửa số\n",
    "\n",
    "Có rất nhiều loại Widget như: nút nhấn (button), nhãn (label), khung nhập dữ liệu (Entry),..."
   ]
  },
  {
   "cell_type": "code",
   "execution_count": null,
   "id": "396c5f84",
   "metadata": {},
   "outputs": [],
   "source": []
  },
  {
   "cell_type": "markdown",
   "id": "50cf878f",
   "metadata": {},
   "source": [
    "## label\n",
    "\n",
    "Cú pháp:\n",
    "\n",
    "`<tên đối tượng> = Label(<cửa số>,text = <nội dung>)`"
   ]
  },
  {
   "cell_type": "code",
   "execution_count": null,
   "id": "6826b7e0",
   "metadata": {},
   "outputs": [],
   "source": []
  },
  {
   "cell_type": "markdown",
   "id": "fbf4ab01",
   "metadata": {},
   "source": [
    "## entry\n",
    "\n",
    "Cú pháp:\n",
    "\n",
    "`<tên đối tượng> = Entry(<cửa số>)`\n"
   ]
  },
  {
   "cell_type": "code",
   "execution_count": null,
   "id": "a8dea346",
   "metadata": {},
   "outputs": [],
   "source": []
  },
  {
   "cell_type": "markdown",
   "id": "220d3157",
   "metadata": {},
   "source": [
    "## button\n",
    "\n",
    "Cú pháp:\n",
    "\n",
    "`<tên đối tượng> = Button(<cửa số>,text = <nội dung>)`"
   ]
  },
  {
   "cell_type": "code",
   "execution_count": null,
   "id": "4376bd13",
   "metadata": {},
   "outputs": [],
   "source": []
  },
  {
   "cell_type": "markdown",
   "id": "8bd06b13",
   "metadata": {},
   "source": [
    "## combobox"
   ]
  },
  {
   "cell_type": "code",
   "execution_count": null,
   "id": "74694770",
   "metadata": {},
   "outputs": [],
   "source": []
  },
  {
   "cell_type": "markdown",
   "id": "f5203893",
   "metadata": {},
   "source": [
    "## text"
   ]
  },
  {
   "cell_type": "code",
   "execution_count": null,
   "id": "f822f455",
   "metadata": {},
   "outputs": [],
   "source": []
  },
  {
   "cell_type": "markdown",
   "id": "7b58544c",
   "metadata": {},
   "source": [
    "## messagebox"
   ]
  },
  {
   "cell_type": "code",
   "execution_count": null,
   "id": "d721e682",
   "metadata": {},
   "outputs": [],
   "source": []
  },
  {
   "cell_type": "markdown",
   "id": "eebac94e",
   "metadata": {},
   "source": [
    "## checkbutton"
   ]
  },
  {
   "cell_type": "code",
   "execution_count": null,
   "id": "1e534acb",
   "metadata": {},
   "outputs": [],
   "source": []
  }
 ],
 "metadata": {
  "kernelspec": {
   "display_name": "Python 3 (ipykernel)",
   "language": "python",
   "name": "python3"
  },
  "language_info": {
   "codemirror_mode": {
    "name": "ipython",
    "version": 3
   },
   "file_extension": ".py",
   "mimetype": "text/x-python",
   "name": "python",
   "nbconvert_exporter": "python",
   "pygments_lexer": "ipython3",
   "version": "3.8.10"
  }
 },
 "nbformat": 4,
 "nbformat_minor": 5
}
