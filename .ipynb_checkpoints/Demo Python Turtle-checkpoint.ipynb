{
 "cells": [
  {
   "cell_type": "markdown",
   "id": "dc718fde",
   "metadata": {},
   "source": [
    "# TÌM HIỂU THƯ VIỆN TURTLE\n",
    "1. Sử dụng lệnh PIP\n",
    "2. Thư viện Turtle\n",
    "3. Điều khiển chuyển động trong turle\n",
    "4. Điều khiển nét bút trong turtle"
   ]
  },
  {
   "cell_type": "markdown",
   "id": "df7065ed",
   "metadata": {},
   "source": [
    "## LỆNH PIP\n",
    "PIP là một trình quản lý gói cho Python, cho phép cài đặt và\n",
    "quản lý các thư viện và dependency mà không được phân\n",
    "phối như một phần của thư viện chuẩn của Python.\n",
    "> pip command"
   ]
  },
  {
   "cell_type": "markdown",
   "id": "f33877e9",
   "metadata": {},
   "source": [
    "Để kiểm tra pip đang chạy trên máy tính, chúng ta có thể sử dụng command:"
   ]
  },
  {
   "cell_type": "code",
   "execution_count": null,
   "id": "176a259c",
   "metadata": {},
   "outputs": [],
   "source": []
  },
  {
   "cell_type": "code",
   "execution_count": null,
   "id": "83fc6602",
   "metadata": {},
   "outputs": [],
   "source": []
  },
  {
   "cell_type": "markdown",
   "id": "5de29f0c",
   "metadata": {},
   "source": [
    "# THƯ VIỆN TURLTE\n",
    "- Turtle graphic là một chương trình con có sẵn trong python khi bạn đã cài Python lên máy\n",
    "- Turtle được xem như một cây bút vẽ, di chuyển đến đâu là vẽ hình đến đó"
   ]
  },
  {
   "cell_type": "markdown",
   "id": "41610170",
   "metadata": {},
   "source": [
    "### Cài đặt thư viện turtle với pip"
   ]
  },
  {
   "cell_type": "code",
   "execution_count": null,
   "id": "269755c7",
   "metadata": {},
   "outputs": [],
   "source": []
  },
  {
   "cell_type": "code",
   "execution_count": null,
   "id": "28256d23",
   "metadata": {},
   "outputs": [],
   "source": []
  },
  {
   "cell_type": "markdown",
   "id": "327a8a11",
   "metadata": {},
   "source": [
    "### Sử dụng turtle"
   ]
  },
  {
   "cell_type": "markdown",
   "id": "10e0be43",
   "metadata": {},
   "source": [
    "Bước 1: Import module turle\n"
   ]
  },
  {
   "cell_type": "code",
   "execution_count": null,
   "id": "781d6b32",
   "metadata": {},
   "outputs": [],
   "source": []
  },
  {
   "cell_type": "markdown",
   "id": "d20f3f3f",
   "metadata": {},
   "source": [
    "Bước 2: Tạo đối tượng turle"
   ]
  },
  {
   "cell_type": "code",
   "execution_count": null,
   "id": "9d62ff7d",
   "metadata": {},
   "outputs": [],
   "source": []
  },
  {
   "cell_type": "markdown",
   "id": "62a000c8",
   "metadata": {},
   "source": [
    "Bước 3: Vẽ bằng các phương thức của turtle"
   ]
  },
  {
   "cell_type": "code",
   "execution_count": null,
   "id": "b772347e",
   "metadata": {},
   "outputs": [],
   "source": []
  },
  {
   "cell_type": "markdown",
   "id": "8e0f4830",
   "metadata": {},
   "source": [
    "Bước 4: Hoàn thành vẽ"
   ]
  },
  {
   "cell_type": "code",
   "execution_count": null,
   "id": "8e4a076e",
   "metadata": {},
   "outputs": [],
   "source": []
  },
  {
   "cell_type": "markdown",
   "id": "850cff26",
   "metadata": {},
   "source": [
    "### Thực hành: Vẽ hình vuông"
   ]
  },
  {
   "cell_type": "code",
   "execution_count": null,
   "id": "7e69bd76",
   "metadata": {},
   "outputs": [],
   "source": []
  },
  {
   "cell_type": "markdown",
   "id": "5887d86b",
   "metadata": {},
   "source": [
    "### Thực hành: Vẽ hình tam giác đều"
   ]
  },
  {
   "cell_type": "code",
   "execution_count": null,
   "id": "4bbbad3a",
   "metadata": {},
   "outputs": [],
   "source": []
  },
  {
   "cell_type": "markdown",
   "id": "286e4627",
   "metadata": {},
   "source": [
    "### Các lệnh điều khiển nét bút"
   ]
  },
  {
   "cell_type": "markdown",
   "id": "172501b8",
   "metadata": {},
   "source": [
    "Thay đổi kích thước của bút"
   ]
  },
  {
   "cell_type": "code",
   "execution_count": null,
   "id": "7fb9025f",
   "metadata": {},
   "outputs": [],
   "source": []
  },
  {
   "cell_type": "markdown",
   "id": "a2f89a48",
   "metadata": {},
   "source": [
    "Nhấc bút lên"
   ]
  },
  {
   "cell_type": "code",
   "execution_count": null,
   "id": "e5ea9ef7",
   "metadata": {},
   "outputs": [],
   "source": []
  },
  {
   "cell_type": "markdown",
   "id": "249ee9cd",
   "metadata": {},
   "source": [
    "Đặt bút xuống"
   ]
  },
  {
   "cell_type": "code",
   "execution_count": null,
   "id": "cbb2b715",
   "metadata": {},
   "outputs": [],
   "source": []
  },
  {
   "cell_type": "markdown",
   "id": "9a4a4e08",
   "metadata": {},
   "source": [
    "### Điều chỉnh màu sắc trong turtle"
   ]
  },
  {
   "cell_type": "markdown",
   "id": "767c4808",
   "metadata": {},
   "source": [
    "Thay đổi màu rùa"
   ]
  },
  {
   "cell_type": "code",
   "execution_count": null,
   "id": "e8e0a962",
   "metadata": {},
   "outputs": [],
   "source": []
  },
  {
   "cell_type": "markdown",
   "id": "e587faf1",
   "metadata": {},
   "source": [
    "Thay đổi màu bút"
   ]
  },
  {
   "cell_type": "code",
   "execution_count": null,
   "id": "4227ed0a",
   "metadata": {},
   "outputs": [],
   "source": []
  },
  {
   "cell_type": "markdown",
   "id": "9f9b669a",
   "metadata": {},
   "source": [
    "Thay đổi tốc độ"
   ]
  },
  {
   "cell_type": "code",
   "execution_count": null,
   "id": "4f7bcc7b",
   "metadata": {},
   "outputs": [],
   "source": []
  }
 ],
 "metadata": {
  "kernelspec": {
   "display_name": "Python 3 (ipykernel)",
   "language": "python",
   "name": "python3"
  },
  "language_info": {
   "codemirror_mode": {
    "name": "ipython",
    "version": 3
   },
   "file_extension": ".py",
   "mimetype": "text/x-python",
   "name": "python",
   "nbconvert_exporter": "python",
   "pygments_lexer": "ipython3",
   "version": "3.8.10"
  }
 },
 "nbformat": 4,
 "nbformat_minor": 5
}
