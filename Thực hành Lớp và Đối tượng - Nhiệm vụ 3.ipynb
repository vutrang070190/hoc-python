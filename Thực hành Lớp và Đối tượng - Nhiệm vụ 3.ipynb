{
 "cells": [
  {
   "cell_type": "code",
   "execution_count": 7,
   "id": "a42fa0c7",
   "metadata": {},
   "outputs": [],
   "source": [
    "\"\"\"\n",
    "Tạo class có tên SoHoc gồm có các thuộc tính và phương thức sau:\n",
    "+ Thuộc tính: number1, number2\n",
    "+ Phương thức:\n",
    "- Phương thức tạo __init()__\n",
    "- input_info(): dùng để nhập 2 số number1, number2\n",
    "- print_info(): dùng để hiển thị number1, number2\n",
    "- addition(): dùng để cộng number1, number2\n",
    "- subtract(): trừ number1, number2\n",
    "- multi(): dùng để nhân number1, number2\n",
    "- division(): dùng để chia number1, number2.\n",
    "\n",
    "Sau khi tạo class, khởi tạo một object SoHoc và in ra kết quả tính toán từ các hàm thực hiện phép tính\n",
    "\"\"\"\n",
    "\n",
    "class SoHoc:\n",
    "    def __init__(self):\n",
    "        self.number1 = 0\n",
    "        self.number2 = 0\n",
    "        \n",
    "    def input_info(self):\n",
    "        self.number1 = float(input(\"nhập vào số thứ nhất: \"))\n",
    "        self.number2 = float(input(\"nhập vào số thứ hai: \"))\n",
    "        \n",
    "    def print_info(self):\n",
    "        print(f\"Số thứ nhất: {self.number1}\")\n",
    "        print(f\"Số thứ hai: {self.number2}\")\n",
    "        \n",
    "    def addition(self):\n",
    "        return self.number1 + self.number2\n",
    "         \n",
    "    \n",
    "    def subtract(self):\n",
    "        return self.number1 - self.number2\n",
    "       \n",
    "    \n",
    "    def multi(self):\n",
    "        return self.number1 * self.number2\n",
    "        \n",
    "      \n",
    "    def division(self):\n",
    "        return self.number1 / self.number2\n",
    "      "
   ]
  },
  {
   "cell_type": "code",
   "execution_count": 8,
   "id": "589941d1",
   "metadata": {},
   "outputs": [
    {
     "name": "stdout",
     "output_type": "stream",
     "text": [
      "nhập vào số thứ nhất: 3\n",
      "nhập vào số thứ hai: 4\n",
      "Số thứ nhất: 3.0\n",
      "Số thứ hai: 4.0\n",
      "Kết quả phép cộng: 7.0\n",
      "Kết quả phép trừ: -1.0\n",
      "Kết quả phép cộng: 12.0\n",
      "Kết quả phép cộng: 0.75\n"
     ]
    }
   ],
   "source": [
    "so_hoc = SoHoc()\n",
    "so_hoc.input_info()\n",
    "so_hoc.print_info()\n",
    "print(f\"Kết quả phép cộng: {so_hoc.addition()}\")\n",
    "print(f\"Kết quả phép trừ: {so_hoc.subtract()}\")\n",
    "print(f\"Kết quả phép cộng: {so_hoc.multi()}\")\n",
    "print(f\"Kết quả phép cộng: {so_hoc.division()}\")"
   ]
  },
  {
   "cell_type": "code",
   "execution_count": null,
   "id": "4121aafd",
   "metadata": {},
   "outputs": [],
   "source": []
  }
 ],
 "metadata": {
  "kernelspec": {
   "display_name": "Python 3 (ipykernel)",
   "language": "python",
   "name": "python3"
  },
  "language_info": {
   "codemirror_mode": {
    "name": "ipython",
    "version": 3
   },
   "file_extension": ".py",
   "mimetype": "text/x-python",
   "name": "python",
   "nbconvert_exporter": "python",
   "pygments_lexer": "ipython3",
   "version": "3.8.10"
  }
 },
 "nbformat": 4,
 "nbformat_minor": 5
}
