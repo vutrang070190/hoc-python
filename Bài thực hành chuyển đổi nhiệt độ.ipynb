{
 "cells": [
  {
   "cell_type": "code",
   "execution_count": 3,
   "id": "b7a04558",
   "metadata": {},
   "outputs": [
    {
     "name": "stdout",
     "output_type": "stream",
     "text": [
      "nhập vào độ dài cạnh thứ nhât: 10\n",
      "nhập vào độ dài cạnh thứ hai: 20\n",
      "nhập vào độ dài cạnh thứ ba: 15\n",
      "Diện tích tam giác 72.61843774138907\n"
     ]
    }
   ],
   "source": [
    "# tính diện tích hình tam giác\n",
    "a = int(input(\"nhập vào độ dài cạnh thứ nhât: \"))\n",
    "b = int(input(\"nhập vào độ dài cạnh thứ hai: \"))\n",
    "c = int(input(\"nhập vào độ dài cạnh thứ ba: \"))\n",
    "p = (a + b + c)/2\n",
    "S = (p* (p -a) * (p - b) * (p - c)) ** 0.5\n",
    "print(f\"Diện tích tam giác {S}\")\n"
   ]
  },
  {
   "cell_type": "code",
   "execution_count": 1,
   "id": "3f72d3e3",
   "metadata": {},
   "outputs": [
    {
     "name": "stdout",
     "output_type": "stream",
     "text": [
      "nhập vào số độ C: 36\n",
      "chuyển đổi sang nhiệt độ F là: 96.8\n"
     ]
    }
   ],
   "source": [
    "# viết chương trình chuyển đổi nhiệt độ, từ độ C sang độ F (độ C được nhập từ bán phím người dùng)\n",
    "do_c = int(input(\"nhập vào số độ C: \"))\n",
    "do_f = (9 * do_c)/5 + 32\n",
    "print(f\"chuyển đổi sang nhiệt độ F là: {do_f}\")"
   ]
  },
  {
   "cell_type": "code",
   "execution_count": null,
   "id": "1c0aea5c",
   "metadata": {},
   "outputs": [],
   "source": []
  },
  {
   "cell_type": "code",
   "execution_count": null,
   "id": "97987b4b",
   "metadata": {},
   "outputs": [],
   "source": []
  }
 ],
 "metadata": {
  "kernelspec": {
   "display_name": "Python 3 (ipykernel)",
   "language": "python",
   "name": "python3"
  },
  "language_info": {
   "codemirror_mode": {
    "name": "ipython",
    "version": 3
   },
   "file_extension": ".py",
   "mimetype": "text/x-python",
   "name": "python",
   "nbconvert_exporter": "python",
   "pygments_lexer": "ipython3",
   "version": "3.8.10"
  }
 },
 "nbformat": 4,
 "nbformat_minor": 5
}
