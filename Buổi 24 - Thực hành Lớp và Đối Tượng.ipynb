{
 "cells": [
  {
   "cell_type": "markdown",
   "id": "ec00548e",
   "metadata": {},
   "source": [
    "# Thực hành Lớp và Đối Tượng "
   ]
  },
  {
   "cell_type": "markdown",
   "id": "e9a5b1b0",
   "metadata": {},
   "source": [
    "### Bài 1"
   ]
  },
  {
   "cell_type": "markdown",
   "id": "b89649bc",
   "metadata": {},
   "source": [
    "Viết một lớp point để lưu trữ một điểm trong hệ trục tọa độ Oxyz\n",
    "\n",
    "Class này có:\n",
    "\n",
    "<b> Các biến: </b>\n",
    "- <b>x</b>: mang tọa độ x của diểm\n",
    "- <b>y</b>: mang tọa độ y của diểm\n",
    "- <b>z</b>: mang tọa độ z của diểm\n",
    "\n",
    "<b> Các hàm: </b>\n",
    "- <b>khoangcachgoc:</b> hàm này trả về khoảng cách từ điểm đến điểm gốc(0,0,0)\n",
    "- <b>khoangcach(tham số đầu vào là 1 đối tượng có lớp point):</b> hàm này trả về khoảng cách từ điểm đến điểm được đưa vào\n",
    "- <b>diemdoixung:</b> hàm này trả về điểm đối của điểm qua điểm gốc(0,0,0)\n",
    "- <b>diemtrungbinh(tham số đầu vào là 1 đối tượng có lớp point):</b> hàm này trả về điểm nằm chính giữa điểm và điểm được đưa vào"
   ]
  },
  {
   "cell_type": "code",
   "execution_count": 1,
   "id": "ca30ea7d",
   "metadata": {},
   "outputs": [],
   "source": [
    "class Point:\n",
    "    def __init__(self, x, y, z):\n",
    "        self.x = x\n",
    "        self.y = y\n",
    "        self.z = z\n",
    "        \n",
    "    def khoangcachgoc(self):\n",
    "        # 0(0,0,0)\n",
    "        khoang_cach_goc = (self.x**2 + self.y**2 + self.z**2)**(1/2)\n",
    "        return khoang_cach_goc\n",
    "    \n",
    "    def khoangcach(self, other):\n",
    "        khoang_cach = ((self.x - other.x)**2 + (self.y - other.y)**2 + (self.z - other.z)**2)**(1/2)\n",
    "        return khoang_cach\n",
    "    \n",
    "    def diemdoixung(self):\n",
    "        x1 = - self.x\n",
    "        y1 = - self.y\n",
    "        z1 = - self.z\n",
    "        return Point(x1, y1, z1)\n",
    "    \n",
    "    def diemtrungbinh(self, other):\n",
    "        x2 = (self.x + other.x)/2\n",
    "        y2 = (self.y + other.y)/2\n",
    "        z2 = (self.z + other.z)/2\n",
    "        return Point(x1, y2, z2)\n"
   ]
  },
  {
   "cell_type": "code",
   "execution_count": 3,
   "id": "21459b18",
   "metadata": {},
   "outputs": [
    {
     "name": "stdout",
     "output_type": "stream",
     "text": [
      "3.0\n",
      "-2\n",
      "-1\n",
      "-2\n"
     ]
    }
   ],
   "source": [
    "point1 = Point(2, 1, 2)\n",
    "print(point1.khoangcachgoc())\n",
    "\n",
    "point2 = point1.diemdoixung()\n",
    "print(point2.x)\n",
    "print(point2.y)\n",
    "print(point2.z)"
   ]
  },
  {
   "cell_type": "code",
   "execution_count": null,
   "id": "a80afd34",
   "metadata": {},
   "outputs": [],
   "source": []
  }
 ],
 "metadata": {
  "kernelspec": {
   "display_name": "Python 3 (ipykernel)",
   "language": "python",
   "name": "python3"
  },
  "language_info": {
   "codemirror_mode": {
    "name": "ipython",
    "version": 3
   },
   "file_extension": ".py",
   "mimetype": "text/x-python",
   "name": "python",
   "nbconvert_exporter": "python",
   "pygments_lexer": "ipython3",
   "version": "3.8.10"
  }
 },
 "nbformat": 4,
 "nbformat_minor": 5
}
