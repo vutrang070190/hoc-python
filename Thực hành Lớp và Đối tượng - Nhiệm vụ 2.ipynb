{
 "cells": [
  {
   "cell_type": "code",
   "execution_count": null,
   "id": "1b7705b3",
   "metadata": {},
   "outputs": [],
   "source": [
    "\"\"\"\n",
    "Viết class NhanVien gồm các thuộc tính:\n",
    "+ Tên\n",
    "+ Tuổi\n",
    "+ Địa chỉ\n",
    "+ Tiền lương\n",
    "+ Tổng số giờ làm\n",
    "\n",
    "Và các phương thức:\n",
    "- Phương thức tạo\n",
    "- nhap_thong_tin() : Nhập các thông tin cho nhân viên từ bàn phím\n",
    "- in_thong_tin() : In ra tất cả các thông tin của nhân viên\n",
    "- tinh_thuong(): Tính toán và trả về số tiền thưởng của nhân viên theo công thức sau:\n",
    "Nếu tổng số giờ làm của nhân viên >=200 thì thưởng = lương * 20%\n",
    "Nếu tổng số giờ làm của nhân viên <200 và >=100 thì thưởng = lương * 10%\n",
    "Nếu tổng số giờ làm của nhân viên <100 thì thưởng = 0\n",
    "\"\"\""
   ]
  },
  {
   "cell_type": "code",
   "execution_count": 3,
   "id": "3cf0f41d",
   "metadata": {},
   "outputs": [],
   "source": [
    "class NhanVien:\n",
    "#    def __init__(self):  === có thể không cần dùng hàm init vói trường hợp nhập thông tin từ bàn phím\n",
    "#       self.ten = \"\"\n",
    "#        self.tuoi = 0\n",
    "#        self.dia_chi = \"\"\n",
    "#        self.tien_luong = 0\n",
    "#        self.tong_gio_lam = 0\n",
    "        \n",
    "        \n",
    "    def nhap_thong_tin(self):\n",
    "        self.ten = input(\"nhập tên nhân viên: \")       \n",
    "        self.tuoi = int(input(\"nhập tuổi nhân viên: \"))\n",
    "        self.dia_chi = input(\"nhập địa chỉ nhân viên: \")\n",
    "        self.tien_luong = float(input(\"nhập vào tiền lương nhân viên: \"))\n",
    "        self.tong_gio_lam = float(input(\"nhập vào tổng số giờ làm của nhân viên: \"))\n",
    "        \n",
    "        \n",
    "    def in_thong_tin(self):\n",
    "        print(f\"Tên: {self.ten}\")\n",
    "        print(f\"Tuổi: {self.tuoi}\")\n",
    "        print(f\"Địa chỉ: {self.dia_chi}\")\n",
    "        print(f\"Tiền Lương: {self.tien_luong}\")\n",
    "        print(f\"Tổng số giờ làm: {self.tong_gio_lam}\")\n",
    "        \n",
    "        \n",
    "    def tinh_thuong(self):\n",
    "        '''\n",
    "        Nếu tổng số giờ làm của nhân viên >=200 thì thưởng = lương * 20%\n",
    "        Nếu tổng số giờ làm của nhân viên <200 và >=100 thì thưởng = lương * 10%\n",
    "        Nếu tổng số giờ làm của nhân viên <100 thì thưởng = 0\n",
    "        '''\n",
    "        if self.tong_gio_lam >= 200:\n",
    "            thuong = self.tien_luong * 0.2\n",
    "        elif self.tong_gio_lam >= 100:\n",
    "            thuong = self.tien_luong * 0.1\n",
    "        else: \n",
    "            thuong = 0\n",
    "            \n",
    "        return thuong\n",
    "        \n",
    "        "
   ]
  },
  {
   "cell_type": "code",
   "execution_count": 4,
   "id": "e53486f7",
   "metadata": {},
   "outputs": [
    {
     "name": "stdout",
     "output_type": "stream",
     "text": [
      "nhập tên nhân viên: Phương\n",
      "nhập tuổi nhân viên: 36\n",
      "nhập địa chỉ nhân viên: 123 hòa bình\n",
      "nhập vào tiền lương nhân viên: 12500000\n",
      "nhập vào tổng số giờ làm của nhân viên: 150\n",
      "Tên: Phương\n",
      "Tuổi: 36\n",
      "Địa chỉ: 123 hòa bình\n",
      "Tiền Lương: 12500000.0\n",
      "Tổng số giờ làm: 150.0\n",
      "Tiền thưởng của nhân viên: 1250000.0\n"
     ]
    }
   ],
   "source": [
    "nhanvien1 = NhanVien()\n",
    "nhanvien1.nhap_thong_tin()\n",
    "nhanvien1.in_thong_tin()\n",
    "print(f\"Tiền thưởng của nhân viên: {nhanvien1.tinh_thuong()}\")"
   ]
  },
  {
   "cell_type": "code",
   "execution_count": null,
   "id": "d68eb2be",
   "metadata": {},
   "outputs": [],
   "source": []
  }
 ],
 "metadata": {
  "kernelspec": {
   "display_name": "Python 3 (ipykernel)",
   "language": "python",
   "name": "python3"
  },
  "language_info": {
   "codemirror_mode": {
    "name": "ipython",
    "version": 3
   },
   "file_extension": ".py",
   "mimetype": "text/x-python",
   "name": "python",
   "nbconvert_exporter": "python",
   "pygments_lexer": "ipython3",
   "version": "3.8.10"
  }
 },
 "nbformat": 4,
 "nbformat_minor": 5
}
