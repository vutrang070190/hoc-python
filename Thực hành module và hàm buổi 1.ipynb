{
 "cells": [
  {
   "cell_type": "markdown",
   "id": "a2a38651",
   "metadata": {},
   "source": [
    "## Bài 1:\n",
    "Viết hàm my_info() nhận vào 2 tham số `name` và `course`, sau đó in ra thông tin tương ứng. Ví dụ: \n",
    "```\n",
    "my_info('Long', 'Python')\n",
    "\n",
    "Output: \n",
    "My name is Long.\n",
    "I'm studying Python.\n",
    "```"
   ]
  },
  {
   "cell_type": "code",
   "execution_count": 38,
   "id": "392f869d",
   "metadata": {},
   "outputs": [
    {
     "name": "stdout",
     "output_type": "stream",
     "text": [
      "My name is Long.\n",
      "I'm studying Python.\n"
     ]
    }
   ],
   "source": [
    "def my_info(name, course):\n",
    "    # code below this line\n",
    "    print(f\"My name is {name}.\")\n",
    "    print(f\"I'm studying {course}.\")\n",
    "    # code above this line\n",
    "    \n",
    "my_info('Long', 'Python')"
   ]
  },
  {
   "cell_type": "markdown",
   "id": "7390cb06",
   "metadata": {},
   "source": [
    "## Bài 2:\n",
    "Viết hàm sum_even() nhận vào một số `n` và in ra tổng các số chẵn từ 2 đến n.\n",
    "Ví dụ:\n",
    "```\n",
    "sum_even(10)\n",
    "\n",
    "Output:\n",
    "30\n",
    "```"
   ]
  },
  {
   "cell_type": "code",
   "execution_count": 66,
   "id": "df52dd4b",
   "metadata": {},
   "outputs": [
    {
     "name": "stdout",
     "output_type": "stream",
     "text": [
      "Tổng: 30\n"
     ]
    }
   ],
   "source": [
    "def sum_even(n):\n",
    "    # code below this line\n",
    "    total = 0\n",
    "    for i in range(1,n + 1):\n",
    "        if i % 2 == 0:\n",
    "            total += i\n",
    "    print(f\"Tổng: {total}\")\n",
    "    # code above this line\n",
    "\n",
    "sum_even(10)"
   ]
  },
  {
   "cell_type": "markdown",
   "id": "0f69e7f2",
   "metadata": {},
   "source": [
    "## Bài 3:\n",
    "Viết hàm easy_math() nhận vào 3 tham số `num1`, `op`, `num 2` để thực hiện phép tính tương ứng và in ra kết quả. \n",
    "Ví dụ:\n",
    "```\n",
    "easy_math(5, '+', 5)\n",
    "\n",
    "Output:\n",
    "10\n",
    "```\n"
   ]
  },
  {
   "cell_type": "code",
   "execution_count": 89,
   "id": "ce6058ca",
   "metadata": {},
   "outputs": [
    {
     "name": "stdout",
     "output_type": "stream",
     "text": [
      "25\n"
     ]
    }
   ],
   "source": [
    "def easy_math(number1, op, number2):\n",
    "    # code below this line\n",
    "    if op == '+':\n",
    "        result = number1 + number2\n",
    "    elif op == '-':\n",
    "        result = number1 - number2\n",
    "    elif op == '*':\n",
    "        result = number1 * number2\n",
    "    else:\n",
    "        result = number1 / number2\n",
    "        \n",
    "    print(result)\n",
    "    # code above this line\n",
    "\n",
    "easy_math(5, '*', 5)"
   ]
  },
  {
   "cell_type": "code",
   "execution_count": 91,
   "id": "8257fd5f",
   "metadata": {},
   "outputs": [
    {
     "name": "stdout",
     "output_type": "stream",
     "text": [
      "1.0\n"
     ]
    }
   ],
   "source": [
    "def easy_math(number1, op, number2):\n",
    "    # code below this line\n",
    "    if op == '+':\n",
    "        print(f\"{number1 + number2}\")\n",
    "    elif op == '-':\n",
    "        print(f\"{number1 - number2}\")\n",
    "    elif op == '*':\n",
    "        print(f\"{number1 * number2}\")\n",
    "    else:\n",
    "        print(f\"{number1 / number2}\")\n",
    "    # code above this line\n",
    "\n",
    "easy_math(5, '/', 5)"
   ]
  },
  {
   "cell_type": "markdown",
   "id": "3239a01d",
   "metadata": {},
   "source": [
    "## Bài 4:\n",
    "Viết hàm check_even() nhận vào tham số `number` và kiểm tra xem `number` có phải là số chẵn hay không.\n",
    "Ví dụ:\n",
    "```\n",
    "check_even(5)\n",
    "\n",
    "Output:\n",
    "5 là số chẵn\n",
    "```"
   ]
  },
  {
   "cell_type": "code",
   "execution_count": 101,
   "id": "f6a0918a",
   "metadata": {},
   "outputs": [
    {
     "name": "stdout",
     "output_type": "stream",
     "text": [
      "5 không là số chẵn\n"
     ]
    }
   ],
   "source": [
    "def check_even(number):\n",
    "    # code below this line\n",
    "    if number %2 == 0:\n",
    "        print(f\"{number} là số chẵn\")\n",
    "    else:\n",
    "        print(f\"{number} không là số chẵn\")\n",
    "    # code above this line\n",
    "\n",
    "check_even(5)"
   ]
  },
  {
   "cell_type": "code",
   "execution_count": 100,
   "id": "58206fa5",
   "metadata": {},
   "outputs": [
    {
     "name": "stdout",
     "output_type": "stream",
     "text": [
      "5 không là số chẵn\n"
     ]
    }
   ],
   "source": [
    "# sủ dụng toán tử 3 ngôi\n",
    "def check_even(number):\n",
    "    # code below this line\n",
    "    print(f\"{number} là số chẵn \" if number %2 == 0 else f\"{number} không là số chẵn\")\n",
    "    # code above this line\n",
    "\n",
    "check_even(5)"
   ]
  },
  {
   "cell_type": "markdown",
   "id": "27a4bd3b",
   "metadata": {},
   "source": [
    "## Bài 5:\n",
    "Viết hàm transform_str() nhận vào tham số `string` và in ra `string` ở dạng uppercase và lowercase. Ví dụ:\n",
    "```\n",
    "transform_str('Function Is Magic!')\n",
    "\n",
    "Output:\n",
    "Lowercase: function is magic!\n",
    "Uppercase: FUNCTION IS MAGIC!\n",
    "```"
   ]
  },
  {
   "cell_type": "code",
   "execution_count": 29,
   "id": "ae2891a8",
   "metadata": {},
   "outputs": [
    {
     "name": "stdout",
     "output_type": "stream",
     "text": [
      "Lowercase: function is magic!\n",
      "Uppercase: FUNCTION IS MAGIC!\n"
     ]
    }
   ],
   "source": [
    "def transform_str(string):\n",
    "    # code below this line\n",
    "    print(f\"Lowercase: {str.lower(string)}\")\n",
    "    print(f\"Uppercase: {str.upper(string)}\")\n",
    "    # code above this line\n",
    "\n",
    "transform_str('Function Is Magic!')"
   ]
  },
  {
   "cell_type": "code",
   "execution_count": 94,
   "id": "f6c6b74e",
   "metadata": {},
   "outputs": [
    {
     "name": "stdout",
     "output_type": "stream",
     "text": [
      "Lowercase: function is magic!\n",
      "Uppercase: FUNCTION IS MAGIC!\n"
     ]
    }
   ],
   "source": [
    "def transform_str(string):\n",
    "    # code below this line\n",
    "    print(f\"Lowercase: {string.lower()}\")\n",
    "    print(f\"Uppercase: {string.upper()}\")\n",
    "    # code above this line\n",
    "\n",
    "transform_str('Function Is Magic!')"
   ]
  },
  {
   "cell_type": "markdown",
   "id": "163331db",
   "metadata": {},
   "source": [
    "## Bài 6:\n",
    "Viết hàm calculate_factorial() nhận vào tham số `number` và in ra giai thừa của tham số đó. Ví dụ:\n",
    "```\n",
    "calculate_factorial(5)\n",
    "\n",
    "Output: 120\n",
    "```"
   ]
  },
  {
   "cell_type": "code",
   "execution_count": 97,
   "id": "0047ec9d",
   "metadata": {},
   "outputs": [
    {
     "name": "stdout",
     "output_type": "stream",
     "text": [
      "120\n"
     ]
    }
   ],
   "source": [
    "def calculate_factorial(number):\n",
    "    # code below this line\n",
    "    giai_thua = 1\n",
    "    for i in range(2, number + 1): # có thể cho từ 2 vì từ 1 nhân lên vẫn là chính nó => đỡ phí 1 vòng lặp\n",
    "        giai_thua *= i\n",
    "    print(giai_thua)\n",
    "    # code above this line\n",
    "\n",
    "calculate_factorial(5)"
   ]
  },
  {
   "cell_type": "markdown",
   "id": "6d381154",
   "metadata": {},
   "source": [
    "## Bài 7:\n",
    "Dãy Fibonacci là dãy vô hạn các số tự nhiên bắt đầu bằng 1 và 1, sau đó các số tiếp theo sẽ bằng tổng của 2 số liền trước nó. \n",
    "\n",
    "Cụ thể, các số đầu tiên của dãy Fibonacci là 1, 1, 2, 3, 5, 8, 13, 21, 34, 55, 89, 144, 233, 377, 610... \n",
    "\n",
    "Nhiệm vụ: Viết chương trình find_fibo() nhận vào tham số `index` và in ra số Fibonacci ở vị trí `index`. Nếu `index` bằng 0 thì in ra 0. Ví dụ:\n",
    "\n",
    "```\n",
    "find_fibo(1)\n",
    "\n",
    "Output:\n",
    "1\n",
    "```\n",
    "-------------------\n",
    "```\n",
    "find_fibo(6)\n",
    "\n",
    "Output:\n",
    "8\n",
    "```\n",
    "-------------------\n",
    "```\n",
    "find_fibo(0)\n",
    "\n",
    "Output:\n",
    "0\n",
    "```"
   ]
  },
  {
   "cell_type": "code",
   "execution_count": 54,
   "id": "0b8b2dc3",
   "metadata": {},
   "outputs": [
    {
     "name": "stdout",
     "output_type": "stream",
     "text": [
      "15\n"
     ]
    }
   ],
   "source": [
    "def find_fibo(index):\n",
    "    # code below this line\n",
    "    tong = 0\n",
    "    for i in range(1, index):\n",
    "        tong += i\n",
    "    print(tong)\n",
    "    # code above this line\n",
    "\n",
    "find_fibo(6)"
   ]
  },
  {
   "cell_type": "markdown",
   "id": "65db4551",
   "metadata": {},
   "source": [
    "## Bài 8:\n",
    "Viết hàm find_divisors() nhận vào một số nguyên dương `number` và in ra tất cả các ước của `number`. Ví dụ:\n",
    "```\n",
    "find_divisors(24)\n",
    "\n",
    "Output:\n",
    "Ước của 24 là: 1, 2, 3, 4, 6, 8, 12, 24\n",
    "```"
   ]
  },
  {
   "cell_type": "code",
   "execution_count": 114,
   "id": "d9b20c10",
   "metadata": {},
   "outputs": [
    {
     "name": "stdout",
     "output_type": "stream",
     "text": [
      "ước của 24 là: 1, 2, 3, 4, 6, 8, 12, 24, "
     ]
    }
   ],
   "source": [
    "def find_divisors(number):\n",
    "    # code below this line\n",
    "    print(f\"ước của {number} là: \", end= \"\")\n",
    "    for i in range(1, number +1):\n",
    "        if number % i == 0:\n",
    "            print(i, end=\", \")\n",
    "    # code above this line\n",
    "\n",
    "find_divisors(24)"
   ]
  },
  {
   "cell_type": "markdown",
   "id": "37000ab2",
   "metadata": {},
   "source": [
    "## Bài 9:\n",
    "Viết hàm solve_equation() để giải phương trình bậc nhất ax + b = 0 với `a` và `b` là 2 tham số đầu vào. Ví dụ:\n",
    "```\n",
    "solve_equation(2, -4)\n",
    "\n",
    "Output: \n",
    "x = 2\n",
    "```\n",
    "---\n",
    "```\n",
    "solve_equation(0, 0)\n",
    "\n",
    "Output: \n",
    "Phương trình vô số nghiệm\n",
    "```\n",
    "---\n",
    "```\n",
    "solve_equation(0, -4)\n",
    "\n",
    "Output: \n",
    "Phương trình vô nghiệm\n",
    "```"
   ]
  },
  {
   "cell_type": "code",
   "execution_count": 120,
   "id": "abfc5589",
   "metadata": {},
   "outputs": [
    {
     "name": "stdout",
     "output_type": "stream",
     "text": [
      "phương trình có nghiệm: x = 2\n"
     ]
    }
   ],
   "source": [
    "def solve_equation(a, b):\n",
    "    # code below this line\n",
    "    if a != 0:\n",
    "        print(f\"phương trình có nghiệm: x = {-b//a}\")\n",
    "    else:\n",
    "        if b == 0:\n",
    "            print(\"phương trình vô số nghiệm \")\n",
    "        else:\n",
    "            print(\"phương trình vô nghiệm \")\n",
    "    \n",
    "    # code above this line\n",
    "\n",
    "solve_equation(2, -4)"
   ]
  },
  {
   "cell_type": "markdown",
   "id": "a483ed69",
   "metadata": {},
   "source": [
    "## Bài 10:\n",
    "Viết hàm find_distance() nhận vào 4 tham số `x1`, `y1`, `x2`, `y2` là tọa độ của 2 điểm trên trục tọa độ và in ra khoảng cách của 2 điểm đó theo công thức:\n",
    "```\n",
    "distance = sqrt((x1-x2)^2 + (y1-y2)^2)\n",
    "```\n",
    "Tham khảo: https://toanthaydinh.com/cong-thuc-tinh-khoang-cach-giua-2-diem/\n",
    "Khoảng cách được làm tròn 2 chữ số thập phân.\n",
    "\n",
    "Ví dụ:\n",
    "```\n",
    "find_distance(5, 2, 1, 3)\n",
    "\n",
    "Output:\n",
    "4.12\n",
    "```"
   ]
  },
  {
   "cell_type": "code",
   "execution_count": 135,
   "id": "2dcf614e",
   "metadata": {},
   "outputs": [
    {
     "name": "stdout",
     "output_type": "stream",
     "text": [
      "4.12\n"
     ]
    }
   ],
   "source": [
    "def find_distance(x1, y1, x2, y2):\n",
    "    # code below this line\n",
    "    import math\n",
    "    distance = math.sqrt((x1 - x2)**2 + (y1 - y2)**2)\n",
    "    print(round((distance), 2))\n",
    "#round(number, ndigits)Nếu ndigits có giá trị âm=> vị trí thập phân bên trái dấu phẩy; ngược lại: dương=> bên phải dấy phẩy\n",
    "    # code above this line\n",
    "\n",
    "find_distance(5, 2, 1, 3)"
   ]
  },
  {
   "cell_type": "markdown",
   "id": "6236743e",
   "metadata": {},
   "source": [
    "## Bài 11(bonus):\n",
    "Viết hàm test_password() nhận vào một chuỗi(xem như là mật khẩu của người dùng).\n",
    "Sau đó kiểm tra xem đây có phải là mật khẩu mạnh hay không theo quy tắc sau:\n",
    "- Mật khẩu mạnh là mật khẩu phải có ít nhất 1 chữ hoa, 1 chữ thường, 1 số và 1 ký tự đặc biệt"
   ]
  },
  {
   "cell_type": "code",
   "execution_count": null,
   "id": "b24922e7",
   "metadata": {},
   "outputs": [],
   "source": [
    "def test_password(...parameter here...):\n",
    "    # code below this line\n",
    "    pass\n",
    "    # code above this line\n",
    "\n",
    "test_password(\"aW12R@_bc\")"
   ]
  }
 ],
 "metadata": {
  "kernelspec": {
   "display_name": "Python 3 (ipykernel)",
   "language": "python",
   "name": "python3"
  },
  "language_info": {
   "codemirror_mode": {
    "name": "ipython",
    "version": 3
   },
   "file_extension": ".py",
   "mimetype": "text/x-python",
   "name": "python",
   "nbconvert_exporter": "python",
   "pygments_lexer": "ipython3",
   "version": "3.8.10"
  }
 },
 "nbformat": 4,
 "nbformat_minor": 5
}
