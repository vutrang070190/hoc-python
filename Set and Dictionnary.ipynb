{
 "cells": [
  {
   "cell_type": "markdown",
   "id": "535b613d",
   "metadata": {},
   "source": [
    "# Set\n",
    "Set trong python là một tập các giá trị  không có thứ tự. Mỗi giá trị trong set là duy nhất,\n",
    "không thể lặp lại và bất biến( tức bạn không thể thay đổi giá trị các phần tử trong set).\n",
    "\n",
    "Tuy nhiên các set có thể thay đổi. Chúng ta có thể thêm, xóa các phần tử trong set.\n",
    "\n",
    "Các set  có thể được sử dụng để thực hiện các phép tập hợp như phép giao, hợp, …"
   ]
  },
  {
   "cell_type": "markdown",
   "id": "05d2382b",
   "metadata": {},
   "source": [
    "## Tạo một set\n",
    "Mỗi set được tạo bằng cách đặt các phần tử của nó vào trong dấu {}, được phân tách bằng dấu phẩy,\n",
    "hoặc sử dụng hàm dựng sẵn set().\n",
    "\n",
    "Các phần tử của set có thể thuộc nhiều kiểu dữ liệu khác  nhau như: numbers, string,… \n",
    "Nhưng các phần tử không được là các kiểu dữ liệu có thể thay đổi như list hay dictionary.\n",
    "\n",
    "Lưu ý nếu các phần tử trong set trùng nhau, sẽ tự động loại bỏ phần tử bị trùng lặp."
   ]
  },
  {
   "cell_type": "code",
   "execution_count": 5,
   "id": "7ee7f696",
   "metadata": {},
   "outputs": [
    {
     "name": "stdout",
     "output_type": "stream",
     "text": [
      "{1, 2, 'True'}\n",
      "{'a', 'd', 'b', 'c'}\n"
     ]
    }
   ],
   "source": [
    "set1 = {1,2, \"True\"}\n",
    "print(set1)\n",
    "\n",
    "list2 = ['a', 'b', 'c', 'd', 'c']\n",
    "set2 = set(list2) # ép kiểu set và tự động xóa phần tử trùng nhau\n",
    "print(set2)"
   ]
  },
  {
   "cell_type": "markdown",
   "id": "5d49287f",
   "metadata": {},
   "source": [
    "## Truy cập các phần tử trong set\n",
    "Không thể truy cập đến một phần tử thông qua vị trí của chúng, vì set không có thứ tự các phần tử.\n",
    "\n",
    "Thay vào đó, ta phải sử dụng vòng for .\n",
    "\n",
    "Cú pháp:\n",
    "\n",
    "`for <tên biến> in <set>:`\n",
    "\n",
    "Ví dụ:"
   ]
  },
  {
   "cell_type": "code",
   "execution_count": 7,
   "id": "ccbca0bd",
   "metadata": {},
   "outputs": [
    {
     "name": "stdout",
     "output_type": "stream",
     "text": [
      "{'apple', 'tomato', 'banana', 'mango'}\n",
      "apple\n",
      "tomato\n",
      "banana\n",
      "mango\n"
     ]
    }
   ],
   "source": [
    "set1 = {'apple', 'banana', 'mango', 'tomato'}\n",
    "print(set1)\n",
    "for item in set1:\n",
    "    print(item)\n",
    "    "
   ]
  },
  {
   "cell_type": "markdown",
   "id": "266e5830",
   "metadata": {},
   "source": [
    "## Thêm phần tử\n",
    "Chúng ta có thể thêm một phần tử vào set trong python bằng cách sử dụng hàm add()\n",
    "hoặc thêm nhiều bằng cách sử dụng hàm update()."
   ]
  },
  {
   "cell_type": "markdown",
   "id": "656455c9",
   "metadata": {},
   "source": [
    "### `<set>.add(giá trị)`"
   ]
  },
  {
   "cell_type": "code",
   "execution_count": 9,
   "id": "b78518c3",
   "metadata": {},
   "outputs": [
    {
     "name": "stdout",
     "output_type": "stream",
     "text": [
      "{4, 5, 6, 7, 8}\n",
      "{4, 5, 6, 7, 8, 'hello'}\n"
     ]
    }
   ],
   "source": [
    "myset = {4, 5, 7, 8}\n",
    "myset.add(6)\n",
    "print(myset)\n",
    "\n",
    "myset.add(\"hello\")\n",
    "print(myset)"
   ]
  },
  {
   "cell_type": "markdown",
   "id": "893f5ba8",
   "metadata": {},
   "source": [
    "### `<set>.update(tập hợp)`"
   ]
  },
  {
   "cell_type": "code",
   "execution_count": 10,
   "id": "1280f762",
   "metadata": {},
   "outputs": [
    {
     "name": "stdout",
     "output_type": "stream",
     "text": [
      "{4, 5, 6, 7, 8, 9, 10}\n"
     ]
    }
   ],
   "source": [
    "myset = {4, 5, 7, 8}\n",
    "myset.update([9, 10, 6, 4, 5]) \n",
    "\n",
    "print(myset)"
   ]
  },
  {
   "cell_type": "markdown",
   "id": "1866b3a1",
   "metadata": {},
   "source": [
    "## Xóa phần tử\n",
    "Để loại bỏ một phần tử trong set có nhiều cách."
   ]
  },
  {
   "cell_type": "markdown",
   "id": "21eaacea",
   "metadata": {},
   "source": [
    "### Hàm remove\n",
    "Nếu xóa phần tử bằng remove thì trong trường hợp phần tử cần xóa không có trong set thì sẽ phát sinh lỗi."
   ]
  },
  {
   "cell_type": "code",
   "execution_count": 11,
   "id": "161e1f5c",
   "metadata": {},
   "outputs": [
    {
     "name": "stdout",
     "output_type": "stream",
     "text": [
      "{'apple', 'cherry'}\n"
     ]
    }
   ],
   "source": [
    "myset = {'apple', 'banana', 'cherry'}\n",
    "myset.remove('banana')\n",
    "print(myset)"
   ]
  },
  {
   "cell_type": "markdown",
   "id": "373a796a",
   "metadata": {},
   "source": [
    "### Hàm discard\n",
    "Khi xóa bằng discard, nếu phần tử không có trong set thì sẽ không phát sinh lỗi."
   ]
  },
  {
   "cell_type": "code",
   "execution_count": 13,
   "id": "d7c37f43",
   "metadata": {},
   "outputs": [
    {
     "name": "stdout",
     "output_type": "stream",
     "text": [
      "{'apple', 'cherry', 'banana'}\n"
     ]
    }
   ],
   "source": [
    "myset = {'apple', 'banana', 'cherry'}\n",
    "myset.discard('bananal')\n",
    "print(myset)"
   ]
  },
  {
   "cell_type": "markdown",
   "id": "47bf98a3",
   "metadata": {},
   "source": [
    "### Hàm pop\n",
    "pop sẽ xóa phần tử cuối cùng, nên cẩn thận khi sử dụng popvì bạn sẽ không biết được phần tử cuối cùng là phần tử nào."
   ]
  },
  {
   "cell_type": "code",
   "execution_count": 19,
   "id": "b00e83ac",
   "metadata": {},
   "outputs": [
    {
     "name": "stdout",
     "output_type": "stream",
     "text": [
      "apple\n",
      "{'cherry', 'banana'}\n"
     ]
    }
   ],
   "source": [
    "myset = {'apple', 'banana', 'cherry'}\n",
    "value = myset.pop()\n",
    "print(value)\n",
    "print(myset)\n"
   ]
  },
  {
   "cell_type": "markdown",
   "id": "180f7304",
   "metadata": {},
   "source": [
    "### Hàm clear\n",
    "Hàm clear() sẽ xóa toàn bộ các phần tử trong set."
   ]
  },
  {
   "cell_type": "code",
   "execution_count": 17,
   "id": "3de28c2e",
   "metadata": {},
   "outputs": [
    {
     "name": "stdout",
     "output_type": "stream",
     "text": [
      "set()\n"
     ]
    }
   ],
   "source": [
    "myset = {'apple', 'banana', 'cherry'}\n",
    "myset.clear()\n",
    "print(myset)"
   ]
  },
  {
   "cell_type": "markdown",
   "id": "9c93876e",
   "metadata": {},
   "source": [
    "### Hàm del\n",
    "Hàm del sẽ xóa set trong python."
   ]
  },
  {
   "cell_type": "code",
   "execution_count": 21,
   "id": "46030225",
   "metadata": {},
   "outputs": [
    {
     "ename": "NameError",
     "evalue": "name 'myset' is not defined",
     "output_type": "error",
     "traceback": [
      "\u001b[1;31m---------------------------------------------------------------------------\u001b[0m",
      "\u001b[1;31mNameError\u001b[0m                                 Traceback (most recent call last)",
      "Input \u001b[1;32mIn [21]\u001b[0m, in \u001b[0;36m<module>\u001b[1;34m\u001b[0m\n\u001b[0;32m      1\u001b[0m myset \u001b[38;5;241m=\u001b[39m {\u001b[38;5;124m'\u001b[39m\u001b[38;5;124mapple\u001b[39m\u001b[38;5;124m'\u001b[39m, \u001b[38;5;124m'\u001b[39m\u001b[38;5;124mbanana\u001b[39m\u001b[38;5;124m'\u001b[39m, \u001b[38;5;124m'\u001b[39m\u001b[38;5;124mcherry\u001b[39m\u001b[38;5;124m'\u001b[39m}\n\u001b[0;32m      2\u001b[0m \u001b[38;5;28;01mdel\u001b[39;00m myset\n\u001b[1;32m----> 3\u001b[0m \u001b[38;5;28mprint\u001b[39m(\u001b[43mmyset\u001b[49m)\n",
      "\u001b[1;31mNameError\u001b[0m: name 'myset' is not defined"
     ]
    }
   ],
   "source": [
    "myset = {'apple', 'banana', 'cherry'}\n",
    "del myset\n",
    "print(myset)"
   ]
  },
  {
   "cell_type": "markdown",
   "id": "a20f121d",
   "metadata": {},
   "source": [
    "# Dictionnary\n",
    "\n",
    "Dictionnary là một dạng list đặc biệt, nó khác list ở chỗ không lưu trữ các giá trị theo chỉ số vị trí, thay vào đó Dictionary sẽ lưu trữ các giá trị theo key\n",
    "\n",
    "##### Tài liệu tham khảo: https://www.w3schools.com/python/python_dictionaries.asp\n",
    "\n",
    "### Khai báo một dictionary\n",
    "\n",
    "Cú pháp:\n",
    "\n",
    "`<tên dictionary> = {}`\n",
    "\n",
    "### Dictionary được khai báo bằng hai dấu hoặc nhọn\n",
    "\n",
    "Đây là một dictionary rỗng\n",
    "\n",
    "<b>Ví dụ 1:</b>\n",
    "\n",
    "`a = {}`\n",
    "\n",
    "a là một dictionary rỗng\n",
    "\n",
    "<b>Ví dụ 2:</b>\n",
    "\n",
    "`b = {\"name\": \"John Smith\", \"course\": \"Python\", \"is_studying\": True}`\n",
    "\n",
    "b là một dictionary có 3 key, mõi key đều có một giá trị riêng biệt\n",
    "\n",
    "Key có thể mang kiểu dữ liệu là chuỗi hoặc số\n",
    "\n",
    "##### Mỗi một key đều phải có giá trị của riêng nó, không thể khai báo key không có giá trị\n",
    "\n",
    "<b>Hãy khai báo một dictionary có 3 phần tử</b>"
   ]
  },
  {
   "cell_type": "code",
   "execution_count": null,
   "id": "d835f461",
   "metadata": {},
   "outputs": [],
   "source": []
  },
  {
   "cell_type": "markdown",
   "id": "be1e321c",
   "metadata": {},
   "source": [
    "### Thêm key vào dictionary\n",
    "\n",
    "Cú pháp:\n",
    "\n",
    "`<tên dictionary>[<key>] = <giá trị>`\n",
    "\n",
    "<b>Ví dụ 1:</b>\n",
    "\n",
    "`a = {}\n",
    "a[\"brand\"] = \"Aquafina\"`\n",
    "\n",
    "a là một dictionary có một phần tử, phần tử đó có key là \"brand\" và giá trị của key đó là \"Aquafina\"\n",
    "\n",
    "##### Lưu ý, nếu trong trường hợp đã tồn tại key trong dictionary, dùng lệnh trên sẽ thay đổi giá trị key đó (không phải thêm key khác vào)\n",
    "\n",
    "<b>Ví dụ 2:</b>\n",
    "\n",
    "`a = {}\n",
    "a[\"brand\"] = \"Aquafina\"\n",
    "a[\"brand\"] = \"Lavie\"`\n",
    "\n",
    "a vẫn là một dictionary có một phần tử, phần tử đó có key là \"brand\" và giá trị của key đó là \"Lavie\"\n",
    "\n",
    "<b>Hãy khai báo một dictionary không có phần tử nào, sau đó thêm một phần tử vào dictionary đó</b>"
   ]
  },
  {
   "cell_type": "code",
   "execution_count": null,
   "id": "7573ebef",
   "metadata": {},
   "outputs": [],
   "source": []
  },
  {
   "cell_type": "markdown",
   "id": "65c98825",
   "metadata": {},
   "source": [
    "### Truy xuất phần tử trong dictionary\n",
    "\n",
    "Cú pháp:\n",
    "\n",
    "`<tên dictionary>[<key>]`\n",
    "\n",
    "<b>Ví dụ:</b>\n",
    "\n",
    "`b = {\"name\": \"John Smith\", \"course\": \"Python\", \"is_studying\": True}\n",
    "print(b[\"name\"])`\n",
    "\n",
    "Màn hình sẽ in: John Smith\n",
    "\n",
    "<b>Hãy khai báo một dictionary rồi in ra màn hình một phần tử bất kỳ trong dictionary đó</b>"
   ]
  },
  {
   "cell_type": "code",
   "execution_count": null,
   "id": "f6159385",
   "metadata": {},
   "outputs": [],
   "source": []
  },
  {
   "cell_type": "markdown",
   "id": "afa92f87",
   "metadata": {},
   "source": [
    "### Sao chép dictionary\n",
    "\n",
    "##### Việc sao chép dictionary được thực hiện hệt như sao chép list, chúng ta cần phải sử dụng lệnh copy()"
   ]
  },
  {
   "cell_type": "markdown",
   "id": "ef7e800d",
   "metadata": {},
   "source": [
    "### Duyệt dictionary bằng lệnh for\n",
    "\n",
    "Cú pháp:\n",
    "\n",
    "`for <tên biến> in <tên dictionary>:`\n",
    "\n",
    "Biến sẽ có giá trị là từng key trong dictionary\n",
    "\n",
    "<b>Ví dụ:</b>\n",
    "\n",
    "`a = {\"name\": \"John Smith\", \"course\": \"Python\", \"is_studying\": True}\n",
    "for i in a:\n",
    "    print(i)`\n",
    "    \n",
    "Màn hình sẽ in ra:\n",
    "\n",
    "name\n",
    "\n",
    "course\n",
    "\n",
    "is_studying\n",
    "\n",
    "<b>Hãy khai báo một dictionary rồi in ra màn hình toàn bộ giá trị trong dictionary đó</b>"
   ]
  },
  {
   "cell_type": "code",
   "execution_count": null,
   "id": "3bdd1508",
   "metadata": {},
   "outputs": [],
   "source": []
  },
  {
   "cell_type": "markdown",
   "id": "6d7615c0",
   "metadata": {},
   "source": [
    "## Ghép dictionary\n",
    "Cú pháp:\n",
    "\n",
    "`<dictionary cần ghéo>.update(<dictionary được ghép>)`\n",
    "\n",
    "Dictionary cần ghép sẽ có thêm các key và value từ dictionary được ghép thêm vào."
   ]
  },
  {
   "cell_type": "code",
   "execution_count": null,
   "id": "b751b286",
   "metadata": {},
   "outputs": [],
   "source": []
  }
 ],
 "metadata": {
  "kernelspec": {
   "display_name": "Python 3 (ipykernel)",
   "language": "python",
   "name": "python3"
  },
  "language_info": {
   "codemirror_mode": {
    "name": "ipython",
    "version": 3
   },
   "file_extension": ".py",
   "mimetype": "text/x-python",
   "name": "python",
   "nbconvert_exporter": "python",
   "pygments_lexer": "ipython3",
   "version": "3.8.10"
  }
 },
 "nbformat": 4,
 "nbformat_minor": 5
}
