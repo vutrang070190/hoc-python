{
 "cells": [
  {
   "cell_type": "code",
   "execution_count": 7,
   "id": "599cda60",
   "metadata": {},
   "outputs": [
    {
     "name": "stdout",
     "output_type": "stream",
     "text": [
      "Diện tích hình tròn = 31415.926535897932\n",
      "Chu vi hình tròn = 628.3185307179587\n"
     ]
    }
   ],
   "source": [
    "'''\n",
    "[Thực hành] Xây dựng lớp hình tròn và vẽ\n",
    "Xây dựng lớp hình tròn với thuộc tính là bán kính, tọa độ của tâm hình tròn.\n",
    "Các phương thức vẽ hình tròn, tính chu vi, diện tích hình tròn.\n",
    "'''\n",
    "\n",
    "import turtle\n",
    "import math\n",
    "\n",
    "class Circle():\n",
    "    def __init__(self, r, x, y):\n",
    "        '''\n",
    "        Khởi tạo tọa độ\n",
    "        '''\n",
    "        self.r = r\n",
    "        self.x = x\n",
    "        self.y = y\n",
    "        \n",
    "    def draw_circle(self):\n",
    "        '''phương thức vẽ đường tròn'''\n",
    "        pen = turtle.Turtle()\n",
    "        pen.hideturtle()\n",
    "        pen.pensize = 1\n",
    "        pen.pencolor(\"red\")\n",
    "        \n",
    "        pen.penup()\n",
    "        pen.goto(self.x, self.y)\n",
    "        pen.pendown()\n",
    "        \n",
    "        pen.circle(self.r)\n",
    "        \n",
    "        turtle.done()\n",
    "        \n",
    "        \n",
    "    def dien_tich(self):\n",
    "        '''Phương thức tính diện tích hình tròn'''\n",
    "        return math.pi * self.r ** 2\n",
    "        \n",
    "        \n",
    "    def chu_vi(self):\n",
    "        '''phương thức tính chu vi hình tròn'''\n",
    "        return 2 * math.pi * self.r\n",
    "    \n",
    "    \n",
    "'''\n",
    "Tạo đối tượng hình tròn và thực thi các hàm để kiểm tra\n",
    "'''\n",
    "c = Circle(100, -200, 0)\n",
    "c.draw_circle()\n",
    "print(f\"Diện tích hình tròn = {c.dien_tich()}\")\n",
    "print(f\"Chu vi hình tròn = {c.chu_vi()}\")"
   ]
  },
  {
   "cell_type": "code",
   "execution_count": 8,
   "id": "d284b717",
   "metadata": {},
   "outputs": [
    {
     "name": "stdout",
     "output_type": "stream",
     "text": [
      "Tiếng Anh của 'Con mèo' là: \n",
      "cat\n",
      "Đúng\n",
      "Nhập 0 để tiếp tục : 0\n",
      "Tiếng Anh của 'Con thỏ' là: \n",
      "dog\n",
      "Sai\n",
      "Nhập 0 để tiếp tục : 1\n",
      "Kết thúc\n"
     ]
    }
   ],
   "source": [
    "'''\n",
    "[Thực hành] Python program to build flashcard using class in Python\n",
    "Xây dựng lớp flashcard đơn giản. Khi chạy chương trình sẽ hiển thị 1 từ tiếng Việt,\n",
    "yêu cầu người dùng phải nhập vào từ tương ứng trong tiếng Anh.\n",
    "Chương trình sẽ tự đánh giá câu trả lời của người dùng đúng hoặc sai.\n",
    "'''\n",
    "\n",
    "import random\n",
    "\n",
    "class flashcard:\n",
    "    \n",
    "    def __init__(self):\n",
    "        self.animals = {'Con ong': 'bee', \n",
    "                        'Con thỏ': 'rabbit',\n",
    "                        'Con cua': 'crab',\n",
    "                        'Con mèo': 'cat',\n",
    "                        'Con ngựa': 'horse',\n",
    "                        'Con khỉ': 'monkey',\n",
    "                        'Con lừa': 'donkey'}\n",
    "    \n",
    "    \n",
    "    def quiz(self):\n",
    "        while True:\n",
    "            vietnamese, english = random.choice(list(self.animals.items()))\n",
    "        \n",
    "            print(\"Tiếng Anh của '{}' là: \".format(vietnamese))\n",
    "            user_answer = input()\n",
    "        \n",
    "            if user_answer.lower() == english:\n",
    "                print(\"Đúng\")\n",
    "            else:\n",
    "                print(\"Sai\")\n",
    "\n",
    "            option = int(input(\"Nhập 0 để tiếp tục : \"))\n",
    "            if option:\n",
    "                break\n",
    "                \n",
    "        print(\"Kết thúc\")\n",
    "        \n",
    "        \n",
    "# Tạo đối tượng của lớp và chạy chương trình để kiểm tra\n",
    "\n",
    "fc = flashcard()\n",
    "fc.quiz()\n",
    "\n",
    "                \n",
    "        \n",
    "            \n",
    "    "
   ]
  },
  {
   "cell_type": "code",
   "execution_count": null,
   "id": "a91c3ee7",
   "metadata": {},
   "outputs": [],
   "source": [
    "'''\n",
    "[Bài tập] Continuous Clock with Python Turtle\n",
    "Xây dựng chương trình mô phỏng đồng hồ như hình dưới:\n",
    "'''\n",
    "\n"
   ]
  }
 ],
 "metadata": {
  "kernelspec": {
   "display_name": "Python 3 (ipykernel)",
   "language": "python",
   "name": "python3"
  },
  "language_info": {
   "codemirror_mode": {
    "name": "ipython",
    "version": 3
   },
   "file_extension": ".py",
   "mimetype": "text/x-python",
   "name": "python",
   "nbconvert_exporter": "python",
   "pygments_lexer": "ipython3",
   "version": "3.8.10"
  }
 },
 "nbformat": 4,
 "nbformat_minor": 5
}
