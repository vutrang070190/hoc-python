{
 "cells": [
  {
   "cell_type": "markdown",
   "id": "752d0fc5",
   "metadata": {},
   "source": [
    "### Bài 1\n",
    "viết hàm có dữ liệu đầu vào là 2 số a, b. Số nào lớn hơn thì in ra bảng cửu chương của số đó\n"
   ]
  },
  {
   "cell_type": "code",
   "execution_count": 3,
   "id": "ab3e2be3",
   "metadata": {},
   "outputs": [
    {
     "name": "stdout",
     "output_type": "stream",
     "text": [
      "3 * 1 = 3\n",
      "3 * 2 = 6\n",
      "3 * 3 = 9\n",
      "3 * 4 = 12\n",
      "3 * 5 = 15\n",
      "3 * 6 = 18\n",
      "3 * 7 = 21\n",
      "3 * 8 = 24\n",
      "3 * 9 = 27\n",
      "3 * 10 = 30\n"
     ]
    }
   ],
   "source": [
    "def calc_multiplication_table(a, b):\n",
    "    max_value = a if a> b else b\n",
    "    for i in range(1, 11):\n",
    "        print(f\"{max_value} * {i} = {max_value * i}\")\n",
    "    \n",
    "            \n",
    "calc_multiplication_table(3, 2)\n",
    "    \n",
    "        "
   ]
  },
  {
   "cell_type": "markdown",
   "id": "795cfc4e",
   "metadata": {},
   "source": [
    "Viết hàm `remove_string` có dữ liệu đầu vào là 2 chuỗi a và b, hãy tìm trong chuỗi a có chuỗi b hay không, nếu có hãy xóa toán bộ chuỗi b trong a.\n",
    "\n",
    "Sau đó trả về chuỗi a mới\n",
    "\n",
    "Ví dụ:\n",
    "\n",
    "chuoi1 = \"xin chào các bạn, các bạn có khỏe không?\"\n",
    "\n",
    "chuoi2 = \"các bạn\"\n",
    "\n",
    "chuoi3 = remove_string(chuoi1,chuoi2)\n",
    "\n",
    "print(chuoi3)\n",
    "Kết quả in ra là:\n",
    "xin chào ,  có khỏe không\n"
   ]
  },
  {
   "cell_type": "code",
   "execution_count": 7,
   "id": "9060f822",
   "metadata": {},
   "outputs": [
    {
     "name": "stdout",
     "output_type": "stream",
     "text": [
      "xin chào ,  có khỏe không?\n"
     ]
    }
   ],
   "source": [
    "def remove_string(a, b):\n",
    "    if b in a:\n",
    "         a = a.replace(b, '')\n",
    "    return a\n",
    "\n",
    "chuoi1 = \"xin chào các bạn, các bạn có khỏe không?\"\n",
    "chuoi2 = \"các bạn\"\n",
    "chuoi3 = remove_string(chuoi1,chuoi2)\n",
    "print(chuoi3)"
   ]
  },
  {
   "cell_type": "markdown",
   "id": "f4c5c64b",
   "metadata": {},
   "source": [
    "## Bài 3\n",
    "viết hàm nhập vào 4 số nguyên, trả về số lớn thứ 2"
   ]
  },
  {
   "cell_type": "code",
   "execution_count": 8,
   "id": "d68dd440",
   "metadata": {},
   "outputs": [
    {
     "name": "stdout",
     "output_type": "stream",
     "text": [
      "[41, 75, 76, 95]\n"
     ]
    },
    {
     "data": {
      "text/plain": [
       "76"
      ]
     },
     "execution_count": 8,
     "metadata": {},
     "output_type": "execute_result"
    }
   ],
   "source": [
    "\n",
    "def find_2nd_max_value(num1, num2, num3, num4):\n",
    "    value = [num1, num2, num3, num4]\n",
    "    value.sort()\n",
    "    print(value)\n",
    "    return value[-2]\n",
    "    \n",
    "find_2nd_max_value(76, 41, 95, 75)"
   ]
  },
  {
   "cell_type": "code",
   "execution_count": 12,
   "id": "434fceca",
   "metadata": {},
   "outputs": [
    {
     "data": {
      "text/plain": [
       "76"
      ]
     },
     "execution_count": 12,
     "metadata": {},
     "output_type": "execute_result"
    }
   ],
   "source": [
    "def find_2nd_max_value(num1, num2, num3, num4):\n",
    "    max_value = num1\n",
    "    if num2 > max_value:\n",
    "        max_value = num2\n",
    "    if num3 > max_value:\n",
    "        max_value = num3\n",
    "    if num4 > max_value:\n",
    "        max_value = num4\n",
    "        \n",
    "        \n",
    "    max_value2 = num1\n",
    "    if num2 > max_value2 and num2 < max_value:\n",
    "        max_value = num2\n",
    "    if num3 > max_value2 and num2 < max_value:\n",
    "        max_value = num3\n",
    "    if num4 > max_value2 and num2 < max_value:\n",
    "        max_value = num4\n",
    "        \n",
    "        \n",
    "    return max_value2\n",
    "\n",
    "find_2nd_max_value(76,41,95,75)"
   ]
  },
  {
   "cell_type": "markdown",
   "id": "62b434b7",
   "metadata": {},
   "source": [
    "## Bài 4:\n",
    "treepersqkm là 1 dictionary hiển thị số lượng cây trên mỗi km vuông ở các quốc gia khác nhau. Hãy viết 1 hàm nhận về dictionary này và trả về danh sách tên các quốc gia có hơn 20000 cây trên mỗi km vuông\n"
   ]
  },
  {
   "cell_type": "code",
   "execution_count": 14,
   "id": "577dd333",
   "metadata": {},
   "outputs": [
    {
     "data": {
      "text/plain": [
       "['Finland',\n",
       " 'Taiwan',\n",
       " 'Japan',\n",
       " 'Russia',\n",
       " 'Brazil',\n",
       " 'Canada',\n",
       " 'Bulgaria',\n",
       " 'France',\n",
       " 'Greece',\n",
       " 'United States']"
      ]
     },
     "execution_count": 14,
     "metadata": {},
     "output_type": "execute_result"
    }
   ],
   "source": [
    "def finter_contries(data):\n",
    "    result = []\n",
    "    for country in data:\n",
    "        if data[country] > 20000:\n",
    "            result.append(country)\n",
    "    return result\n",
    "\n",
    "\n",
    "\n",
    "treepersqkm = {\"Finland\": 90652, \"Taiwan\": 69593, \"Japan\": 49894, \"Russia\": 41396, \"Brazil\": 39542, \"Canada\": 36388, \"Bulgaria\": 24987, \"France\": 24436, \"Greece\": 24323, \"United States\": 23513, \"Turkey\": 11126, \"India\": 11109, \"Denmark\": 6129, \"Syria\": 534, \"Saudi Arabia\": 1}\n",
    "finter_contries(treepersqkm)"
   ]
  },
  {
   "cell_type": "code",
   "execution_count": null,
   "id": "6b00d277",
   "metadata": {},
   "outputs": [],
   "source": []
  }
 ],
 "metadata": {
  "kernelspec": {
   "display_name": "Python 3 (ipykernel)",
   "language": "python",
   "name": "python3"
  },
  "language_info": {
   "codemirror_mode": {
    "name": "ipython",
    "version": 3
   },
   "file_extension": ".py",
   "mimetype": "text/x-python",
   "name": "python",
   "nbconvert_exporter": "python",
   "pygments_lexer": "ipython3",
   "version": "3.8.10"
  }
 },
 "nbformat": 4,
 "nbformat_minor": 5
}
