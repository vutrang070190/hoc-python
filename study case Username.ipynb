{
 "cells": [
  {
   "cell_type": "code",
   "execution_count": 7,
   "id": "c7c33550",
   "metadata": {},
   "outputs": [],
   "source": [
    "from tkinter import *\n",
    "from tkinter import messagebox\n",
    "\n",
    "windows = Tk()\n",
    "windows.title(\"Đăng nhập\")\n",
    "\n",
    "windows.geometry(\"400x300\")\n",
    "windows.eval('tk::PlaceWindow . center')\n",
    "\n",
    "username_lbl = Label(windows, text = 'Username')\n",
    "password_lbl = Label(windows, text = 'Password')\n",
    "\n",
    "username = Entry(windows)\n",
    "password = Entry(windows)\n",
    "\n",
    "\n",
    "list_info = []\n",
    "\n",
    "\n",
    "def clear_entry_value():\n",
    "    username.delete(0, END)\n",
    "    password.delete(0, END)\n",
    "    \n",
    "\n",
    "def add_password():\n",
    "    global list_info  \n",
    "    print(f\"Username: {username.get()}\")\n",
    "    print(f\"Password: {password.get()}\")\n",
    "    info = (username.get(), password.get())\n",
    "    list_info.append(info)\n",
    "    print(list_info)\n",
    "    messagebox.showinfo(\"Add Password\", \"Password added successfully!\")\n",
    "    clear_entry_value()\n",
    "\n",
    "def on_closing():  \n",
    "     if messagebox.askokcancel(\"Quit\", \"Do you want to quit?\"):\n",
    "            windows.destroy()\n",
    "    \n",
    "add_btn = Button(windows, text = 'Add', command = add_password)\n",
    "close_btn = Button(windows, text = 'Close', command = on_closing)\n",
    "\n",
    "\n",
    "username_lbl.grid(row = 0, column = 0)\n",
    "password_lbl.grid(row = 1, column = 0)\n",
    "username.grid(row = 0, column = 1)\n",
    "password.grid(row = 1, column = 1)\n",
    "add_btn.grid(row = 2, column = 0)\n",
    "close_btn.grid(row = 2, column = 1)\n",
    "\n",
    "\n",
    "windows.mainloop()\n"
   ]
  },
  {
   "cell_type": "code",
   "execution_count": null,
   "id": "6e5795a3",
   "metadata": {},
   "outputs": [],
   "source": []
  }
 ],
 "metadata": {
  "kernelspec": {
   "display_name": "Python 3 (ipykernel)",
   "language": "python",
   "name": "python3"
  },
  "language_info": {
   "codemirror_mode": {
    "name": "ipython",
    "version": 3
   },
   "file_extension": ".py",
   "mimetype": "text/x-python",
   "name": "python",
   "nbconvert_exporter": "python",
   "pygments_lexer": "ipython3",
   "version": "3.8.10"
  }
 },
 "nbformat": 4,
 "nbformat_minor": 5
}
