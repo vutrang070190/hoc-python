{
 "cells": [
  {
   "cell_type": "code",
   "execution_count": 5,
   "id": "5f99ba42",
   "metadata": {},
   "outputs": [],
   "source": [
    "from tkinter import *\n",
    "\n",
    "windows = Tk()\n",
    "windows.title(\"Registration\")\n",
    "\n",
    "registration_text = Label(windows, text = \"Registration\")\n",
    "fullname_text = Label(windows, text = \"Full name\")\n",
    "address_text = Label(windows, text = \"Address\")\n",
    "email_text = Label(windows, text = \"Email\")\n",
    "\n",
    "\n",
    "fullname_input = Entry(windows)\n",
    "address_input = Entry(windows)\n",
    "email_input = Entry(windows)\n",
    "\n",
    "register_btn = Button(windows, text = \"Register\")\n",
    "\n",
    "registration_text.pack()\n",
    "fullname_text.pack()\n",
    "fullname_input.pack()\n",
    "address_text.pack()\n",
    "address_input.pack()\n",
    "email_text.pack()\n",
    "email_input.pack()\n",
    "register_btn.pack()\n",
    "\n",
    "windows.mainloop()"
   ]
  },
  {
   "cell_type": "code",
   "execution_count": null,
   "id": "703b2c24",
   "metadata": {},
   "outputs": [],
   "source": []
  }
 ],
 "metadata": {
  "kernelspec": {
   "display_name": "Python 3 (ipykernel)",
   "language": "python",
   "name": "python3"
  },
  "language_info": {
   "codemirror_mode": {
    "name": "ipython",
    "version": 3
   },
   "file_extension": ".py",
   "mimetype": "text/x-python",
   "name": "python",
   "nbconvert_exporter": "python",
   "pygments_lexer": "ipython3",
   "version": "3.8.10"
  }
 },
 "nbformat": 4,
 "nbformat_minor": 5
}
