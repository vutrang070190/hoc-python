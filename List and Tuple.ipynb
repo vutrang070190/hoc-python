{
 "cells": [
  {
   "cell_type": "markdown",
   "metadata": {},
   "source": [
    "## Review: type()"
   ]
  },
  {
   "cell_type": "code",
   "execution_count": 4,
   "metadata": {},
   "outputs": [
    {
     "name": "stdout",
     "output_type": "stream",
     "text": [
      "<class 'int'>\n",
      "<class 'float'>\n",
      "<class 'bool'>\n",
      "<class 'str'>\n"
     ]
    }
   ],
   "source": [
    "# Python có 4 kiểu dữ liệu cơ bản\n",
    "#print(type(int, float, str, bool))\n",
    "print(type(4))\n",
    "print(type(4.5))\n",
    "print(type(True))\n",
    "print(type('hello'))"
   ]
  },
  {
   "cell_type": "markdown",
   "metadata": {},
   "source": [
    "## list là gì?"
   ]
  },
  {
   "cell_type": "code",
   "execution_count": null,
   "metadata": {},
   "outputs": [],
   "source": [
    "# Ví dụ\n",
    "diem_van_1 = 7\n",
    "diem_toan_1 = 8\n",
    "diem_anh_van_1 = 6.5\n",
    "diem_van_2 = 7\n",
    "diem_toan_2 = 8\n",
    "diem_anh_van_2 = 6.5"
   ]
  },
  {
   "cell_type": "code",
   "execution_count": null,
   "metadata": {},
   "outputs": [],
   "source": [
    "# Sử dụng list\n",
    "[1,2,3]\n",
    "['python', 'hello']\n",
    "[True, False]\n",
    "[1.2, 1.3, -2.0]\n",
    "[1, 'python', True, -10, [1, 2, 3]]"
   ]
  },
  {
   "cell_type": "code",
   "execution_count": 7,
   "metadata": {},
   "outputs": [
    {
     "name": "stdout",
     "output_type": "stream",
     "text": [
      "monday\n",
      "tuesday\n",
      "wednesday\n",
      "thurday\n",
      "--------------------\n",
      "monday\n",
      "tuesday\n",
      "wednesday\n",
      "thurday\n"
     ]
    }
   ],
   "source": [
    "weekdays = ['monday', 'tuesday', 'wednesday', 'thurday']\n",
    "for day in weekdays:\n",
    "    print(day)\n",
    "print('-' * 20)\n",
    "for i in range (len(weekdays)):\n",
    "    print(weekdays[i])\n",
    "\n"
   ]
  },
  {
   "cell_type": "markdown",
   "metadata": {},
   "source": [
    "### Thực hành: Viết chương trình tạo ra một list các string khác nhau và đếm tổng số lượng string dài hơn 3 kí tự"
   ]
  },
  {
   "cell_type": "code",
   "execution_count": 1,
   "metadata": {},
   "outputs": [
    {
     "name": "stdout",
     "output_type": "stream",
     "text": [
      "abcd\n",
      "abcdef\n",
      "có 2 string có độ dài hơn 3 ký tự \n"
     ]
    }
   ],
   "source": [
    "random_contents = ['abc', 'bcd', 'abcd', 'abcdef']\n",
    "count = 0\n",
    "for string in random_contents:\n",
    "    if len(string) > 3:\n",
    "        print(string)\n",
    "        count += 1\n",
    "    \n",
    "print(f\"có {count} string có độ dài hơn 3 ký tự \")\n",
    "        \n",
    "        \n",
    "    "
   ]
  },
  {
   "cell_type": "markdown",
   "metadata": {},
   "source": [
    "### Thực hành 2: Viết chương trình nhận vào 2 list và trả về True nếu 2 list có ít nhất 1 phần tử chung, ngược lại trả về False"
   ]
  },
  {
   "cell_type": "code",
   "execution_count": null,
   "metadata": {},
   "outputs": [],
   "source": []
  },
  {
   "cell_type": "markdown",
   "metadata": {},
   "source": [
    "## Các thao tác cơ bản với list"
   ]
  },
  {
   "cell_type": "markdown",
   "metadata": {},
   "source": [
    "### Kiểm tra độ dài list"
   ]
  },
  {
   "cell_type": "code",
   "execution_count": 18,
   "metadata": {},
   "outputs": [
    {
     "name": "stdout",
     "output_type": "stream",
     "text": [
      "6\n"
     ]
    }
   ],
   "source": [
    "numbers = [0,1,2,3,4,5]\n",
    "print(len(numbers))"
   ]
  },
  {
   "cell_type": "markdown",
   "metadata": {},
   "source": [
    "### Truy cập phần tử trên list"
   ]
  },
  {
   "cell_type": "code",
   "execution_count": 11,
   "metadata": {},
   "outputs": [
    {
     "name": "stdout",
     "output_type": "stream",
     "text": [
      "[0, 1, 2, 3, 4]\n",
      "1\n",
      "[0, 1, 100, 3, 4]\n",
      "100\n"
     ]
    }
   ],
   "source": [
    "numbers = [0, 1, 2, 3, 4]\n",
    "print(numbers)\n",
    "print(numbers[-4])\n",
    "\n",
    "numbers[2] = 100\n",
    "print(numbers)\n",
    "print(numbers[2])"
   ]
  },
  {
   "cell_type": "markdown",
   "metadata": {},
   "source": [
    "### Thực hành: Tạo một list 10 số tự nhiên và in ra các phần tử trong list"
   ]
  },
  {
   "cell_type": "code",
   "execution_count": 32,
   "metadata": {},
   "outputs": [
    {
     "name": "stdout",
     "output_type": "stream",
     "text": [
      "1 2 3 4 5 6 7 8 9 10 "
     ]
    }
   ],
   "source": [
    "numbers = [1, 2, 3, 4, 5, 6, 7, 8, 9, 10]\n",
    "i = 0\n",
    "for num in numbers:\n",
    "    print(num, end= \" \")"
   ]
  },
  {
   "cell_type": "markdown",
   "metadata": {},
   "source": [
    "### Thực hành 2: Tạo ra một list con chưa 2 phần tử cuối cùng từ list đã tạo ở trên"
   ]
  },
  {
   "cell_type": "code",
   "execution_count": 8,
   "metadata": {},
   "outputs": [
    {
     "name": "stdout",
     "output_type": "stream",
     "text": [
      "[8, 9]\n",
      "[8, 9]\n",
      "[8, 9]\n"
     ]
    }
   ],
   "source": [
    "numbers = [0, 1, 2, 3, 4, 5, 6, 7, 8, 9]\n",
    "#cách 1\n",
    "sub_list = [numbers[-2], numbers[-1]]\n",
    "print(sub_list)\n",
    "\n",
    "# cách 2: sử dung độ dài\n",
    "sublist = [numbers[len(numbers) -2], numbers[len(numbers) - 1]]\n",
    "print(sublist)\n",
    "\n",
    "# cách 3: cắt\n",
    "sub_list = numbers[-2:]\n",
    "print(sub_list)\n"
   ]
  },
  {
   "cell_type": "markdown",
   "metadata": {},
   "source": [
    "### Cộng list"
   ]
  },
  {
   "cell_type": "code",
   "execution_count": 12,
   "metadata": {},
   "outputs": [
    {
     "name": "stdout",
     "output_type": "stream",
     "text": [
      "[1, 2, 3, 4, 5, 6]\n",
      "[1, 2, 3, 1, 2, 3, 1, 2, 3]\n"
     ]
    }
   ],
   "source": [
    "a = [1, 2, 3]\n",
    "b = [4, 5, 6]\n",
    "c = a + b\n",
    "print(c)\n",
    "\n",
    "d = 3 * a\n",
    "print(d)"
   ]
  },
  {
   "cell_type": "markdown",
   "metadata": {},
   "source": [
    "### Thực hành: Thêm học sinh vào lớp"
   ]
  },
  {
   "cell_type": "code",
   "execution_count": 36,
   "metadata": {},
   "outputs": [
    {
     "name": "stdout",
     "output_type": "stream",
     "text": [
      "['Quỳnh', 'Trang', 'Hoa', 'Ngọc Anh', 'Tuyết', 'Khánh']\n",
      "['Quỳnh', 'Trang', 'Hoa', 'Ngọc Anh', 'Tuyết', 'Khánh', 'Gina']\n",
      "['Quỳnh', 'Trang', 'Hoa', 'Ngọc Anh', 'Tuyết', 'Khánh', 'Gina', 'Tuyết', 'Khánh']\n",
      "['Quỳnh', 'Trang', 'Hoa', 'Ngọc Anh', 'Tuyết', 'Khánh', 'Gina', 'Tuyết']\n"
     ]
    }
   ],
   "source": [
    "'''\n",
    "tạo list danh_sach_lop chứa tên của 4 học sinh khác nhau \n",
    "và 1 list danh_sach_moi có chứa 2 bạn học sinh mới chuyển vào lớp.\n",
    "hãy cho danh sách mới vào danh sách lớp\n",
    "''' \n",
    "danh_sach_lop = ['Quỳnh', 'Trang', 'Hoa', 'Ngọc Anh']\n",
    "danh_sach_moi = ['Tuyết', 'Khánh']\n",
    "danh_sach_lop += danh_sach_moi\n",
    "print(danh_sach_lop)\n",
    "\n",
    "danh_sach_lop.append('Gina')\n",
    "print(danh_sach_lop)\n",
    "\n",
    "danh_sach_lop.extend(danh_sach_moi)\n",
    "print(danh_sach_lop)\n",
    "\n",
    "danh_sach_lop.pop()\n",
    "print(danh_sach_lop)"
   ]
  },
  {
   "cell_type": "markdown",
   "metadata": {},
   "source": [
    "### Kiểm tra phần tử tồn tại trong list"
   ]
  },
  {
   "cell_type": "code",
   "execution_count": 37,
   "metadata": {},
   "outputs": [
    {
     "name": "stdout",
     "output_type": "stream",
     "text": [
      "False\n"
     ]
    }
   ],
   "source": [
    "student_lists = ['Andy', 'bella', 'cindy']\n",
    "print('Anna' in student_lists)\n"
   ]
  },
  {
   "cell_type": "markdown",
   "metadata": {},
   "source": [
    "### Xóa phần tử khỏi list"
   ]
  },
  {
   "cell_type": "code",
   "execution_count": 19,
   "metadata": {},
   "outputs": [
    {
     "name": "stdout",
     "output_type": "stream",
     "text": [
      "[2, 3, 1]\n",
      "[2, 3, 1]\n"
     ]
    }
   ],
   "source": [
    "a = [1, 2, 3, 1]\n",
    "#cách 1: remove (chỉ xóa 1 giá trị)\n",
    "a.remove(1)\n",
    "print(a)\n",
    "\n",
    "# cách : del (Delete)\n",
    "a = [1, 2, 3, 1]\n",
    "del a[0]\n",
    "print(a)\n"
   ]
  },
  {
   "cell_type": "markdown",
   "metadata": {},
   "source": [
    "### Sắp xếp list"
   ]
  },
  {
   "cell_type": "code",
   "execution_count": 23,
   "metadata": {},
   "outputs": [
    {
     "name": "stdout",
     "output_type": "stream",
     "text": [
      "trước khi sắp xếp: lis [20, 31, 25, 67, 1, 173]:\n",
      "sau khi sắp xếp: list [173, 67, 31, 25, 20, 1]:\n"
     ]
    }
   ],
   "source": [
    "a = [20, 31, 25, 67, 1, 173]\n",
    "# cách 1: sắp xếp trực tiếp trên list a => giá trị a thay đổi\n",
    "print(f\"trước khi sắp xếp: lis {a}:\")\n",
    "a.sort(reverse = True) # reverse = True sắp xếp giảm dần\n",
    "print(f\"sau khi sắp xếp: list {a}:\")"
   ]
  },
  {
   "cell_type": "code",
   "execution_count": 29,
   "metadata": {},
   "outputs": [
    {
     "name": "stdout",
     "output_type": "stream",
     "text": [
      "list a: [20, 31, 25, 67, 1, 173]\n",
      "list b: [1, 20, 25, 31, 67, 173]\n"
     ]
    }
   ],
   "source": [
    "# cách 2: sorted()\n",
    "a = [20, 31, 25, 67, 1, 173]\n",
    "sorted(a)\n",
    "print(f\"list a: {a}\")\n",
    "b = sorted(a, reverse = False)\n",
    "print(f\"list b: {b}\")\n",
    "\n",
    "\n"
   ]
  },
  {
   "cell_type": "markdown",
   "metadata": {},
   "source": [
    "### Làm rỗng list"
   ]
  },
  {
   "cell_type": "code",
   "execution_count": 33,
   "metadata": {},
   "outputs": [
    {
     "name": "stdout",
     "output_type": "stream",
     "text": [
      "[1, 2, 3]\n",
      "[]\n"
     ]
    }
   ],
   "source": [
    "a = [1, 2, 3]\n",
    "print(a)\n",
    "\n",
    "#cách 1: để rỗng\n",
    "a = []\n",
    "\n",
    "# cách 2\n",
    "a.clear()\n",
    "print(a)\n"
   ]
  },
  {
   "cell_type": "markdown",
   "metadata": {},
   "source": [
    "### Copy list"
   ]
  },
  {
   "cell_type": "code",
   "execution_count": null,
   "metadata": {},
   "outputs": [],
   "source": []
  },
  {
   "cell_type": "markdown",
   "metadata": {},
   "source": [
    "## tuple"
   ]
  },
  {
   "cell_type": "code",
   "execution_count": 41,
   "metadata": {},
   "outputs": [
    {
     "name": "stdout",
     "output_type": "stream",
     "text": [
      "python\n",
      "3-5-7\n",
      "2\n"
     ]
    }
   ],
   "source": [
    "\n",
    "info = (\"python\", \"3-5-7\", 2 )\n",
    "info[2]\n",
    "# tuple không được thay đổi giá trị, vị trí: ví dụ info[0] = \"java scrip\" sẽ báo lỗi\n",
    "\n",
    "#unpack tuple\n",
    "course_name, day, duration = info\n",
    "print(course_name)\n",
    "print(day)\n",
    "print(duration)\n"
   ]
  },
  {
   "cell_type": "code",
   "execution_count": null,
   "metadata": {},
   "outputs": [],
   "source": []
  }
 ],
 "metadata": {
  "kernelspec": {
   "display_name": "Python 3 (ipykernel)",
   "language": "python",
   "name": "python3"
  },
  "language_info": {
   "codemirror_mode": {
    "name": "ipython",
    "version": 3
   },
   "file_extension": ".py",
   "mimetype": "text/x-python",
   "name": "python",
   "nbconvert_exporter": "python",
   "pygments_lexer": "ipython3",
   "version": "3.8.10"
  }
 },
 "nbformat": 4,
 "nbformat_minor": 4
}
