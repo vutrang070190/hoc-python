{
 "cells": [
  {
   "cell_type": "code",
   "execution_count": 12,
   "id": "55451c6f",
   "metadata": {},
   "outputs": [],
   "source": [
    "'''\n",
    "Thực hành: Xây dựng hàm vẽ hình vuông với tham số là độ dài các cạnh.\n",
    "Sau khi hàm được xây dựng xong, tiến hành gọi hàm với các giá trị tham số khác nhau.\n",
    "'''\n",
    "\n",
    "import turtle\n",
    "pen = turtle.Turtle()\n",
    "pen.hideturtle()\n",
    "pen.pencolor('red')\n",
    "\n",
    "#tạo hàm\n",
    "def draw_square(a):\n",
    "    for i in range(4):\n",
    "        pen.forward(a)\n",
    "        pen.right(90)\n",
    "        i += 1\n",
    "        \n",
    "#goi hàm\n",
    "draw_square(100)\n",
    "\n",
    "turtle.done()\n",
    "\n",
    "\n",
    "\n",
    "\n",
    "    "
   ]
  },
  {
   "cell_type": "code",
   "execution_count": 22,
   "id": "d19ae9a6",
   "metadata": {},
   "outputs": [],
   "source": [
    "'''\n",
    "[Thực hành] Vẽ hình đa giác sử dụng hàm\n",
    "Xây dựng hàm vẽ hình đa giác đều với tham số là số cạnh của đa giác, và chiều dài của các cạnh.\n",
    "Sau khi hàm được xây dựng xong, tiến hành gọi hàm với các giá trị tham số khác nhau.\n",
    "'''\n",
    "\n",
    "import turtle\n",
    "pen = turtle.Turtle()\n",
    "pen.hideturtle()\n",
    "pen.pencolor('red')\n",
    "\n",
    "# tạo hàm vẽ đa giác vói số cạnh đa giác là a; chiều dài đa giác đặt gtri cố định là 100\n",
    "def draw(a, width):\n",
    "    # giá trị mỗi góc của đa giác\n",
    "    goc = (a - 2)*180 / a\n",
    "    for i in range(a):\n",
    "        pen.forward(width)\n",
    "        pen.right(180 - goc)\n",
    "        i+= 1\n",
    "        \n",
    "# gọi hàm\n",
    "draw(6,100)\n",
    "\n",
    "turtle.done()\n",
    "        "
   ]
  },
  {
   "cell_type": "code",
   "execution_count": 29,
   "id": "3789ee21",
   "metadata": {},
   "outputs": [
    {
     "name": "stdout",
     "output_type": "stream",
     "text": [
      "37.77777777777778\n",
      "23.333333333333332\n",
      "0.0\n"
     ]
    }
   ],
   "source": [
    "'''\n",
    "[Thực hành] Chuyển đổi nhiệt độ\n",
    "Xây dựng hàm chuyển đổi nhiệt độ Fahrenheit (độ F) sang độ Celsius (độ C).\n",
    "Sau khi hàm được xây dựng xong, tiến hành gọi hàm với các giá trị tham số khác nhau.\n",
    "'''\n",
    "\n",
    "def trans(f):\n",
    "    c = (f-32) / 1.8\n",
    "    return c\n",
    "\n",
    "print(trans(100))\n",
    "print(trans(74))\n",
    "print(trans(32))"
   ]
  },
  {
   "cell_type": "code",
   "execution_count": 50,
   "id": "28386c7e",
   "metadata": {},
   "outputs": [
    {
     "name": "stdout",
     "output_type": "stream",
     "text": [
      "nhập vào bán kính hình tròn: 100\n",
      "Diện tích hình tròn có bán kính 100.0 là: 31415.926535897932\n"
     ]
    }
   ],
   "source": [
    "'''\n",
    "[Thực hành] Hàm tính diện tích hình tròn\n",
    "Xây dựng hàm vẽ hình tròn với tham số là bán kính.\n",
    "Xây dựng tiếp hàm tính diện tích hình tròn với tham số là bán kính hình tròn.\n",
    "Sau khi các hàm được xây dựng xong, tiến hành gọi các hàm với giá trị bán kính được nhập bởi người dùng.\n",
    "'''\n",
    "\n",
    "import turtle\n",
    "import math\n",
    "\n",
    "\n",
    "\n",
    "\n",
    "# tạo hàm vẽ hình tròn có bán kính r\n",
    "def draw_circle(r):\n",
    "    pen = turtle.Turtle()\n",
    "    pen.hideturtle()\n",
    "    pen.pencolor('red')\n",
    "    pen.circle(r)\n",
    "    \n",
    "    \n",
    "# tạo hàm tính diện tích hình tròn bán kính r\n",
    "def S_circle(r):\n",
    "    return math.pi * r * r\n",
    "    \n",
    "\n",
    "r = float(input(\"nhập vào bán kính hình tròn: \"))\n",
    "\n",
    "#gọi hàm\n",
    "draw_circle(r)\n",
    "S = S_circle(r)\n",
    "print(f\"Diện tích hình tròn có bán kính {r} là: {S}\")\n",
    "\n",
    "    \n",
    "turtle.done()"
   ]
  },
  {
   "cell_type": "code",
   "execution_count": null,
   "id": "bcab3c52",
   "metadata": {},
   "outputs": [],
   "source": []
  }
 ],
 "metadata": {
  "kernelspec": {
   "display_name": "Python 3 (ipykernel)",
   "language": "python",
   "name": "python3"
  },
  "language_info": {
   "codemirror_mode": {
    "name": "ipython",
    "version": 3
   },
   "file_extension": ".py",
   "mimetype": "text/x-python",
   "name": "python",
   "nbconvert_exporter": "python",
   "pygments_lexer": "ipython3",
   "version": "3.8.10"
  }
 },
 "nbformat": 4,
 "nbformat_minor": 5
}
