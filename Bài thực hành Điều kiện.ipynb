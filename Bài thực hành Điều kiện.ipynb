{
 "cells": [
  {
   "cell_type": "code",
   "execution_count": null,
   "id": "7fa4efce",
   "metadata": {},
   "outputs": [],
   "source": [
    "# Viết chương trình cho người dùng nhập vào kiểu dáng hình vẽ và màu sắc mong muốn. \n",
    "#Hình dáng: vuông hoặc tròn.\n",
    "#Màu sắc: Vàng, đỏ và xanh dương.\n",
    "#Sau đó in ra hình vẽ tương ứng\n",
    "\n",
    "import turtle\n",
    "pen = turtle.Turtle()\n",
    "hinh_dang = input(\"circle hoặc hình vuông,bạn chọn kiểu hình dáng nào để vẽ?: \")\n",
    "if hinh_dang == \"vuông\":\n",
    "    mau_sac = input(\"bạn muốn chọn màu nào để vẽ, màu vàng, đỏ, xanh dương?: \")\n",
    "    if mau_sac == \"yellow\" or mau_sac == \"red\" or mau_sac == \"blue\":\n",
    "        do_dai_canh = float(input(\"nhâp vào cạnh của hình vuông: \"))\n",
    "        pen.begin_fill()\n",
    "        pen.color(mau_sac)\n",
    "        pen.circle(do_dai_canh, steps = 4)\n",
    "        pen.end_fill()\n",
    "    else:\n",
    "        print(\"xin lỗi, bạn không thể vẽ đươc hình mong muốn \")\n",
    "elif hinh_dang == \"tròn\":\n",
    "    mau_sac = input(\"bạn muốn chọn màu nào để vẽ, màu vàng, đỏ, xanh dương?: \")\n",
    "    if mau_sac == \"yellow\" or mau_sac == \"red\" or mau_sac == \"blue\":\n",
    "        do_dai_duong_kinh = float(input(\"nhâp vào đường kính hình tròn: \"))\n",
    "        pen.begin_fill()\n",
    "        pen.color(mau_sac)\n",
    "        pen.circle(do_dai_duong_kinh)\n",
    "        pen.end_fill()\n",
    "    else:\n",
    "        print(\"xin lỗi, bạn không thể vẽ được hình mong muốn \")\n",
    "\n",
    "else:\n",
    "    print(\"xin lỗi, bạn không thể vẽ đươc hình mong muốn \")\n",
    "\n",
    "                \n",
    "turtle.done()\n"
   ]
  },
  {
   "cell_type": "code",
   "execution_count": null,
   "id": "f11c3dd3",
   "metadata": {},
   "outputs": [],
   "source": []
  },
  {
   "cell_type": "code",
   "execution_count": null,
   "id": "d03b8306",
   "metadata": {},
   "outputs": [],
   "source": []
  }
 ],
 "metadata": {
  "kernelspec": {
   "display_name": "Python 3 (ipykernel)",
   "language": "python",
   "name": "python3"
  },
  "language_info": {
   "codemirror_mode": {
    "name": "ipython",
    "version": 3
   },
   "file_extension": ".py",
   "mimetype": "text/x-python",
   "name": "python",
   "nbconvert_exporter": "python",
   "pygments_lexer": "ipython3",
   "version": "3.8.10"
  }
 },
 "nbformat": 4,
 "nbformat_minor": 5
}
