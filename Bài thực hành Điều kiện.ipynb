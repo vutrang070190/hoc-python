{
 "cells": [
  {
   "cell_type": "code",
   "execution_count": 2,
   "id": "7fa4efce",
   "metadata": {},
   "outputs": [
    {
     "name": "stdout",
     "output_type": "stream",
     "text": [
      "tròn hoặc hình vuông,bạn chọn kiểu hình dáng nào để vẽ?: vuông\n",
      "bạn muốn chọn màu nào để vẽ, yellow, red hay blue?: violet\n",
      "xin lỗi, bạn không thể vẽ đươc hình mong muốn \n"
     ]
    }
   ],
   "source": [
    "# Viết chương trình cho người dùng nhập vào kiểu dáng hình vẽ và màu sắc mong muốn. \n",
    "#Hình dáng: vuông hoặc tròn.\n",
    "#Màu sắc: Vàng, đỏ và xanh dương.\n",
    "#Sau đó in ra hình vẽ tương ứng\n",
    "\n",
    "import turtle\n",
    "pen = turtle.Turtle()\n",
    "hinh_dang = input(\"tròn hoặc hình vuông,bạn chọn kiểu hình dáng nào để vẽ?: \")\n",
    "if hinh_dang == \"vuông\":\n",
    "    mau_sac = input(\"bạn muốn chọn màu nào để vẽ, yellow, red hay blue?: \")\n",
    "    if mau_sac == \"yellow\" or mau_sac == \"red\" or mau_sac == \"blue\":\n",
    "        do_dai_canh = float(input(\"nhâp vào cạnh của hình vuông: \"))\n",
    "        pen.begin_fill()\n",
    "        pen.color(mau_sac)\n",
    "        pen.circle(do_dai_canh, steps = 4)\n",
    "        pen.end_fill()\n",
    "    else:\n",
    "        print(\"xin lỗi, bạn không thể vẽ đươc hình mong muốn \")\n",
    "elif hinh_dang == \"tròn\":\n",
    "    mau_sac = input(\"bạn muốn chọn màu nào để vẽ, yellow, red hay blue?: \")\n",
    "    if mau_sac == \"yellow\" or mau_sac == \"red\" or mau_sac == \"blue\":\n",
    "        do_dai_duong_kinh = float(input(\"nhâp vào đường kính hình tròn: \"))\n",
    "        pen.begin_fill()\n",
    "        pen.color(mau_sac)\n",
    "        pen.circle(do_dai_duong_kinh)\n",
    "        pen.end_fill()\n",
    "    else:\n",
    "        print(\"xin lỗi, bạn không thể vẽ được hình mong muốn \")\n",
    "\n",
    "else:\n",
    "    print(\"xin lỗi, bạn không thể vẽ đươc hình mong muốn \")\n",
    "\n",
    "                \n",
    "turtle.done()\n"
   ]
  },
  {
   "cell_type": "code",
   "execution_count": 27,
   "id": "f11c3dd3",
   "metadata": {},
   "outputs": [],
   "source": [
    "#Lấy một số ngẫu nhiên kiểu float từ 0 đến 3, sau đó chuyển về kiểu int.\n",
    "#Dựa vào số vừa chuyển, in ra hình tròn với màu sắc tương ứng như sau:\n",
    "   # Bé hơn 1 ⇒ màu xanh\n",
    "   # Bé hơn 2 ⇒  màu vàng\n",
    "   # Bé hơn 3 ⇒  màu đỏ\n",
    "    \n",
    "    \n",
    "import turtle\n",
    "pen = turtle.Turtle()\n",
    "nen = turtle.Screen() # tạo nền màn hình\n",
    "import random # khai báo thư viện \n",
    "number = random.uniform(0,3)\n",
    "chuyen_kieu = int(number)\n",
    "\n",
    "nen.bgcolor(\"black\") # màu nền màn\n",
    "#nen.title(\"Cricle\")\n",
    "pen.shape('circle')\n",
    "\n",
    "if chuyen_kieu < 1:\n",
    "    pen.color('green')\n",
    "    \n",
    "elif chuyen_kieu < 2:\n",
    "    pen.color('yellow')\n",
    "    \n",
    "elif chuyen_kieu < 3:\n",
    "    pen.color('red')\n",
    "\n",
    "turtle.done()\n",
    "\n"
   ]
  },
  {
   "cell_type": "code",
   "execution_count": 1,
   "id": "d03b8306",
   "metadata": {},
   "outputs": [
    {
     "name": "stdout",
     "output_type": "stream",
     "text": [
      "nhập vào một số: 4\n",
      "số nhập vào là số chẵn\n"
     ]
    }
   ],
   "source": [
    "#  kiểm tra số nhập vào là số chẵn hoặc lẻ, không sử dụng toán tử 3 ngôi\n",
    "a = int(input(\"nhập vào một số: \"))\n",
    "if a %2 == 0:\n",
    "    print(\"số nhập vào là số chẵn\")\n",
    "else:\n",
    "    print(\"số nhập vào là số lẻ\")\n"
   ]
  },
  {
   "cell_type": "code",
   "execution_count": 3,
   "id": "e5dc1238",
   "metadata": {},
   "outputs": [
    {
     "name": "stdout",
     "output_type": "stream",
     "text": [
      "nhập vào một số: 4\n",
      "số nhập vào là số chẵn\n"
     ]
    }
   ],
   "source": [
    "#  kiểm tra số nhập vào là số chẵn hoặc lẻ, sử dụng toán tử 3 ngôi\n",
    "a = int(input(\"nhập vào một số: \"))\n",
    "print(f\"số nhập vào là số chẵn\" if a % 2 == 0 else \"số nhập vào là số lẻ\")"
   ]
  },
  {
   "cell_type": "code",
   "execution_count": 9,
   "id": "0f82bddb",
   "metadata": {},
   "outputs": [
    {
     "name": "stdout",
     "output_type": "stream",
     "text": [
      "nhập vào một số: 5.2\n",
      "không phải số tự nhiên \n"
     ]
    }
   ],
   "source": [
    "#Viết chương trình có khả năng kiểm tra tính chất chẵn lẻ của một số nhập vào.\n",
    "#In ra màn hình số nhập vào là số chẵn, số lẽ hay không phải là các trường hợp trên.\n",
    "a = float(input(\"nhập vào một số: \"))\n",
    "if a % 2 == 0:\n",
    "    print(\"số nhập vào là số chẵn \")\n",
    "elif a % 2 == 1:\n",
    "    print(\"số nhập vào là số lẻ \")\n",
    "else:\n",
    "    print(\"không phải số tự nhiên \")"
   ]
  },
  {
   "cell_type": "code",
   "execution_count": 13,
   "id": "012d5888",
   "metadata": {},
   "outputs": [
    {
     "name": "stdout",
     "output_type": "stream",
     "text": [
      "bạn hãy nhập vào 1 số trong phạm vi từ 1 đến 7: 9\n",
      "Error, out of range\n"
     ]
    }
   ],
   "source": [
    "# Viết chương trình yêu cầu người dùng nhập một số trong phạm vi từ 1 đến 7. Sau đó hãy in ra ngày tương ứng:\n",
    "# 1: Monday - 2: Tuesday - 3: Wednesday - 4: Thursday - 5: Friday - 6: Saturday - 7: Sunday\n",
    "# Nếu người dùng nhập số ngoài phạm vi từ 1 đến 7 thì hãy in ra “error, out of range”.\n",
    "a = int(input(\"bạn hãy nhập vào 1 số trong phạm vi từ 1 đến 7: \"))\n",
    "if a == 1:\n",
    "    print(\"Monday\")\n",
    "elif a == 2:\n",
    "    print(\"Tuesday\")\n",
    "elif a == 3:\n",
    "    print(\"Wednesday\")\n",
    "elif a == 4:\n",
    "    print(\"Thursday\")\n",
    "elif a == 5:\n",
    "    print(\"Friday\")\n",
    "elif a == 6:\n",
    "    print(\"Saturday\")\n",
    "elif a == 7:\n",
    "    print(\"Sunday\")\n",
    "else:\n",
    "    print(\"Error, out of range\")"
   ]
  },
  {
   "cell_type": "code",
   "execution_count": 28,
   "id": "abccc300",
   "metadata": {},
   "outputs": [
    {
     "name": "stdout",
     "output_type": "stream",
     "text": [
      "nhập vào só tiền mà bạn đã chi tại cửa hàng ($): 120\n",
      "số tiền bạn được giảm giá tại cửa hàng: 30.0$\n",
      "Số tiền phải thanh toán của bạn sau khi được giảm giá: 90.0$\n"
     ]
    }
   ],
   "source": [
    "#Viết chương trình hỏi người dùng đã chi bao nhiêu tiền tại cửa hàng.\n",
    "#Nếu họ chi ít hơn 75$, họ sẽ không được giảm giá.\n",
    "#Nếu họ chi 75$ trở lên, họ sẽ được giảm giá 15$.\n",
    "#Nếu người dùng chi từ 100$ trở lên, họ sẽ được giảm giá 25$.\n",
    "#Nếu người dùng chi từ 150$ trở lên, họ sẽ được giảm giá 50$.\n",
    "#Sau đó in ra tổng số tiền mà người dùng phải thanh toán.\n",
    "\n",
    "tien_chi = float(input(\"nhập vào só tiền mà bạn đã chi tại cửa hàng ($): \"))\n",
    "tien_giam_gia = 0\n",
    "if tien_chi >= 150:\n",
    "    tien_giam_gia = tien_chi * 50/100\n",
    "elif tien_chi >= 100:\n",
    "    tien_giam_gia =  tien_chi * 25 / 100\n",
    "elif tien_chi >= 75:\n",
    "    tien_giam_gia = tien_chi * 25 /100\n",
    "else:\n",
    "    print(\"Bạn không được giảm giá \")\n",
    "    \n",
    "print(f\"số tiền bạn được giảm giá tại cửa hàng: {tien_giam_gia}$\")\n",
    "print(f\"Số tiền phải thanh toán của bạn sau khi được giảm giá: {tien_chi - tien_giam_gia}$\")\n"
   ]
  },
  {
   "cell_type": "code",
   "execution_count": 26,
   "id": "5fdcf8a1",
   "metadata": {},
   "outputs": [
    {
     "name": "stdout",
     "output_type": "stream",
     "text": [
      "Nhập vào chiều cao của bạn (cm): 155\n",
      "Nhập vào số cân nặng của bạn (kg): 51\n",
      "Bình thường\n"
     ]
    }
   ],
   "source": [
    "#Tính chỉ số cân nặng của cơ thể\n",
    "#Viết chương trình cho người dùng nhập cân nặng và chiều cao của mình. \n",
    "#Sau đó hãy in ra chỉ số BMI (Body mass index), và tình trạng cơ thể của họ dựa theo công thức và bảng giá trị sau:\n",
    "#BMI = cân nặng / (chiều cao ^ 2)\n",
    "#Trong đó cân nặng tính bằng kg và chiều cao tính bằng m\n",
    "#Chỉ số BMI đối với người trên 20 tuổi được phân loại và diễn giải theo bảng sau:\n",
    "    #BMI < 16: Gầy cấp độ III\n",
    "    #16 <= BMI < 17:  Gầy cấp độ II\n",
    "    #17<= BMI < 18.5: Gầy cấp độ I\n",
    "    #18.5 <= BMI < 25: Bình thường\n",
    "    #25 <= BMI < 30: Thừa cân\n",
    "    #30 <= BMI < 35 : Béo phì cấp độ I\n",
    "    #35 <= BMI < 40: Béo phì cấp độ II\n",
    "    #BMI > 40: Béo phì cấp độ III\n",
    "    \n",
    "chieu_cao = int(input(\"Nhập vào chiều cao của bạn (cm): \"))\n",
    "can_nang = int(input(\"Nhập vào số cân nặng của bạn (kg): \"))\n",
    "\n",
    "bmi = can_nang / ((chieu_cao * 0.01 ) ** 2)\n",
    "\n",
    "if bmi < 16:\n",
    "    print(\"Gầy cấp đội III\")\n",
    "elif 16 <= bmi < 17:\n",
    "    print(\"Gầy cấp độ II\")\n",
    "elif 17 <= bmi < 18.5:\n",
    "    print(\"Gầy cấp độ I\")\n",
    "elif 18.5 <= bmi < 25:\n",
    "    print(\"Bình thường\")\n",
    "elif 25 <= bmi < 30:\n",
    "    print(\"Thừa cân\")\n",
    "elif 30 <= bmi < 35:\n",
    "    print(\"Béo phì cấp độ I\")\n",
    "elif 35 <= bmi < 40:\n",
    "    print(\"Béo phì cấp độ II\")\n",
    "else:\n",
    "    print(\"Béo phì cấp độ III\")\n",
    "\n"
   ]
  },
  {
   "cell_type": "code",
   "execution_count": null,
   "id": "0bd9887f",
   "metadata": {},
   "outputs": [],
   "source": []
  }
 ],
 "metadata": {
  "kernelspec": {
   "display_name": "Python 3 (ipykernel)",
   "language": "python",
   "name": "python3"
  },
  "language_info": {
   "codemirror_mode": {
    "name": "ipython",
    "version": 3
   },
   "file_extension": ".py",
   "mimetype": "text/x-python",
   "name": "python",
   "nbconvert_exporter": "python",
   "pygments_lexer": "ipython3",
   "version": "3.8.10"
  }
 },
 "nbformat": 4,
 "nbformat_minor": 5
}
