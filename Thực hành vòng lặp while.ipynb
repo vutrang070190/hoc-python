{
 "cells": [
  {
   "cell_type": "code",
   "execution_count": 3,
   "id": "272a3a95",
   "metadata": {},
   "outputs": [
    {
     "name": "stdout",
     "output_type": "stream",
     "text": [
      "1505\n",
      "1540\n",
      "1575\n",
      "1610\n",
      "1645\n",
      "1680\n",
      "1715\n",
      "1750\n",
      "1785\n",
      "1820\n",
      "1855\n",
      "1890\n",
      "1925\n",
      "1960\n",
      "1995\n",
      "2030\n",
      "2065\n",
      "2100\n",
      "2135\n",
      "2170\n",
      "2205\n",
      "2240\n",
      "2275\n",
      "2310\n",
      "2345\n",
      "2380\n",
      "2415\n",
      "2450\n",
      "2485\n",
      "2520\n",
      "2555\n",
      "2590\n",
      "2625\n",
      "2660\n",
      "2695\n"
     ]
    }
   ],
   "source": [
    "'''\n",
    "Khởi động 1: Viết chương trình in ra tất cả các số chia hết cho cả 5 và 7 trong khoảng từ 1500 đến 2700\n",
    "'''\n",
    "\n",
    "i = 1500\n",
    "while i< 2700:\n",
    "    if i % 5 == 0 and i % 7 ==0:\n",
    "        print(i)\n",
    "    i+=1"
   ]
  },
  {
   "cell_type": "code",
   "execution_count": null,
   "id": "18dbe371",
   "metadata": {},
   "outputs": [],
   "source": []
  },
  {
   "cell_type": "code",
   "execution_count": 15,
   "id": "87f74c6c",
   "metadata": {},
   "outputs": [
    {
     "name": "stdout",
     "output_type": "stream",
     "text": [
      "nhập vào chiều cao của tam giác vuông: 5\n",
      "*****\n",
      "****\n",
      "***\n",
      "**\n",
      "*\n"
     ]
    }
   ],
   "source": [
    "'''\n",
    "Bài 1: Viết chương trình nhập vào chiều cao tam giác vuông và in ra tam giác có hình dạng như sau:\n",
    "*****\n",
    "****\n",
    "***\n",
    "** \n",
    "*\n",
    "'''\n",
    "# cách 1\n",
    "chieu_cao = int(input(\"nhập vào chiều cao của tam giác vuông: \"))\n",
    "i = chieu_cao\n",
    "while i >= 1:\n",
    "    print( i * '*')\n",
    "    i -= 1"
   ]
  },
  {
   "cell_type": "code",
   "execution_count": 14,
   "id": "325e91df",
   "metadata": {},
   "outputs": [
    {
     "name": "stdout",
     "output_type": "stream",
     "text": [
      "nhập vào chiều cao của tam giác vuông: 5\n",
      "*****\n",
      "****\n",
      "***\n",
      "**\n",
      "*\n"
     ]
    }
   ],
   "source": [
    "# Bài 1 - cách 2\n",
    "chieu_cao = int(input(\"nhập vào chiều cao của tam giác vuông: \"))\n",
    "i = chieu_cao\n",
    "while i >= 1:\n",
    "    print( i * '*')\n",
    "    i -= 1"
   ]
  },
  {
   "cell_type": "code",
   "execution_count": 13,
   "id": "ea4c14a8",
   "metadata": {},
   "outputs": [
    {
     "name": "stdout",
     "output_type": "stream",
     "text": [
      "nhập vào chiều cao của tam giác vuông: 5\n",
      " * * * * *\n",
      " * * * *\n",
      " * * *\n",
      " * *\n",
      " *\n"
     ]
    }
   ],
   "source": [
    "'''\n",
    "Bài 2: Viết chương trình nhập vào chiều cao tam giác vuông và in ra tam giác có hình dạng như sau:\n",
    "* * * * * *\n",
    "* * * * *\n",
    "* * * *\n",
    "* * *\n",
    "* *\n",
    "*\n",
    "'''\n",
    "#cách 1\n",
    "chieu_cao = int(input(\"nhập vào chiều cao của tam giác vuông: \"))\n",
    "i = chieu_cao\n",
    "while i >=1:\n",
    "    print( i * \" \"'*' )\n",
    "    i -= 1"
   ]
  },
  {
   "cell_type": "code",
   "execution_count": 9,
   "id": "4a5d2846",
   "metadata": {},
   "outputs": [
    {
     "name": "stdout",
     "output_type": "stream",
     "text": [
      "nhập vào chiều cao của tam giác vuông: 5\n",
      "* * * * *\n",
      "* * * *\n",
      "* * *\n",
      "* *\n",
      "*\n"
     ]
    }
   ],
   "source": [
    "# bài 2 - cách 2\n",
    "chieu_cao = int(input(\"nhập vào chiều cao của tam giác vuông: \"))\n",
    "i = chieu_cao\n",
    "while i >= 1:\n",
    "    print('* ' * (i-1) + '*')\n",
    "    i -= 1"
   ]
  },
  {
   "cell_type": "code",
   "execution_count": 10,
   "id": "02df8804",
   "metadata": {},
   "outputs": [
    {
     "name": "stdout",
     "output_type": "stream",
     "text": [
      "Nhập chiều cao:5\n",
      "* * * * *\n",
      "* * * *\n",
      "* * *\n",
      "* *\n",
      "*\n"
     ]
    }
   ],
   "source": [
    "#Bài 2 - cách 3\n",
    "height = int(input(\"Nhập chiều cao:\"))\n",
    "\n",
    "i = height\n",
    "a= \"* \"\n",
    "while i >=1:\n",
    "    print(a*(i-1),end=a[:-1])\n",
    "    print()\n",
    "    i-=1\n"
   ]
  },
  {
   "cell_type": "code",
   "execution_count": 22,
   "id": "bd17e085",
   "metadata": {},
   "outputs": [
    {
     "name": "stdout",
     "output_type": "stream",
     "text": [
      "Nhập chiều cao tam giác: 5\n",
      "* - * - *\n",
      "* - * -\n",
      "* - *\n",
      "* -\n",
      "*\n"
     ]
    }
   ],
   "source": [
    "'''\n",
    "Bài 3: Viết chương trình nhập vào chiều cao tam giác vuông và in ra tam giác có hình dạng như sau:\n",
    "* - * - *\n",
    "* - * -\n",
    "* - *\n",
    "* -\n",
    "*\n",
    "'''\n",
    "height = int(input(\"Nhập chiều cao tam giác: \"))\n",
    "i = height\n",
    "while i >= 1:\n",
    "    j = 0\n",
    "    while j < i:\n",
    "        if j % 2 == 0:\n",
    "            print('*', end='')\n",
    "        else:\n",
    "            print('-', end='')\n",
    "        if j < i - 1:\n",
    "            print(' ', end='')\n",
    "        j += 1\n",
    "    print()\n",
    "    i -= 1"
   ]
  },
  {
   "cell_type": "code",
   "execution_count": 24,
   "id": "78524e0f",
   "metadata": {},
   "outputs": [
    {
     "name": "stdout",
     "output_type": "stream",
     "text": [
      "nhap chieu cao: 5\n",
      "* - * - *\n",
      "* - * - \n",
      "* - *\n",
      "* - \n",
      "*\n",
      "\n"
     ]
    }
   ],
   "source": [
    "height = int(input(\"nhap chieu cao: \"))\n",
    "i = height\n",
    "while i >= 0:\n",
    "    if i %2 != 0:\n",
    "        print((i//2)*'* - '+'*')\n",
    "        i = i - 1\n",
    "    else:\n",
    "        print((i//2)*'* - ')\n",
    "        i = i - 1"
   ]
  },
  {
   "cell_type": "code",
   "execution_count": 38,
   "id": "105b66bc",
   "metadata": {},
   "outputs": [
    {
     "name": "stdout",
     "output_type": "stream",
     "text": [
      "nhập vào một số n: 25\n",
      "1\n",
      "2\n",
      "py\n",
      "4\n",
      "5\n",
      "py\n",
      "thon\n",
      "8\n",
      "py\n",
      "10\n",
      "11\n",
      "py\n",
      "13\n",
      "thon\n",
      "py\n",
      "16\n",
      "17\n",
      "py\n",
      "19\n",
      "20\n",
      "python\n",
      "22\n",
      "23\n",
      "py\n",
      "25\n"
     ]
    }
   ],
   "source": [
    "'''\n",
    "Bài 4: Viết chương trình nhập vào một số nguyên n và in ra các số từ 1 đến n với các trường hợp ngoại lệ như sau:\n",
    "- Nếu số đó chia hết cho 3 thì in \"py\"\n",
    "- Nếu số đó chia hết cho 7 thì in \"thon\"\n",
    "- Nếu số đó chia hết cho cả 3 và 7 thì in \"python\"\n",
    "\n",
    "Ví dụ: n = 25\n",
    "1\n",
    "2\n",
    "py\n",
    "4\n",
    "5\n",
    "py\n",
    "thon\n",
    "8\n",
    "py\n",
    "10\n",
    "11\n",
    "py\n",
    "13\n",
    "thon\n",
    "py\n",
    "16\n",
    "17\n",
    "py\n",
    "19\n",
    "20\n",
    "python\n",
    "22\n",
    "23\n",
    "py\n",
    "25\n",
    "'''\n",
    "\n",
    "n = int(input(\"nhập vào một số n: \"))\n",
    "i = 1\n",
    "while i<=n:\n",
    "    if i % 21 ==0:\n",
    "        print(\"python\")\n",
    "    elif i %3 ==0:\n",
    "        print(\"py\")\n",
    "    elif i%7 ==0:\n",
    "        print(\"thon\")\n",
    "    else:\n",
    "        print(i)\n",
    "    i +=1    "
   ]
  },
  {
   "cell_type": "code",
   "execution_count": 6,
   "id": "3689744c",
   "metadata": {},
   "outputs": [
    {
     "name": "stdout",
     "output_type": "stream",
     "text": [
      "nhập vào một số: 73\n",
      "i = 2\n",
      "i = 3\n",
      "i = 4\n",
      "i = 5\n",
      "i = 6\n",
      "i = 7\n",
      "i = 8\n",
      "i = 9\n",
      "i = 10\n",
      "i = 11\n",
      "i = 12\n",
      "i = 13\n",
      "i = 14\n",
      "i = 15\n",
      "i = 16\n",
      "i = 17\n",
      "i = 18\n",
      "i = 19\n",
      "i = 20\n",
      "i = 21\n",
      "i = 22\n",
      "i = 23\n",
      "i = 24\n",
      "i = 25\n",
      "i = 26\n",
      "i = 27\n",
      "i = 28\n",
      "i = 29\n",
      "i = 30\n",
      "i = 31\n",
      "i = 32\n",
      "i = 33\n",
      "i = 34\n",
      "i = 35\n",
      "i = 36\n",
      "i = 37\n",
      "i = 38\n",
      "i = 39\n",
      "i = 40\n",
      "i = 41\n",
      "i = 42\n",
      "i = 43\n",
      "i = 44\n",
      "i = 45\n",
      "i = 46\n",
      "i = 47\n",
      "i = 48\n",
      "i = 49\n",
      "i = 50\n",
      "i = 51\n",
      "i = 52\n",
      "i = 53\n",
      "i = 54\n",
      "i = 55\n",
      "i = 56\n",
      "i = 57\n",
      "i = 58\n",
      "i = 59\n",
      "i = 60\n",
      "i = 61\n",
      "i = 62\n",
      "i = 63\n",
      "i = 64\n",
      "i = 65\n",
      "i = 66\n",
      "i = 67\n",
      "i = 68\n",
      "i = 69\n",
      "i = 70\n",
      "i = 71\n",
      "i = 72\n",
      "73 là số nguyên tố \n"
     ]
    }
   ],
   "source": [
    "'''\n",
    "Bài 5: Viết chương trình nhập vào một số và kiểm tra xem số đó có phải là số nguyên tố hay không\n",
    "Note: Số nguyên tố là số chỉ chia hết cho 1 và chính nó\n",
    "'''\n",
    "n = int(input(\"nhập vào một số: \"))\n",
    "\n",
    "i = 2\n",
    "while i < n:\n",
    "    print(f\"i = {i}\")\n",
    "    if n % i ==0:\n",
    "        print(f\"{n} không là số nguyên tố \")\n",
    "        break\n",
    "    i +=1\n",
    "    \n",
    "if i == n:\n",
    "    print(f\"{n} là số nguyên tố \")\n"
   ]
  },
  {
   "cell_type": "code",
   "execution_count": 8,
   "id": "68ce941d",
   "metadata": {},
   "outputs": [
    {
     "name": "stdout",
     "output_type": "stream",
     "text": [
      "nhập số nguyên: 73\n",
      "73 là số nguyên tố\n"
     ]
    }
   ],
   "source": [
    "#cách 2: số nguyê tố\n",
    "n = int(input('nhập số nguyên: '))\n",
    "i = 2\n",
    "x=0\n",
    "if n<=2:\n",
    "    print(f\"{n} là số nguyên tố\")\n",
    "else:\n",
    "    while i < n:\n",
    "        if n % i==0:\n",
    "            x+=1\n",
    "        i+=1\n",
    "if x>0:\n",
    "    print(f\"{n} không phải số nguyên tố\")\n",
    "else:\n",
    "    print(f\"{n} là số nguyên tố\")\n"
   ]
  },
  {
   "cell_type": "code",
   "execution_count": 7,
   "id": "d4014da0",
   "metadata": {},
   "outputs": [
    {
     "name": "stdout",
     "output_type": "stream",
     "text": [
      "nhập vào một số: 73\n",
      "i = 2\n",
      "i = 3\n",
      "i = 4\n",
      "i = 5\n",
      "i = 6\n",
      "i = 7\n",
      "i = 8\n",
      "i = 9\n",
      "i = 10\n",
      "i = 11\n",
      "i = 12\n",
      "i = 13\n",
      "i = 14\n",
      "i = 15\n",
      "i = 16\n",
      "i = 17\n",
      "i = 18\n",
      "i = 19\n",
      "i = 20\n",
      "i = 21\n",
      "i = 22\n",
      "i = 23\n",
      "i = 24\n",
      "i = 25\n",
      "i = 26\n",
      "i = 27\n",
      "i = 28\n",
      "i = 29\n",
      "i = 30\n",
      "i = 31\n",
      "i = 32\n",
      "i = 33\n",
      "i = 34\n",
      "i = 35\n",
      "i = 36\n",
      "i = 37\n",
      "i = 38\n",
      "i = 39\n",
      "i = 40\n",
      "i = 41\n",
      "i = 42\n",
      "i = 43\n",
      "i = 44\n",
      "i = 45\n",
      "i = 46\n",
      "i = 47\n",
      "i = 48\n",
      "i = 49\n",
      "i = 50\n",
      "i = 51\n",
      "i = 52\n",
      "i = 53\n",
      "i = 54\n",
      "i = 55\n",
      "i = 56\n",
      "i = 57\n",
      "i = 58\n",
      "i = 59\n",
      "i = 60\n",
      "i = 61\n",
      "i = 62\n",
      "i = 63\n",
      "i = 64\n",
      "i = 65\n",
      "i = 66\n",
      "i = 67\n",
      "i = 68\n",
      "i = 69\n",
      "i = 70\n",
      "i = 71\n",
      "i = 72\n",
      "73 là số nguyên tố \n"
     ]
    }
   ],
   "source": [
    "n = int(input(\"nhập vào một số: \"))\n",
    "\n",
    "i = 2\n",
    "flag = True # đặt 1 cái cờ\n",
    "\n",
    "while i < n:\n",
    "    print(f\"i = {i}\")\n",
    "    if n % i ==0:\n",
    "        flag = False\n",
    "        print(f\"{n} không là số nguyên tố \")\n",
    "        break\n",
    "    i +=1\n",
    "    \n",
    "if flag:\n",
    "    print(f\"{n} là số nguyên tố \")"
   ]
  },
  {
   "cell_type": "code",
   "execution_count": null,
   "id": "d76fa311",
   "metadata": {},
   "outputs": [
    {
     "name": "stdout",
     "output_type": "stream",
     "text": [
      "Mời lựa chọn(1 - búa, 2 - kéo, 3 - bao): 2\n",
      "Máy tính chọn: 1\n",
      "Người chơi thua.\n"
     ]
    }
   ],
   "source": [
    "'''\n",
    "Bài 6: Viết chương trình mô phỏng trò chơi kéo búa bao theo luật chơi như sau:\n",
    "Quy ước: 1 - búa, 2 - kéo, 3 - bao\n",
    "Khi trò chơi bắt đầu, yêu cầu người chơi nhập 1 số từ bàn phím đại diện cho kéo, búa, bao\n",
    "Chương trình tự random ra một lựa chọn từ 1 đến 3.\n",
    "Nếu người chơi thua thì tiếp tục chơi cho đến khi thắng thì kết thúc chương trình.\n",
    "Ví dụ:\n",
    "\n",
    "Mời lựa chọn(1 - búa, 2 - kéo, 3 - bao): 1\n",
    "Máy tính chọn: 3\n",
    "Người chơi thua.\n",
    "\n",
    "Mời lựa chọn(1 - búa, 2 - kéo, 3 - bao): 2\n",
    "Máy tính chọn: 1\n",
    "Người chơi thua.\n",
    "\n",
    "Mời lựa chọn(1 - búa, 2 - kéo, 3 - bao): 1\n",
    "Máy tính chọn: 2\n",
    "Người chơi thắng.\n",
    "'''\n",
    "from random import randint\n",
    "\n",
    "win = False # dùng kỹ thuật cắm cờ\n",
    "\n",
    "while win == False:\n",
    "    player_choice = int(input(\"Mời lựa chọn(1 - búa, 2 - kéo, 3 - bao): \"))\n",
    "    computer_choice = randint(1, 3)\n",
    "    print(f\"Máy tính chọn: {computer_choice}\")\n",
    "    \n",
    "    if computer_choice > 1 and computer_choice - player_choice == 1:\n",
    "        print(\"Người chơi thắng.\")\n",
    "        win = True\n",
    "    elif computer_choice == 1 and player_choice == 3:\n",
    "        print(\"Người chơi thắng.\")\n",
    "        win = True\n",
    "    elif computer_choice == player_choice:\n",
    "        print(\"Hòa.\")\n",
    "    else: \n",
    "        print(\"Người chơi thua.\")\n",
    "\n",
    "\n",
    "\n"
   ]
  },
  {
   "cell_type": "code",
   "execution_count": null,
   "id": "84225d0d",
   "metadata": {},
   "outputs": [],
   "source": []
  }
 ],
 "metadata": {
  "kernelspec": {
   "display_name": "Python 3 (ipykernel)",
   "language": "python",
   "name": "python3"
  },
  "language_info": {
   "codemirror_mode": {
    "name": "ipython",
    "version": 3
   },
   "file_extension": ".py",
   "mimetype": "text/x-python",
   "name": "python",
   "nbconvert_exporter": "python",
   "pygments_lexer": "ipython3",
   "version": "3.8.10"
  }
 },
 "nbformat": 4,
 "nbformat_minor": 5
}
