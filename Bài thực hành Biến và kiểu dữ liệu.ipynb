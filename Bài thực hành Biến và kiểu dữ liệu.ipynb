{
 "cells": [
  {
   "cell_type": "code",
   "execution_count": 3,
   "id": "b7a04558",
   "metadata": {},
   "outputs": [
    {
     "name": "stdout",
     "output_type": "stream",
     "text": [
      "nhập vào độ dài cạnh thứ nhât: 10\n",
      "nhập vào độ dài cạnh thứ hai: 20\n",
      "nhập vào độ dài cạnh thứ ba: 15\n",
      "Diện tích tam giác 72.61843774138907\n"
     ]
    }
   ],
   "source": [
    "# tính diện tích hình tam giác\n",
    "a = int(input(\"nhập vào độ dài cạnh thứ nhât: \"))\n",
    "b = int(input(\"nhập vào độ dài cạnh thứ hai: \"))\n",
    "c = int(input(\"nhập vào độ dài cạnh thứ ba: \"))\n",
    "p = (a + b + c)/2\n",
    "S = (p* (p -a) * (p - b) * (p - c)) ** 0.5\n",
    "print(f\"Diện tích tam giác {S}\")\n"
   ]
  },
  {
   "cell_type": "code",
   "execution_count": 10,
   "id": "a4c428f8",
   "metadata": {},
   "outputs": [
    {
     "name": "stdout",
     "output_type": "stream",
     "text": [
      "nhập vào số độ F: 40\n",
      "chuyển đổi sang nhiệt độ C là: 4.444444444444445\n"
     ]
    }
   ],
   "source": [
    "# viết chương trình chuyển đổi nhiệt độ, từ độ C sang độ F (độ F được nhập từ bán phím người dùng)\n",
    "do_f = int(input(\"nhập vào số độ F: \"))\n",
    "do_c = (((do_f - 32)*5)/9)\n",
    "print(f\"chuyển đổi sang nhiệt độ C là: {do_c}\")"
   ]
  },
  {
   "cell_type": "code",
   "execution_count": null,
   "id": "6280ad25",
   "metadata": {},
   "outputs": [],
   "source": []
  },
  {
   "cell_type": "code",
   "execution_count": null,
   "id": "cb7fcfe7",
   "metadata": {},
   "outputs": [],
   "source": []
  }
 ],
 "metadata": {
  "kernelspec": {
   "display_name": "Python 3 (ipykernel)",
   "language": "python",
   "name": "python3"
  },
  "language_info": {
   "codemirror_mode": {
    "name": "ipython",
    "version": 3
   },
   "file_extension": ".py",
   "mimetype": "text/x-python",
   "name": "python",
   "nbconvert_exporter": "python",
   "pygments_lexer": "ipython3",
   "version": "3.8.10"
  }
 },
 "nbformat": 4,
 "nbformat_minor": 5
}
