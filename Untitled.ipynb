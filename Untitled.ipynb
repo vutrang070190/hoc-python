{
 "cells": [
  {
   "cell_type": "code",
   "execution_count": 26,
   "id": "ed5f5e60",
   "metadata": {},
   "outputs": [],
   "source": [
    "# bài thực hành vẽ mặt cười\n",
    "import turtle\n",
    "pen = turtle.Turtle()\n",
    "pen.pensize(5)\n",
    "# pen.fillcolor(\" #fa0202 \")\n",
    "pen.shape(\"square\")\n",
    "pen.penup()\n",
    "pen.goto(0, -200)\n",
    "\n",
    "facesize = 200\n",
    "eye_size = 25\n",
    "\n",
    "pen.pendown()\n",
    "pen.begin_fill()\n",
    "pen.circle(facesize)\n",
    "pen.end_fill()\n",
    "\n",
    "pen.penup()\n",
    "pen.goto(0,50)\n",
    "\n",
    "#ve mat\n",
    "pen.pendown()\n",
    "\n",
    "\n",
    "turtle.done()"
   ]
  },
  {
   "cell_type": "code",
   "execution_count": 15,
   "id": "8da39b9c",
   "metadata": {},
   "outputs": [],
   "source": [
    "turtle.done()"
   ]
  },
  {
   "cell_type": "code",
   "execution_count": null,
   "id": "efa0921f",
   "metadata": {},
   "outputs": [],
   "source": []
  },
  {
   "cell_type": "code",
   "execution_count": null,
   "id": "4ac3ee6d",
   "metadata": {},
   "outputs": [],
   "source": []
  },
  {
   "cell_type": "code",
   "execution_count": null,
   "id": "2ea5fbcc",
   "metadata": {},
   "outputs": [],
   "source": []
  },
  {
   "cell_type": "code",
   "execution_count": null,
   "id": "6d59049c",
   "metadata": {},
   "outputs": [],
   "source": []
  }
 ],
 "metadata": {
  "kernelspec": {
   "display_name": "Python 3 (ipykernel)",
   "language": "python",
   "name": "python3"
  },
  "language_info": {
   "codemirror_mode": {
    "name": "ipython",
    "version": 3
   },
   "file_extension": ".py",
   "mimetype": "text/x-python",
   "name": "python",
   "nbconvert_exporter": "python",
   "pygments_lexer": "ipython3",
   "version": "3.8.10"
  }
 },
 "nbformat": 4,
 "nbformat_minor": 5
}
