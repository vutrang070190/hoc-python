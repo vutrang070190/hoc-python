{
 "cells": [
  {
   "cell_type": "code",
   "execution_count": 8,
   "id": "0d092546",
   "metadata": {},
   "outputs": [
    {
     "ename": "SyntaxError",
     "evalue": "invalid syntax (1499336400.py, line 34)",
     "output_type": "error",
     "traceback": [
      "\u001b[1;36m  Input \u001b[1;32mIn [8]\u001b[1;36m\u001b[0m\n\u001b[1;33m    df = pd.read_table('data.txt') for '\\t'   #df = pd.read_csv('input.csv') # can replace with\u001b[0m\n\u001b[1;37m                                   ^\u001b[0m\n\u001b[1;31mSyntaxError\u001b[0m\u001b[1;31m:\u001b[0m invalid syntax\n"
     ]
    }
   ],
   "source": [
    "from tkinter import *\n",
    "import json\n",
    "import pandas as pd\n",
    "\n",
    "windows = Tk()\n",
    "windows.title(\"Tin chưa giải quyết\")\n",
    "\n",
    "windows.geometry(\"400x300\")\n",
    "windows.eval('tk::PlaceWindow . center')\n",
    "\n",
    "FILE_NAME = 'data.txt'\n",
    "def read_data_from_file(file_name):\n",
    "    with open (file_name, 'r', encoding='utf-8') as f:\n",
    "        return json.loads(f.read())\n",
    "    \n",
    "print(read_data_from_file(FILE_NAME))\n",
    "\n",
    "\n",
    "'''\n",
    "for i in range(5):\n",
    "    for j in range(3):\n",
    "        label = Label(windows, text={sdttg [i]}\\nndtingt [j])\n",
    "        label.grid(row = i, column = j)\n",
    "'''       \n",
    "\n",
    "with open('data.txt') as fin:\n",
    "    lines = fin.readlines()\n",
    "    lines[0] = \"0 \" + lines[0] + \" 0\"\n",
    "\n",
    "with open('data.txt', 'w') as fout:\n",
    "    for line in lines:\n",
    "        fout.write(line)\n",
    "\n",
    "df = pd.read_table('data.txt') for '\\t'   #df = pd.read_csv('input.csv') # can replace with\n",
    "df.to_excel('output.xlsx', 'Sheet1', index = False)\n",
    "\n",
    "\n",
    "windows.mainloop()"
   ]
  },
  {
   "cell_type": "code",
   "execution_count": 16,
   "id": "a3e79e06",
   "metadata": {},
   "outputs": [
    {
     "ename": "ModuleNotFoundError",
     "evalue": "No module named 'openpyxl'",
     "output_type": "error",
     "traceback": [
      "\u001b[1;31m---------------------------------------------------------------------------\u001b[0m",
      "\u001b[1;31mModuleNotFoundError\u001b[0m                       Traceback (most recent call last)",
      "Input \u001b[1;32mIn [16]\u001b[0m, in \u001b[0;36m<module>\u001b[1;34m\u001b[0m\n\u001b[0;32m      1\u001b[0m \u001b[38;5;28;01mimport\u001b[39;00m \u001b[38;5;21;01mcsv\u001b[39;00m\n\u001b[1;32m----> 2\u001b[0m \u001b[38;5;28;01mimport\u001b[39;00m \u001b[38;5;21;01mopenpyxl\u001b[39;00m\n\u001b[0;32m      4\u001b[0m input_file \u001b[38;5;241m=\u001b[39m \u001b[38;5;124m'\u001b[39m\u001b[38;5;124mdata.txt\u001b[39m\u001b[38;5;124m'\u001b[39m\n\u001b[0;32m      5\u001b[0m output_file \u001b[38;5;241m=\u001b[39m \u001b[38;5;124m'\u001b[39m\u001b[38;5;124mtest.csv\u001b[39m\u001b[38;5;124m'\u001b[39m\n",
      "\u001b[1;31mModuleNotFoundError\u001b[0m: No module named 'openpyxl'"
     ]
    }
   ],
   "source": [
    "import csv\n",
    "import openpyxl\n",
    "\n",
    "input_file = 'data.txt'\n",
    "output_file = 'test.csv'\n",
    "wb = openpyxl.Workbook()\n",
    "ws = wb.worksheets[0]\n",
    "with open(input_file, 'r') as d:\n",
    "    reader = csv.reader(d, delimiter='\\t')\n",
    "    for row in reader:\n",
    "        ws.append(row)\n",
    "        \n",
    "wb.save(output_file)\n"
   ]
  },
  {
   "cell_type": "code",
   "execution_count": null,
   "id": "d764d837",
   "metadata": {},
   "outputs": [],
   "source": []
  }
 ],
 "metadata": {
  "kernelspec": {
   "display_name": "Python 3 (ipykernel)",
   "language": "python",
   "name": "python3"
  },
  "language_info": {
   "codemirror_mode": {
    "name": "ipython",
    "version": 3
   },
   "file_extension": ".py",
   "mimetype": "text/x-python",
   "name": "python",
   "nbconvert_exporter": "python",
   "pygments_lexer": "ipython3",
   "version": "3.8.10"
  }
 },
 "nbformat": 4,
 "nbformat_minor": 5
}
