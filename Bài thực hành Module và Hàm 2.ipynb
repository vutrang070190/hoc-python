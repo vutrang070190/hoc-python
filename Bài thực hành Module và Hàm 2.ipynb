{
 "cells": [
  {
   "cell_type": "code",
   "execution_count": 1,
   "id": "39b54c47",
   "metadata": {},
   "outputs": [
    {
     "name": "stdout",
     "output_type": "stream",
     "text": [
      "[2, 1, 4, 6, 3, 8]\n"
     ]
    }
   ],
   "source": [
    "'''\n",
    "[Thực hành] Loại bỏ phần tử lớn nhất trong danh sách\n",
    "Viết chương trình loại bỏ phần tử lớn nhất trong mảng cho sẵn.\n",
    "'''\n",
    "numbers = [2, 1, 4, 6, 3, 8, 10]\n",
    "def remove_number(numbers):\n",
    "    largest = 0 # giả sử số lớn nhất = 0\n",
    "    for i in numbers:\n",
    "        if i > largest:\n",
    "            largest = i\n",
    "    numbers.remove(largest) # xóa phần tử lớn nhất trong mảng\n",
    "    \n",
    "    \n",
    "remove_number(numbers)\n",
    "print(numbers)\n",
    "    \n"
   ]
  },
  {
   "cell_type": "code",
   "execution_count": 3,
   "id": "c42beaf4",
   "metadata": {},
   "outputs": [],
   "source": [
    "'''\n",
    "[Thực hành] Vẽ vòng tròn hình vuông\n",
    "Viết chương trình vẽ hình tròn bằng các hình vuông xoay quanh tâm điểm.\n",
    "'''\n",
    "\n",
    "import turtle\n",
    "pen = turtle.Turtle()\n",
    "#pen.title('Square')\n",
    "pen.pencolor('red')\n",
    "\n",
    "def draw_square(a):\n",
    "    for i in range(3): # step = 3 do góc vẽ cuối cùng sẽ thay đổi giá trị\n",
    "        pen.forward(100)\n",
    "        pen.right(90)\n",
    "        i += 1\n",
    "        \n",
    "        \n",
    "        # góc vẽ cuối cùng\n",
    "    pen.forward(100)\n",
    "    pen.right(90 + a)\n",
    "    \n",
    "step = 36 # vòng quay 36 lần\n",
    "a = 360/step\n",
    "for j in range(step):\n",
    "    draw_square(a)\n",
    "    \n",
    "    \n",
    "turtle.done()\n"
   ]
  },
  {
   "cell_type": "code",
   "execution_count": 7,
   "id": "550c250d",
   "metadata": {},
   "outputs": [
    {
     "name": "stdout",
     "output_type": "stream",
     "text": [
      "danh sách quả trước khi được thêm: fruits = ['apple', 'cherry', 'banana']\n",
      "danh sách quả sau khi đã thêm: fruits = ['apple', 'cherry', 'banana', 'Mango']\n"
     ]
    }
   ],
   "source": [
    "'''\n",
    "[Thực hành] Hiển thị danh sách quả yêu thích\n",
    "Viết chương trình thêm một loại quả vào danh sách quả có sẵn bằng cách khai báo một hàm.\n",
    "'''\n",
    "\n",
    "fruits = ['apple', 'cherry', 'banana']\n",
    "\n",
    "print(f\"danh sách quả trước khi được thêm: fruits = {fruits}\")\n",
    "def add_fruits(fruit_to_add):\n",
    "    fruits.append(fruit_to_add)\n",
    "    \n",
    "\n",
    "fruit_to_add = \"Mango\"\n",
    "add_fruits(fruit_to_add)\n",
    "\n",
    "print(f\"danh sách quả sau khi đã thêm: fruits = {fruits}\")"
   ]
  },
  {
   "cell_type": "code",
   "execution_count": 24,
   "id": "fc34d940",
   "metadata": {},
   "outputs": [
    {
     "name": "stdout",
     "output_type": "stream",
     "text": [
      "nhập vào số thứ nhất: 5\n",
      "nhập vào số thứ hai: 4\n",
      "nhập vào phép tính mà bạn muốn: +\n",
      "5 + 4 = 9\n"
     ]
    }
   ],
   "source": [
    "'''\n",
    "[Thực hành] Tạo máy tính đơn giản\n",
    "Viết chương trình cho phép người dùng nhập hai số và chọn toán tử (cộng, trừ, nhân, chia)\n",
    "để thực hiện phép tính, sau đó sẽ in ra cho người dùng kết quả của phép tính.\n",
    "(sử dụng if,else)\n",
    "'''\n",
    "\n",
    "# tạo hàm phép tính cộng\n",
    "def add(num1, num2):\n",
    "    return num1 + num2\n",
    "\n",
    "# tạo hàm phép tinh trừ\n",
    "def subtraction(num1, num2):\n",
    "    return num1 - num2\n",
    "\n",
    "# tạo hàm phép tính nhân\n",
    "def multiplication(num1, num2):\n",
    "    return num1 * num2\n",
    "\n",
    "# tạo hàm phép tính chia\n",
    "def division(num1, num2):\n",
    "    return num1 / num2\n",
    "\n",
    "\n",
    "number_1 = int(input(\"nhập vào số thứ nhất: \"))\n",
    "number_2 = int(input(\"nhập vào số thứ hai: \"))\n",
    "\n",
    "option = input(\"nhập vào phép tính mà bạn muốn: \")\n",
    "\n",
    "\n",
    "if option == '+':\n",
    "    print(f\"{number_1} + {number_2} = {add(number_1, number_2)}\")\n",
    "elif option == '-':\n",
    "    print(f\"{number_1} - {number_2} = {subtraction(number_1, number_2)}\")\n",
    "elif option == '*':\n",
    "    print(f\"{number_1} * {number_2} = {multiplication(number_1, number_2)}\")\n",
    "elif option == '/':\n",
    "    print(f\"{number_1} / {number_2} = {division(number_1, number_2)}\")\n",
    "else:\n",
    "    print(\"không hợp lệ\")\n",
    "\n",
    "\n",
    "    "
   ]
  },
  {
   "cell_type": "code",
   "execution_count": 4,
   "id": "a3a255d9",
   "metadata": {},
   "outputs": [
    {
     "name": "stdout",
     "output_type": "stream",
     "text": [
      "Your expenses: []\n",
      "What do you want to do? -\n",
      "1. Add\n",
      "2. Remove\n",
      "Select option 1 or 2: 1\n",
      "Item name: văn phòng phẩm\n",
      "Item cost: 500\n",
      "Date: 11/04/2022\n",
      "Your expenses:  [{'name': 'văn phòng phẩm', 'cost': 500, 'date': '11/04/2022'}]\n"
     ]
    }
   ],
   "source": [
    "'''\n",
    "[Bài tập] Ứng dụng quản lý chi tiêu cá nhân\n",
    "Viết chương trình cho phép người dùng thêm hoặc xoá các mục chi tiêu cá nhân và in ra các mục chi tiêu đó.\n",
    "Mục chi tiêu bao gồm: tên, giá trị chi và ngày chi\n",
    "'''\n",
    "\n",
    "def add_item(myTempList, item):    \n",
    "    myTempList.append(item)\n",
    "\n",
    "    \n",
    "def find_index_item(myTempList, item_name):\n",
    "    result = -1\n",
    "    length = len(myTempList)\n",
    "    for i in range(length):\n",
    "        if myTempList[i]['name'] == item_name:\n",
    "            result = i\n",
    "    return result\n",
    "\n",
    "\n",
    "def remove_item(myTempList, item_name):\n",
    "    if find_index_item(myTempList, item_name) > -1:\n",
    "        del myTempList[find_index_item(myTempList, item_name)]\n",
    "    else:\n",
    "        print(item_name + \" not in list\")\n",
    "  \n",
    "\n",
    "expenses = []\n",
    "\n",
    "print(\"Your expenses:\", expenses)\n",
    "\n",
    "print(\"What do you want to do? -\\n\"\\\n",
    "        \"1. Add\\n\" \\\n",
    "        \"2. Remove\")\n",
    "\n",
    "option = int(input(\"Select option 1 or 2: \"))\n",
    "\n",
    "name_input = input(\"Item name: \")\n",
    "\n",
    "if option == 1:\n",
    "    cost_input = int(input(\"Item cost: \"))\n",
    "    date_input = input(\"Date: \")\n",
    "    item = {'name': name_input, 'cost':cost_input, 'date':date_input}\n",
    "    add_item(expenses, item)\n",
    "    print(\"Your expenses: \", expenses)\n",
    "elif option == 2:\n",
    "    remove_item(expenses, name_input)\n",
    "    print(\"Your expenses: \", expenses)\n",
    "else:\n",
    "    print(\"Invalid input\")"
   ]
  },
  {
   "cell_type": "code",
   "execution_count": 5,
   "id": "535f71fd",
   "metadata": {},
   "outputs": [
    {
     "name": "stdout",
     "output_type": "stream",
     "text": [
      "nhập vào 1 chuỗi ký tự: trang\n",
      "độ dài của chuỗi là: 5\n"
     ]
    }
   ],
   "source": [
    "'''\n",
    "[Bài tập] Đếm số ký tự trong chuỗi sử dụng hàm\n",
    "Viết chương trình cho phép người dùng nhập chuỗi và và hiển thị số ký tự trong chuỗi vừa nhập vào.\n",
    "'''\n",
    "\n",
    "chuoi = input(\"nhập vào 1 chuỗi ký tự: \")\n",
    "\n",
    "def count_char(txt):\n",
    "    result = 0\n",
    "    for i in txt:\n",
    "        result += 1\n",
    "    return result\n",
    "\n",
    "\n",
    "print(f\"độ dài của chuỗi là: {count_char(chuoi)}\")\n",
    "        "
   ]
  },
  {
   "cell_type": "code",
   "execution_count": 12,
   "id": "fb761d6d",
   "metadata": {},
   "outputs": [
    {
     "name": "stdout",
     "output_type": "stream",
     "text": [
      "nhập vào số nguyên thứ nhất: 5\n",
      "nhập vào số nguyên thứ hai: 2\n",
      "nhập vào số nguyên thứ ba: 4\n",
      "trước khi sắp xếp: (5, 2, 4)\n",
      "Sau khi sắp xếp theo chiều tăng dần: (2, 4, 5)\n"
     ]
    }
   ],
   "source": [
    "'''\n",
    "[Bài tập] Sắp xếp các số nguyên\n",
    "Viết chương trình cho người dùng nhập vào 3 số nguyên bất kỳ,\n",
    "sau đó sẽ in ra thứ tự tăng dần của 3 số nguyên được nhập vào.\n",
    "'''\n",
    "\n",
    "a = int(input(\"nhập vào số nguyên thứ nhất: \"))\n",
    "b = int(input(\"nhập vào số nguyên thứ hai: \"))\n",
    "c = int(input(\"nhập vào số nguyên thứ ba: \"))\n",
    "print(f\"trước khi sắp xếp: {a,b,c}\")\n",
    "\n",
    "def sort_number(num1, num2, num3):\n",
    "    temp = 0\n",
    "\n",
    "    if num2 < num1 and num2 < num3:\n",
    "        temp = num1\n",
    "        num1 = num2\n",
    "        num2 = temp\n",
    "    elif num3 < num1 and num3 < num2:\n",
    "        temp = num1\n",
    "        num1 = num3\n",
    "        num3 = temp\n",
    "    if num3 < num2:\n",
    "        temp = num2\n",
    "        num2 = num3\n",
    "        num3 = temp\n",
    "        \n",
    "    return(num1, num2, num3)\n",
    "        \n",
    "\n",
    "print(f\"Sau khi sắp xếp theo chiều tăng dần: {sort_number(a,b,c)}\")\n"
   ]
  },
  {
   "cell_type": "code",
   "execution_count": 25,
   "id": "a26dd7fe",
   "metadata": {},
   "outputs": [
    {
     "ename": "NameError",
     "evalue": "name 'numbers' is not defined",
     "output_type": "error",
     "traceback": [
      "\u001b[1;31m---------------------------------------------------------------------------\u001b[0m",
      "\u001b[1;31mNameError\u001b[0m                                 Traceback (most recent call last)",
      "Input \u001b[1;32mIn [25]\u001b[0m, in \u001b[0;36m<module>\u001b[1;34m\u001b[0m\n\u001b[0;32m     11\u001b[0m         \u001b[38;5;28;01mif\u001b[39;00m num \u001b[38;5;241m<\u001b[39m result:\n\u001b[0;32m     12\u001b[0m             result \u001b[38;5;241m=\u001b[39m num\n\u001b[1;32m---> 15\u001b[0m \u001b[38;5;28mprint\u001b[39m(\u001b[38;5;124mf\u001b[39m\u001b[38;5;124m\"\u001b[39m\u001b[38;5;124mgiá trị nhỏ nhất trong mảng là: \u001b[39m\u001b[38;5;132;01m{\u001b[39;00mmin_number(numbers)\u001b[38;5;132;01m}\u001b[39;00m\u001b[38;5;124m\"\u001b[39m)\n",
      "\u001b[1;31mNameError\u001b[0m: name 'numbers' is not defined"
     ]
    }
   ],
   "source": [
    "'''\n",
    "[Bài tập] Tìm giá trị nhỏ nhất trong danh sách\n",
    "Viết chương trình tìm giá trị nhỏ nhất trong mảng số cho trước\n",
    "'''\n",
    "\n",
    "list = [7, 4, 2, 8, 6, 1]\n",
    "result = list[0]\n",
    "\n",
    "def min_number(numbers):\n",
    "    for num in numbers:\n",
    "        if num < result:\n",
    "            result = num\n",
    "            \n",
    "            \n",
    "print(f\"giá trị nhỏ nhất trong mảng là: {min_number(numbers)}\")"
   ]
  },
  {
   "cell_type": "code",
   "execution_count": null,
   "id": "ec8d0526",
   "metadata": {},
   "outputs": [],
   "source": []
  }
 ],
 "metadata": {
  "kernelspec": {
   "display_name": "Python 3 (ipykernel)",
   "language": "python",
   "name": "python3"
  },
  "language_info": {
   "codemirror_mode": {
    "name": "ipython",
    "version": 3
   },
   "file_extension": ".py",
   "mimetype": "text/x-python",
   "name": "python",
   "nbconvert_exporter": "python",
   "pygments_lexer": "ipython3",
   "version": "3.8.10"
  }
 },
 "nbformat": 4,
 "nbformat_minor": 5
}
