{
 "cells": [
  {
   "cell_type": "markdown",
   "id": "05948314",
   "metadata": {},
   "source": [
    "# Function"
   ]
  },
  {
   "cell_type": "code",
   "execution_count": 2,
   "id": "baf7c961",
   "metadata": {},
   "outputs": [
    {
     "name": "stdout",
     "output_type": "stream",
     "text": [
      "nhập vào tên của học viên thứ nhất: Yến xuân trang\n",
      "nhập vào tên của học viên thứ hai: xuân\n",
      "nhập vào tên của học viên thứ ba: trang\n",
      "tên của 3 người: Yến xuân trang, xuân, trang\n"
     ]
    }
   ],
   "source": [
    "#viết 1 chương trình nhập vào tên của 3 học viên khác nhau và in ra tên của 3 học viên đó\n",
    "\n",
    "ten1 = input(\"nhập vào tên của học viên thứ nhất: \")\n",
    "\n",
    "ten2 = input(\"nhập vào tên của học viên thứ hai: \")\n",
    "\n",
    "ten3 = input(\"nhập vào tên của học viên thứ ba: \")\n",
    "print(f\"tên của 3 người: {ten1}, {ten2}, {ten3}\")"
   ]
  },
  {
   "cell_type": "code",
   "execution_count": null,
   "id": "0ca312bd",
   "metadata": {},
   "outputs": [],
   "source": [
    "for i in range(3):\n",
    "    ten = str(input(f\"Nhập tên học viên {i+1}:\"))\n",
    "    print(ten)"
   ]
  },
  {
   "cell_type": "code",
   "execution_count": 4,
   "id": "b2816791",
   "metadata": {},
   "outputs": [
    {
     "name": "stdout",
     "output_type": "stream",
     "text": [
      "Nhập tên học viên 1: yến\n",
      "yến\n",
      "Nhập tên học viên 2: xuân\n",
      "xuân\n",
      "Nhập tên học viên 3: trang\n",
      "trang\n",
      "Tên dài nhất có 5 kí tự\n"
     ]
    }
   ],
   "source": [
    "# viết chương trình nhập vào tên của 3 học viên khác nhau và in ra tên của 3 học viên đó\n",
    "#sau đó cho biết tên dài nhất có bao nhiêu ký tự\n",
    "a = 0\n",
    "for i in range(3):\n",
    "    ten = str(input(f\"Nhập tên học viên {i+1}: \"))\n",
    "    print(ten)\n",
    "    if len(ten) > a:\n",
    "        a = len(ten)\n",
    "print(f\"Tên dài nhất có {a} kí tự\")\n"
   ]
  },
  {
   "cell_type": "code",
   "execution_count": null,
   "id": "34686f70",
   "metadata": {},
   "outputs": [],
   "source": [
    "name1 = input(\"Nhap ten: \")\n",
    "name2 = input(\"Nhap ten: \")\n",
    "name3 = input(\"Nhap ten: \")\n",
    "\n",
    "if len(name1) > len(name2):\n",
    "    if len(name1) > len(name3):\n",
    "        print(\"Ten giai nhat la \",name1)\n",
    "    else:\n",
    "        print(\"Ten dai nhat la\", name3)\n"
   ]
  },
  {
   "cell_type": "markdown",
   "id": "3b68247e",
   "metadata": {},
   "source": [
    "## Function(hàm) là gì?"
   ]
  },
  {
   "cell_type": "markdown",
   "id": "cf84a685",
   "metadata": {},
   "source": [
    "Hàm (function) là một khối lệnh đặc biệt, nó được đặt tên, giúp mã chương trình dễ đọc hơn, và có thể gọi để sử dụng ở các nơi khác nhau trong chương trình. Hàm chính là khối lệnh có thể tái sử dụng (reuseable)."
   ]
  },
  {
   "cell_type": "markdown",
   "id": "3636c8b1",
   "metadata": {},
   "source": [
    "### Hàm\n",
    "\n",
    "Cú pháp:\n",
    "\n",
    "`def <tên hàm>(<tham số)>:\n",
    "    //Nội dung hàm`\n",
    "\n",
    "Gọi hàm:\n",
    "`<tên hàm>(<giá trị đầu vào>)`"
   ]
  },
  {
   "cell_type": "markdown",
   "id": "18f95aa8",
   "metadata": {},
   "source": [
    "### Ví dụ: Hàm in"
   ]
  },
  {
   "cell_type": "code",
   "execution_count": 6,
   "id": "0753ca43",
   "metadata": {},
   "outputs": [
    {
     "name": "stdout",
     "output_type": "stream",
     "text": [
      "hello word \n"
     ]
    }
   ],
   "source": [
    "print(\"hello word \")"
   ]
  },
  {
   "cell_type": "markdown",
   "id": "29c55e2b",
   "metadata": {},
   "source": [
    "### Ví dụ: Hàm tính giá trị tuyệt đối"
   ]
  },
  {
   "cell_type": "code",
   "execution_count": 5,
   "id": "e492700a",
   "metadata": {},
   "outputs": [
    {
     "data": {
      "text/plain": [
       "2"
      ]
     },
     "execution_count": 5,
     "metadata": {},
     "output_type": "execute_result"
    }
   ],
   "source": [
    "abs(-2)"
   ]
  },
  {
   "cell_type": "markdown",
   "id": "07fa617d",
   "metadata": {},
   "source": [
    "### Ví dụ: Hàm vẽ hình tròn"
   ]
  },
  {
   "cell_type": "code",
   "execution_count": 7,
   "id": "2a2dec85",
   "metadata": {},
   "outputs": [],
   "source": [
    "import turtle\n",
    "pen = turtle.Turtle()\n",
    "pen.circle(100)\n",
    "turtle.done()"
   ]
  },
  {
   "cell_type": "markdown",
   "id": "c4575e29",
   "metadata": {},
   "source": [
    "## Xây dựng và sử dụng hàm trong python"
   ]
  },
  {
   "cell_type": "markdown",
   "id": "00ac6720",
   "metadata": {},
   "source": [
    "### Hàm say_hello"
   ]
  },
  {
   "cell_type": "code",
   "execution_count": 9,
   "id": "47575691",
   "metadata": {},
   "outputs": [],
   "source": [
    "# tạo ra 1 hàm say_hello để in hello word ra màn hình\n",
    "def say_hello(): # def chỉ là mô tả hàm nên khi chạy sẽ không cho ra kết quả\n",
    "    print(\"hello word\")\n"
   ]
  },
  {
   "cell_type": "code",
   "execution_count": 10,
   "id": "5b1ad39f",
   "metadata": {},
   "outputs": [
    {
     "name": "stdout",
     "output_type": "stream",
     "text": [
      "hello word\n"
     ]
    }
   ],
   "source": [
    "say_hello() # gọi hàm để cho ra kết quả"
   ]
  },
  {
   "cell_type": "markdown",
   "id": "f9b6f894",
   "metadata": {},
   "source": [
    "### Hàm vẽ cây thông"
   ]
  },
  {
   "cell_type": "code",
   "execution_count": 14,
   "id": "0994ceed",
   "metadata": {},
   "outputs": [],
   "source": [
    "\n",
    "def cay_thong():\n",
    "  \n",
    "    import turtle\n",
    "    pen = turtle.Turtle()\n",
    "    pen.speed(9)\n",
    "\n",
    "    # ve la cay\n",
    "\n",
    "    pen.pencolor(\"#21610B\")\n",
    "\n",
    "    pen.fillcolor(\"#21610B\")\n",
    "    pen.begin_fill()\n",
    "\n",
    "    pen.right(180)\n",
    "    pen.goto(0,40)\n",
    "    pen.circle(50, steps = 3)\n",
    "    pen.end_fill()\n",
    "\n",
    "    pen.penup()\n",
    "    pen.goto(0,10)\n",
    "    pen.pendown()\n",
    "\n",
    "    pen.fillcolor(\"#21610B\")\n",
    "    pen.begin_fill()\n",
    "\n",
    "\n",
    "    pen.circle(50, steps = 3)\n",
    "    pen.end_fill()\n",
    "\n",
    "    pen.penup()\n",
    "    pen.goto(0,-20)\n",
    "    pen.pendown()\n",
    "\n",
    "    pen.fillcolor(\"#21610B\")\n",
    "    pen.begin_fill()\n",
    "\n",
    "\n",
    "    pen.circle(50, steps = 3)\n",
    "    pen.end_fill()\n",
    "\n",
    "    # ve than cay\n",
    "    pen.penup()\n",
    "    pen.goto(19,-95)\n",
    "    pen.pendown()\n",
    "\n",
    "    pen.pencolor(\"#886A08\")\n",
    "\n",
    "    pen.fillcolor(\"#886A08\")\n",
    "    pen.begin_fill()\n",
    "\n",
    "    pen.left(90)\n",
    "\n",
    "    pen.forward(100)\n",
    "    pen.right(90)\n",
    "    pen.forward(40)\n",
    "    pen.right(90)\n",
    "    pen.forward(100)\n",
    "    pen.right(90)\n",
    "    pen.forward(40)\n",
    "\n",
    "    pen.end_fill()\n",
    "\n",
    "\n",
    "    turtle.done()\n",
    "\n",
    "    \n"
   ]
  },
  {
   "cell_type": "code",
   "execution_count": 15,
   "id": "5de59089",
   "metadata": {},
   "outputs": [],
   "source": [
    "cay_thong()"
   ]
  },
  {
   "attachments": {
    "image.png": {
     "image/png": "[encoded data removed]"
    }
   },
   "cell_type": "markdown",
   "id": "08fa2b6b",
   "metadata": {},
   "source": [
    "### Thực hành: Viết hàm vẽ ra hình ảnh như dưới đây:\n",
    "![image.png](attachment:image.png)"
   ]
  },
  {
   "cell_type": "code",
   "execution_count": 18,
   "id": "b3161e2c",
   "metadata": {},
   "outputs": [],
   "source": [
    "def draw_circles():\n",
    "    size = int(input('Nhap ban kinh: '))\n",
    "    import turtle\n",
    "    pen = turtle.Turtle()\n",
    "    for i in range(6):\n",
    "        pen.circle(size)\n",
    "        pen.penup()\n",
    "        pen.rt(90)\n",
    "        pen.fd(20)\n",
    "        pen.lt(90)\n",
    "        pen.pendown()\n",
    "        size+=20\n",
    "    turtle.done()\n"
   ]
  },
  {
   "cell_type": "code",
   "execution_count": 20,
   "id": "f3ee2cfa",
   "metadata": {},
   "outputs": [
    {
     "name": "stdout",
     "output_type": "stream",
     "text": [
      "Nhap ban kinh: 100\n"
     ]
    }
   ],
   "source": [
    "draw_circles()"
   ]
  },
  {
   "cell_type": "markdown",
   "id": "77fa1ef1",
   "metadata": {},
   "source": [
    "## doc_string cho hàm"
   ]
  },
  {
   "cell_type": "code",
   "execution_count": 8,
   "id": "8dcf448b",
   "metadata": {},
   "outputs": [],
   "source": [
    "# Hàm tính chu vi hình chữ nhật\n",
    "def calc_rectangle_perimeter():\n",
    "    '''hàm này dùng để tính chu vi hình chữ nhật '''\n",
    "    pass"
   ]
  },
  {
   "cell_type": "code",
   "execution_count": 9,
   "id": "7acfbf3e",
   "metadata": {},
   "outputs": [
    {
     "data": {
      "text/plain": [
       "'hàm này dùng để tính chu vi hình chữ nhật '"
      ]
     },
     "execution_count": 9,
     "metadata": {},
     "output_type": "execute_result"
    }
   ],
   "source": [
    "calc_rectangle_perimeter.__doc__   # cách lấy ghi chú cho hàm"
   ]
  },
  {
   "cell_type": "code",
   "execution_count": 10,
   "id": "570bfddc",
   "metadata": {},
   "outputs": [
    {
     "name": "stdout",
     "output_type": "stream",
     "text": [
      "Help on built-in function print in module builtins:\n",
      "\n",
      "print(...)\n",
      "    print(value, ..., sep=' ', end='\\n', file=sys.stdout, flush=False)\n",
      "    \n",
      "    Prints the values to a stream, or to sys.stdout by default.\n",
      "    Optional keyword arguments:\n",
      "    file:  a file-like object (stream); defaults to the current sys.stdout.\n",
      "    sep:   string inserted between values, default a space.\n",
      "    end:   string appended after the last value, default a newline.\n",
      "    flush: whether to forcibly flush the stream.\n",
      "\n"
     ]
    }
   ],
   "source": [
    "help(print)"
   ]
  },
  {
   "cell_type": "code",
   "execution_count": 8,
   "id": "a7dc57e9",
   "metadata": {},
   "outputs": [
    {
     "name": "stdout",
     "output_type": "stream",
     "text": [
      "nhập vào điểm trung bình của học sinh: 7.8\n",
      "là học sinh khá: 7.8\n"
     ]
    }
   ],
   "source": [
    "# Hàm xếp loại học sinh\n",
    "# viết hàm nhập vào điểm trung bình của học sinh và in ra hoc lực của học sinh đó theo quy tắc\n",
    "# nếu trung bình >= 8: in ra học sinh giỏi\n",
    "# nếu trung bình >= 5: in ra học sinh khá\n",
    "# ngược lại: in ra học sinh trung bình\n",
    "\n",
    "def hoc_luc():\n",
    "    diem_trung_binh = float(input(\"nhập vào điểm trung bình của học sinh: \"))\n",
    "    if diem_trung_binh >= 8:\n",
    "        print(f\"là hoc sinh giỏi: {diem_trung_binh}\")\n",
    "    elif diem_trung_binh >= 5:\n",
    "        print(f\"là học sinh khá: {diem_trung_binh}\")\n",
    "    else:\n",
    "        print(f\"là học sinh trung bình: {diem_trung_binh}\")\n",
    "        \n",
    "hoc_luc()"
   ]
  },
  {
   "cell_type": "code",
   "execution_count": null,
   "id": "6e32752d",
   "metadata": {},
   "outputs": [],
   "source": []
  },
  {
   "cell_type": "markdown",
   "id": "0c5f3f35",
   "metadata": {},
   "source": [
    "## Phạm vi biến"
   ]
  },
  {
   "cell_type": "code",
   "execution_count": 29,
   "id": "b332222c",
   "metadata": {},
   "outputs": [
    {
     "name": "stdout",
     "output_type": "stream",
     "text": [
      "55\n"
     ]
    },
    {
     "ename": "NameError",
     "evalue": "name 'tong' is not defined",
     "output_type": "error",
     "traceback": [
      "\u001b[1;31m---------------------------------------------------------------------------\u001b[0m",
      "\u001b[1;31mNameError\u001b[0m                                 Traceback (most recent call last)",
      "Input \u001b[1;32mIn [29]\u001b[0m, in \u001b[0;36m<module>\u001b[1;34m\u001b[0m\n\u001b[0;32m      9\u001b[0m     \u001b[38;5;28mprint\u001b[39m(tong)\n\u001b[0;32m     11\u001b[0m calc_sum_1_to_10()\n\u001b[1;32m---> 12\u001b[0m \u001b[38;5;28mprint\u001b[39m(\u001b[43mtong\u001b[49m)\n",
      "\u001b[1;31mNameError\u001b[0m: name 'tong' is not defined"
     ]
    }
   ],
   "source": [
    "# Hàm tính tổng các số từ 1 đến 10\n",
    "'''\n",
    "Những biến số được tao ra bên trong hàm chỉ đươc sử dụng bên trong hàm, khi biến kết thúc, tự động xóa đi\n",
    "'''\n",
    "def calc_sum_1_to_10():\n",
    "    tong = 0\n",
    "    for i in range (11):\n",
    "        tong += i\n",
    "    print(tong)\n",
    "    \n",
    "calc_sum_1_to_10()\n",
    "print(tong) \n"
   ]
  },
  {
   "cell_type": "code",
   "execution_count": 3,
   "id": "03f9ec8f",
   "metadata": {},
   "outputs": [],
   "source": [
    "day = 22\n",
    "\n",
    "def print_day():\n",
    "    day = 23\n",
    "    print(day)"
   ]
  },
  {
   "cell_type": "code",
   "execution_count": 4,
   "id": "01a2d614",
   "metadata": {},
   "outputs": [
    {
     "name": "stdout",
     "output_type": "stream",
     "text": [
      "23\n"
     ]
    }
   ],
   "source": [
    "print_day() # global"
   ]
  },
  {
   "cell_type": "code",
   "execution_count": 7,
   "id": "121db184",
   "metadata": {},
   "outputs": [
    {
     "name": "stdout",
     "output_type": "stream",
     "text": [
      "22\n"
     ]
    }
   ],
   "source": [
    "print(day) #local"
   ]
  },
  {
   "cell_type": "markdown",
   "id": "7407e8fe",
   "metadata": {},
   "source": [
    "## Đối số của hàm"
   ]
  },
  {
   "cell_type": "code",
   "execution_count": 9,
   "id": "f5787950",
   "metadata": {},
   "outputs": [
    {
     "name": "stdout",
     "output_type": "stream",
     "text": [
      "125\n"
     ]
    }
   ],
   "source": [
    "# Hàm tính thể tích hình lập phương: cạnh(side), volume(thể tích), cube(hình lập phương)\n",
    "def calc_cube_volume(side):\n",
    "    volume = side **3\n",
    "    print(volume)\n",
    "    \n",
    "calc_cube_volume(5)"
   ]
  },
  {
   "cell_type": "code",
   "execution_count": 11,
   "id": "8d1bc23b",
   "metadata": {},
   "outputs": [
    {
     "name": "stdout",
     "output_type": "stream",
     "text": [
      "học sinh giỏi \n"
     ]
    }
   ],
   "source": [
    "# Hàm xếp loại học sinh\n",
    "# viết hàm nhập vào điểm trung bình(ave_mark) của học sinh và in ra hoc lực của học sinh đó theo quy tắc\n",
    "# nếu trung bình >= 8: in ra học sinh giỏi\n",
    "# nếu trung bình >= 5: in ra học sinh khá\n",
    "# ngược lại: in ra học sinh trung bình\n",
    "\n",
    "\n",
    "def calc_average_mark(ave_mark):\n",
    "    if ave_mark >= 8:\n",
    "        print(\"học sinh giỏi \")\n",
    "    elif ave_mark >= 5:\n",
    "        print(\"học sinh khá \")\n",
    "    else:\n",
    "        print(\"học sinh trung bình \")\n",
    "        \n",
    "        \n",
    "calc_average_mark(8.5)\n"
   ]
  },
  {
   "cell_type": "markdown",
   "id": "1eee19a7",
   "metadata": {},
   "source": [
    "### Thực hành: Viết hàm nhận vào một số nguyên và kiểm tra xem số đó có phải là số nguyên tố hay không.\n"
   ]
  },
  {
   "cell_type": "code",
   "execution_count": 17,
   "id": "d3c5d3a9",
   "metadata": {},
   "outputs": [
    {
     "name": "stdout",
     "output_type": "stream",
     "text": [
      "11 là số nguyên tố \n"
     ]
    }
   ],
   "source": [
    "def is_prime_number(number):\n",
    "    flag = True\n",
    "    \n",
    "    \n",
    "    for i in range(2, number):\n",
    "        if not number % i:\n",
    "            flag = False\n",
    "            break\n",
    "    \n",
    "    if flag:\n",
    "        print(f\"{number} là số nguyên tố \")\n",
    "    else:\n",
    "        print(f\"{number} không là số nguyên tố \")\n",
    "    \n",
    "\n",
    "is_prime_number(11)\n",
    "    "
   ]
  },
  {
   "cell_type": "markdown",
   "id": "dea3b237",
   "metadata": {},
   "source": [
    "## Đối số có giá trị mặc định"
   ]
  },
  {
   "cell_type": "code",
   "execution_count": 24,
   "id": "8e871a22",
   "metadata": {},
   "outputs": [
    {
     "name": "stdout",
     "output_type": "stream",
     "text": [
      "hello Trang, How are you?\n"
     ]
    }
   ],
   "source": [
    "# viết hàm greeting() nhận vào 'name' và 'sentance' sau đó in ra câu chào tương úng\n",
    "# greeting('Long', 'how are you') => hello Long, how are you?\n",
    "def greeting(name, sentance):\n",
    "    print(f\"hello {name}, {sentance}?\")\n",
    "    \n",
    "greeting(\"Trang\", \"How are you\")"
   ]
  },
  {
   "cell_type": "code",
   "execution_count": 25,
   "id": "bb44715a",
   "metadata": {},
   "outputs": [
    {
     "name": "stdout",
     "output_type": "stream",
     "text": [
      "hello Trang, how it's going?\n"
     ]
    }
   ],
   "source": [
    "def greeting(name, sentance = \"How are you\"): # có thể truyền giá trị mặc định là How are you\n",
    "    print(f\"hello {name}, {sentance}?\")\n",
    "    \n",
    "greeting(\"Trang\", \"how it's going\")"
   ]
  },
  {
   "cell_type": "markdown",
   "id": "4cb69485",
   "metadata": {},
   "source": [
    "## Giá trị trả về của hàm"
   ]
  },
  {
   "cell_type": "markdown",
   "id": "e4fac396",
   "metadata": {},
   "source": [
    "\n",
    "# return\n",
    "\n",
    "Cú pháp:\n",
    "\n",
    "`return <giá trị trả về>`\n",
    "\n",
    "##### Lưu ý: Sau khi thực hiện lệnh return, chương trình sẽ thoát khỏi hàm ngay lập tức (những lệnh sau đó không được thực hiện)\n",
    "\n",
    "Ví dụ:\n",
    "\n",
    "Hãy viết 1 hàm trả về giá trị trung bình của 2 số bất kỳ"
   ]
  },
  {
   "cell_type": "code",
   "execution_count": 27,
   "id": "028b09bc",
   "metadata": {},
   "outputs": [
    {
     "name": "stdout",
     "output_type": "stream",
     "text": [
      "4.0\n"
     ]
    }
   ],
   "source": [
    "def calc_average(num1, num2):\n",
    "    average = (num1 + num2)/2\n",
    "    return(average)\n",
    "\n",
    "result = calc_average(3,5)\n",
    "print(result)"
   ]
  },
  {
   "cell_type": "code",
   "execution_count": 9,
   "id": "24592238",
   "metadata": {},
   "outputs": [
    {
     "name": "stdout",
     "output_type": "stream",
     "text": [
      "độ dài chuỗi đó là: 5\n"
     ]
    }
   ],
   "source": [
    "# Hàm tính chiều dài của chuỗi\n",
    "# viết hàm string_len(string) nhận về 1 'string' và trả về độ dài string đó\n",
    "def string_len(string):\n",
    "    return(len(string))\n",
    "result = string_len(\"trang\")\n",
    "print(f\"độ dài chuỗi đó là: {result}\")"
   ]
  },
  {
   "cell_type": "code",
   "execution_count": 4,
   "id": "56d947d8",
   "metadata": {},
   "outputs": [
    {
     "ename": "SyntaxError",
     "evalue": "invalid syntax (2775826240.py, line 7)",
     "output_type": "error",
     "traceback": [
      "\u001b[1;36m  Input \u001b[1;32mIn [4]\u001b[1;36m\u001b[0m\n\u001b[1;33m    result 1\u001b[0m\n\u001b[1;37m           ^\u001b[0m\n\u001b[1;31mSyntaxError\u001b[0m\u001b[1;31m:\u001b[0m invalid syntax\n"
     ]
    }
   ],
   "source": [
    "# Hàm tính lũy thừa\n",
    "# viết hàm calc_factorial(num) nhận về 1 number và trả về giai thừa của nó\n",
    "def calc_factorial(num):\n",
    "    if num == 0 or num == 1:\n",
    "        return 1\n",
    "    else:\n",
    "        result 1\n",
    "        for i in range(2, num + 1):\n",
    "            result *= i\n",
    "        \n",
    "        return result\n",
    "    \n",
    "print(calc_factorial(4))\n",
    "    "
   ]
  },
  {
   "cell_type": "code",
   "execution_count": null,
   "id": "0178d43e",
   "metadata": {},
   "outputs": [],
   "source": [
    "# Hàm kiểm tra năm nhuận\n",
    "# viết hàm is_leep_year(year)\n",
    "\n",
    "def is_leep_year(year):\n",
    "    if year % 400 == 0 or (year % 4 == 0 and year % 100 != 0)\n",
    "    \n"
   ]
  }
 ],
 "metadata": {
  "kernelspec": {
   "display_name": "Python 3 (ipykernel)",
   "language": "python",
   "name": "python3"
  },
  "language_info": {
   "codemirror_mode": {
    "name": "ipython",
    "version": 3
   },
   "file_extension": ".py",
   "mimetype": "text/x-python",
   "name": "python",
   "nbconvert_exporter": "python",
   "pygments_lexer": "ipython3",
   "version": "3.8.10"
  }
 },
 "nbformat": 4,
 "nbformat_minor": 5
}
