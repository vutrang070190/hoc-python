{
 "cells": [
  {
   "cell_type": "code",
   "execution_count": 1,
   "id": "7c279d99",
   "metadata": {},
   "outputs": [
    {
     "name": "stdout",
     "output_type": "stream",
     "text": [
      "1\n",
      "2\n",
      "3\n",
      "4\n",
      "5\n",
      "6\n",
      "7\n",
      "8\n",
      "9\n",
      "10\n"
     ]
    }
   ],
   "source": [
    "'''\n",
    "Warm-up: In ra 10 số tự nhiên đầu tiên từ 1 đến 10\n",
    "'''\n",
    "for i in range(1,11):\n",
    "    print(i)\n"
   ]
  },
  {
   "cell_type": "code",
   "execution_count": 5,
   "id": "66918d7e",
   "metadata": {},
   "outputs": [
    {
     "name": "stdout",
     "output_type": "stream",
     "text": [
      "nhập vào số nguyên dương n= 4\n",
      "tổng các số tự nhiên từ 1 đến 4 là 10\n"
     ]
    }
   ],
   "source": [
    "'''\n",
    "Bài 1: Nhập vào số nguyên dương n. Tính tổng các số tự nhiên từ 1 đến n.\n",
    "'''\n",
    "n = int(input(\"nhập vào số nguyên dương n= \"))\n",
    "tong = 0\n",
    "for i in range(1, n+1):\n",
    "    tong += i\n",
    "print(f\"tổng các số tự nhiên từ 1 đến {n} là {tong}\")\n"
   ]
  },
  {
   "cell_type": "code",
   "execution_count": null,
   "id": "604f5d4c",
   "metadata": {},
   "outputs": [],
   "source": [
    "n = int(input(\"nhập vào số n: \"))\n",
    "tong = 0\n",
    "for i in range(1,n+1, ):\n",
    "    tong += i\n",
    "print(f\"tổng bằng {tong}\")"
   ]
  },
  {
   "cell_type": "code",
   "execution_count": 32,
   "id": "be255bdc",
   "metadata": {},
   "outputs": [
    {
     "name": "stdout",
     "output_type": "stream",
     "text": [
      " nhập vào số nguyên dương n : 5\n",
      "bảng cửu chương từ 1 đến 10 của n là :\n",
      "1*5 = 5\n",
      "2*5 = 10\n",
      "3*5 = 15\n",
      "4*5 = 20\n",
      "5*5 = 25\n",
      "6*5 = 30\n",
      "7*5 = 35\n",
      "8*5 = 40\n",
      "9*5 = 45\n",
      "10*5 = 50\n"
     ]
    }
   ],
   "source": [
    "'''\n",
    "Bài 2: Nhập vào số nguyên dương n. In ra bảng cửu chương từ 1 đến 10 của n.\n",
    "'''\n",
    "n = int(input(\" nhập vào số nguyên dương n : \"))\n",
    "print(\"bảng cửu chương từ 1 đến 10 của n là :\")\n",
    "for i in range(0,10,1) :\n",
    "    print(f\"{i+1}*{n}\",\"=\",(i+1)*n)"
   ]
  },
  {
   "cell_type": "code",
   "execution_count": null,
   "id": "681c029c",
   "metadata": {},
   "outputs": [],
   "source": [
    "'''\n",
    "Bài 3: Nhập vào số nguyên dương n. Đếm xem n có bao nhiêu chữ số.\n",
    "'''\n",
    "n = str(input(\"Nhập n: \"))\n",
    "count = 0\n",
    "for i in range(len(n)):\n",
    "    a = n[0:i+1]\n",
    "    if a.count(n[i]) == 1:\n",
    "        count += 1\n",
    "print(count)"
   ]
  },
  {
   "cell_type": "code",
   "execution_count": null,
   "id": "f9057426",
   "metadata": {},
   "outputs": [],
   "source": [
    "n = int(input(\" nhập vào số nguyên dương n : \"))\n",
    "i = 0\n",
    "while 10**i <= n :\n",
    "    i = i + 1\n",
    "else :\n",
    "    print(f\"Số nguyên dương n có {i} chữ số\")"
   ]
  },
  {
   "cell_type": "code",
   "execution_count": null,
   "id": "ec71ef19",
   "metadata": {},
   "outputs": [],
   "source": [
    "n = int(input(\"Nhập n: \"))\n",
    "total_number = 0\n",
    "while n > 0:\n",
    "    total_number += 1\n",
    "    n //= 10\n",
    "    print(n)\n",
    "print(total_number)"
   ]
  },
  {
   "cell_type": "code",
   "execution_count": 59,
   "id": "7eb58122",
   "metadata": {},
   "outputs": [
    {
     "name": "stdout",
     "output_type": "stream",
     "text": [
      "Nhập n: 5\n",
      "5\n"
     ]
    }
   ],
   "source": [
    "'''\n",
    "Bài 4: Nhập vào số nguyên dương n. Tính tổng các chữ số của n.\n",
    "'''\n",
    "n = int(input(\"Nhập n: \"))\n",
    "s = 0\n",
    "j = 0\n",
    "while n > 0:\n",
    "    j = n % 10\n",
    "    n = n//10\n",
    "    s += j\n",
    "print(s)"
   ]
  },
  {
   "cell_type": "code",
   "execution_count": 58,
   "id": "4e3fa041",
   "metadata": {},
   "outputs": [
    {
     "name": "stdout",
     "output_type": "stream",
     "text": [
      "Nhập n: 20\n",
      "2\n"
     ]
    }
   ],
   "source": [
    "n = int(input(\"Nhập n: \"))\n",
    "tong = 0\n",
    "\n",
    "while n > 0:\n",
    "    tong += n % 10\n",
    "    n //= 10\n",
    "    \n",
    "print(tong)"
   ]
  },
  {
   "cell_type": "code",
   "execution_count": 49,
   "id": "cf0da697",
   "metadata": {},
   "outputs": [
    {
     "name": "stdout",
     "output_type": "stream",
     "text": [
      "nhập chiều cao tam giác: 5\n",
      "1 \n",
      "1 2 \n",
      "1 2 3 \n",
      "1 2 3 4 \n",
      "1 2 3 4 5 \n"
     ]
    }
   ],
   "source": [
    "'''\n",
    "Bài 5: Nhập vào số nguyên dương n. Sử dụng cấu trúc vòng lặp lồng nhau(nested for loop) để in ra tam giác có dạng như sau:\n",
    "1\n",
    "1 2\n",
    "1 2 3\n",
    "1 2 3 4\n",
    "1 2 3 4 5\n",
    "'''\n",
    "h= int(input('nhập chiều cao tam giác: '))\n",
    "for i in range(1, h+1):\n",
    "    for j in range(1, i+1):\n",
    "        print(j, end=\" \")\n",
    "    print()\n",
    "       "
   ]
  },
  {
   "cell_type": "code",
   "execution_count": 50,
   "id": "1ac5d880",
   "metadata": {},
   "outputs": [
    {
     "name": "stdout",
     "output_type": "stream",
     "text": [
      "nhập chiều cao tam giác: 5\n",
      "5 4 3 2 1 \n",
      "4 3 2 1 \n",
      "3 2 1 \n",
      "2 1 \n",
      "1 \n"
     ]
    }
   ],
   "source": [
    "'''\n",
    "Bài 6: Nhập vào số nguyên dương n. Sử dụng cấu trúc vòng lặp lồng nhau(nested for loop) để in ra tam giác có dạng như sau:\n",
    "5 4 3 2 1\n",
    "4 3 2 1\n",
    "3 2 1\n",
    "2 1\n",
    "1\n",
    "'''\n",
    "\n",
    "h= int(input('nhập chiều cao tam giác: '))\n",
    "for i in range(h, 0, -1):\n",
    "    for j in range(i,0,-1):\n",
    "        print(j, end=\" \")\n",
    "    print()"
   ]
  },
  {
   "cell_type": "code",
   "execution_count": 52,
   "id": "5a16aa66",
   "metadata": {},
   "outputs": [
    {
     "name": "stdout",
     "output_type": "stream",
     "text": [
      "Nhập n: 4\n",
      "24\n"
     ]
    }
   ],
   "source": [
    "'''\n",
    "Bài 7: Nhập vào một số nguyên dương n. Tính giai thừa của n.\n",
    "Note: Giai thừa của n được tính bằng công thức: n! = n*(n - 1)*(n - 2)*...*1\n",
    "Ví dụ: 5! = 5 × 4 × 3 × 2 × 1 = 120\n",
    "'''\n",
    "n = int(input(\"Nhập n: \"))\n",
    "giai_thua = 1\n",
    "\n",
    "if n != 0:\n",
    "    for i in range(1, n+1):\n",
    "        giai_thua *= i\n",
    "        \n",
    "print(giai_thua)"
   ]
  },
  {
   "cell_type": "code",
   "execution_count": 55,
   "id": "8dfa4890",
   "metadata": {},
   "outputs": [
    {
     "name": "stdout",
     "output_type": "stream",
     "text": [
      "Nhap so n =76542\n",
      "24567"
     ]
    }
   ],
   "source": [
    "'''\n",
    "Bài 8: Viết chương trình nhập vào một số nguyên dương n và in ra số đảo ngược của n.\n",
    "Ví dụ:\n",
    "Input: 76542\n",
    "Output: 24567\n",
    "'''\n",
    "n = int(input(\"Nhap so n =\"))\n",
    " \n",
    "while (n != 0):\n",
    "    print(n % 10, end=\"\")\n",
    "    n = n // 10 "
   ]
  },
  {
   "cell_type": "code",
   "execution_count": 56,
   "id": "326700db",
   "metadata": {},
   "outputs": [
    {
     "name": "stdout",
     "output_type": "stream",
     "text": [
      "Nhap n: 4\n",
      "1\n",
      "22\n",
      "333\n",
      "4444\n"
     ]
    }
   ],
   "source": [
    "'''\n",
    "Bài 9: Viết phần mềm nhập vào số n (từ 1 đến 9) và in ra tam giác có dạng như sau:\n",
    "1\n",
    "22\n",
    "333\n",
    "4444\n",
    "55555\n",
    "666666\n",
    "7777777\n",
    "88888888\n",
    "999999999\n",
    "'''\n",
    "\n",
    "n = int(input('Nhap n: '))\n",
    "for i in range (1,n+1):\n",
    "    print(f'{i}' *i)"
   ]
  },
  {
   "cell_type": "code",
   "execution_count": null,
   "id": "fb73a574",
   "metadata": {},
   "outputs": [],
   "source": [
    "n = int(input('Nhap n: '))\n",
    "for i in range (1,n+1):\n",
    "    print(str(i) * i)"
   ]
  },
  {
   "cell_type": "code",
   "execution_count": null,
   "id": "bfe2e17f",
   "metadata": {},
   "outputs": [],
   "source": [
    "'''\n",
    "Bonus: Vẽ xe lửa\n",
    "What is the size of your train? 1\n",
    " ______________________>__\n",
    "|]||[]_[]_[]|||[]_[]_[]||[|\n",
    "\\==o-o======o-o======o-o==/\n",
    "\n",
    "What is the size of your train? 2\n",
    " _________________________   ______________________>__\n",
    "|]||[]_[]_[]|||[]_[]_[]||[| |]||[]_[]_[]|||[]_[]_[]||[|\n",
    "\\==o-o======o-o======o-o==/_\\==o-o======o-o======o-o==/\n",
    "'''"
   ]
  }
 ],
 "metadata": {
  "kernelspec": {
   "display_name": "Python 3 (ipykernel)",
   "language": "python",
   "name": "python3"
  },
  "language_info": {
   "codemirror_mode": {
    "name": "ipython",
    "version": 3
   },
   "file_extension": ".py",
   "mimetype": "text/x-python",
   "name": "python",
   "nbconvert_exporter": "python",
   "pygments_lexer": "ipython3",
   "version": "3.8.10"
  }
 },
 "nbformat": 4,
 "nbformat_minor": 5
}
