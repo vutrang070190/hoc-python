{
 "cells": [
  {
   "cell_type": "code",
   "execution_count": 3,
   "id": "010c6221",
   "metadata": {},
   "outputs": [
    {
     "name": "stdout",
     "output_type": "stream",
     "text": [
      "nhập vào bán kính hình tròn: 3\n",
      "Chu vi hình tròn là: 18.84\n",
      "Diện tích hình tròn là: 28.26\n"
     ]
    }
   ],
   "source": [
    "# tính chu vi và diện tích hình tròn\n",
    "ban_kinh = int(input(\"nhập vào bán kính hình tròn: \"))\n",
    "chu_vi = 2*3.14*ban_kinh\n",
    "dien_tich = 3.14*(ban_kinh**2)\n",
    "print(f\"Chu vi hình tròn là: {chu_vi}\")\n",
    "print(f\"Diện tích hình tròn là: {dien_tich}\")"
   ]
  },
  {
   "cell_type": "code",
   "execution_count": 27,
   "id": "125d9b3c",
   "metadata": {},
   "outputs": [
    {
     "name": "stdout",
     "output_type": "stream",
     "text": [
      "bạn hãy nhập màu hoặc mã màu: red\n",
      "nhâp vào chiều dài hình chữ nhật: 198.5\n",
      "nhập vào chiều rộng hình chữ nhật: 70\n",
      "Chu vi hình chữ nhật là: 537.0\n",
      "Diện tích hình chữ nhật là: 13895.0\n"
     ]
    }
   ],
   "source": [
    "# Tô màu cho hình chữ nhật\n",
    "import turtle\n",
    "pen = turtle.Turtle()\n",
    "pen.hideturtle() #ẩn bút vẽ\n",
    "color = input(\"bạn hãy nhập màu hoặc mã màu: \")\n",
    "chieu_dai = float(input(\"nhâp vào chiều dài hình chữ nhật: \"))\n",
    "chieu_rong = float(input(\"nhập vào chiều rộng hình chữ nhật: \"))\n",
    "pen.color(color)\n",
    "#pen.pendown()\n",
    "pen.begin_fill()\n",
    "\n",
    "\n",
    "pen.forward(chieu_dai)\n",
    "pen.right(90)\n",
    "\n",
    "pen.forward(chieu_rong)\n",
    "pen.right(90)\n",
    "\n",
    "\n",
    "pen.forward(chieu_dai)\n",
    "pen.right(90)\n",
    "\n",
    "\n",
    "pen.forward(chieu_rong)\n",
    "\n",
    "pen.end_fill()\n",
    "\n",
    "#tính chu vi và diện tích hình chữ nhật vừa vẽ\n",
    "chu_vi = 2*(chieu_dai + chieu_rong)\n",
    "dien_tich = chieu_dai * chieu_rong\n",
    "print(f\"Chu vi hình chữ nhật là: {chu_vi}\")\n",
    "print(f\"Diện tích hình chữ nhật là: {dien_tich}\")\n",
    "\n",
    "turtle.done()"
   ]
  },
  {
   "cell_type": "code",
   "execution_count": 30,
   "id": "5f8e7b46",
   "metadata": {},
   "outputs": [
    {
     "name": "stdout",
     "output_type": "stream",
     "text": [
      "nhập vào số tiền USD bạn cần đổi: 2.5\n",
      "nhập vào tỉ giá USD/VND: 23.500\n",
      "Số tiền VNĐ sau khi chuyển đổi từ USD là: 58.75\n"
     ]
    }
   ],
   "source": [
    "# bài ứng dụng chuyển đổi tiền tệ\n",
    "USD = float(input(\"nhập vào số tiền USD bạn cần đổi: \"))\n",
    "ti_gia = float(input(\"nhập vào tỉ giá USD/VND: \"))\n",
    "VND = USD*ti_gia\n",
    "print(f\"Số tiền VNĐ sau khi chuyển đổi từ USD là: {VND}\")"
   ]
  },
  {
   "cell_type": "code",
   "execution_count": null,
   "id": "7f5d936c",
   "metadata": {},
   "outputs": [],
   "source": []
  }
 ],
 "metadata": {
  "kernelspec": {
   "display_name": "Python 3 (ipykernel)",
   "language": "python",
   "name": "python3"
  },
  "language_info": {
   "codemirror_mode": {
    "name": "ipython",
    "version": 3
   },
   "file_extension": ".py",
   "mimetype": "text/x-python",
   "name": "python",
   "nbconvert_exporter": "python",
   "pygments_lexer": "ipython3",
   "version": "3.8.10"
  }
 },
 "nbformat": 4,
 "nbformat_minor": 5
}
