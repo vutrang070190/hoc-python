{
 "cells": [
  {
   "cell_type": "markdown",
   "id": "5bc93fb0",
   "metadata": {},
   "source": [
    "# Thực hành nhập xuất dữ liệu & chuỗi\n",
    "\n",
    "### Bài tập tra cứu lệnh\n",
    "\n",
    "Nhập vào một chuỗi, kiểm tra xem chuỗi đó có ký tự nào là chữ in hoa hay không, nếu có thì in True, không có thì in False"
   ]
  },
  {
   "cell_type": "code",
   "execution_count": null,
   "id": "4b3df2ba",
   "metadata": {},
   "outputs": [],
   "source": [
    "#câu lệnh là cái búa\n",
    "a = \"xin chào\"\n",
    "check = a.islower()\n",
    "#islower: kiểm tra toàn bộ chuỗi có viết thường hết không\n",
    "#not islower: kiểm tra toàn bộ chuỗi có ít nhất 1 ký tự viết hoa hay không\n",
    "print(not(check))\n"
   ]
  },
  {
   "cell_type": "code",
   "execution_count": null,
   "id": "aeb38b14",
   "metadata": {},
   "outputs": [],
   "source": [
    "# hàm s.isuper() kiểm tra toàn bộ ký tự ở trong chuỗi có phải chữ viết hoa hay không"
   ]
  },
  {
   "cell_type": "markdown",
   "id": "e14eae7c",
   "metadata": {},
   "source": [
    "Nhập vào một chuỗi, kiểm tra xem chuỗi đó có ký tự nào là chữ in thường hay không, nếu có thì in True, không có thì in False"
   ]
  },
  {
   "cell_type": "code",
   "execution_count": 2,
   "id": "ab00180c",
   "metadata": {},
   "outputs": [
    {
     "name": "stdout",
     "output_type": "stream",
     "text": [
      "nhập vào một chuỗi: Vu Thi Trang\n",
      "True\n"
     ]
    }
   ],
   "source": [
    "a = input(\"nhập vào một chuỗi: \")\n",
    "print(not a.isupper())\n"
   ]
  },
  {
   "cell_type": "markdown",
   "id": "eab86ecf",
   "metadata": {},
   "source": [
    "Nhập vào một chuỗi a và chuỗi b, tìm vị trí đầu tiên xuất hiện chuỗi b trong chuỗi a"
   ]
  },
  {
   "cell_type": "code",
   "execution_count": 2,
   "id": "051eb4af",
   "metadata": {},
   "outputs": [
    {
     "name": "stdout",
     "output_type": "stream",
     "text": [
      "nhập vào một chuỗi: Vũ Thị Trang\n",
      "nhập vào một chuỗi: Thị\n",
      "3\n"
     ]
    }
   ],
   "source": [
    "a = input(\"nhập vào một chuỗi: \")\n",
    "b = input(\"nhập vào một chuỗi: \")\n",
    "c = a.find(b)\n",
    "print(c)"
   ]
  },
  {
   "cell_type": "markdown",
   "id": "9239bc4e",
   "metadata": {},
   "source": [
    "Nhập vào một chuỗi a, hãy xóa từ đầu tiên trong chuỗi a, rồi in ra màn hình"
   ]
  },
  {
   "cell_type": "code",
   "execution_count": 1,
   "id": "90967cd9",
   "metadata": {},
   "outputs": [
    {
     "name": "stdout",
     "output_type": "stream",
     "text": [
      "nhập vào một chuỗi: Vũ Thị Trang\n",
      " Thị Trang\n"
     ]
    }
   ],
   "source": [
    "a = input(\"nhập vào một chuỗi: \")\n",
    "b = a.find(\" \")\n",
    "a = a[b: ]\n",
    "print(a)"
   ]
  },
  {
   "cell_type": "markdown",
   "id": "05b74fb4",
   "metadata": {},
   "source": [
    "### Bài 1\n",
    "\n",
    "Nhập vào một chuỗi, đếm xem có bao nhiêu từ trong chuỗi kết thúc bằng chữ n"
   ]
  },
  {
   "cell_type": "code",
   "execution_count": 11,
   "id": "d126675c",
   "metadata": {},
   "outputs": [
    {
     "name": "stdout",
     "output_type": "stream",
     "text": [
      "nhập vào một chuỗi: Vũ Văn An\n",
      "2\n",
      "2\n"
     ]
    }
   ],
   "source": [
    "#dùng lệnh count\n",
    "a = input(\"nhập vào một chuỗi: \")\n",
    "b = a.count(\" \") #đếm khoảng trắng\n",
    "print(b)\n",
    "a += \" \" # cộng khoảng trắng cuối cùng\n",
    "c = a.count(\"n \") # đếm khoảng trắng trước chữ n\n",
    "print(c)"
   ]
  },
  {
   "cell_type": "markdown",
   "id": "53a78d35",
   "metadata": {},
   "source": [
    "### Bài 2\n",
    "\n",
    "Nhập vào một chuỗi, kiểm tra xem chuỗi đó có ký tự hoa hoặc ký tự thường hay không."
   ]
  },
  {
   "cell_type": "code",
   "execution_count": 15,
   "id": "f5be8c39",
   "metadata": {},
   "outputs": [
    {
     "name": "stdout",
     "output_type": "stream",
     "text": [
      "nhâp vào một chuỗi: vũ Thị Trang\n",
      "False\n"
     ]
    }
   ],
   "source": [
    "a = input(\"nhâp vào một chuỗi: \")\n",
    "print(a.islower() or a.isupper())"
   ]
  },
  {
   "cell_type": "markdown",
   "id": "64ca662e",
   "metadata": {},
   "source": [
    "### Bài 3\n",
    "\n",
    "Nhập vào một chuỗi, kiểm tra tính đối xứng của chuỗi đó"
   ]
  },
  {
   "cell_type": "code",
   "execution_count": 20,
   "id": "749f4136",
   "metadata": {},
   "outputs": [
    {
     "name": "stdout",
     "output_type": "stream",
     "text": [
      "nhập vào một chuỗi: 123321\n",
      "True\n"
     ]
    }
   ],
   "source": [
    "a = input(\"nhập vào một chuỗi: \")\n",
    "b = a[::-1]\n",
    "print(a==b)"
   ]
  },
  {
   "cell_type": "markdown",
   "id": "85dd8fef",
   "metadata": {},
   "source": [
    "### Bài 4\n",
    "\n",
    "Nhập vào một chuỗi, in ra những ký tự in hoa trong chuỗi đó"
   ]
  },
  {
   "cell_type": "code",
   "execution_count": 22,
   "id": "0d099247",
   "metadata": {},
   "outputs": [
    {
     "ename": "SyntaxError",
     "evalue": "invalid syntax (2490290209.py, line 2)",
     "output_type": "error",
     "traceback": [
      "\u001b[1;36m  Input \u001b[1;32mIn [22]\u001b[1;36m\u001b[0m\n\u001b[1;33m    for i in range(5)\u001b[0m\n\u001b[1;37m                      ^\u001b[0m\n\u001b[1;31mSyntaxError\u001b[0m\u001b[1;31m:\u001b[0m invalid syntax\n"
     ]
    }
   ],
   "source": [
    "i =0\n",
    "for i in range(5) \n",
    "print(\"hello\")\n",
    "print('hi')"
   ]
  },
  {
   "cell_type": "markdown",
   "id": "1373dc74",
   "metadata": {},
   "source": [
    "### Bài 5\n",
    "\n",
    "Nhập vào một chuỗi, tìm các ký tự chỉ xuất hiện một lần trong chuỗi (nếu xuất hiện 1 lần in true, xuất hiện nhiều lần in false)\n",
    "\n",
    "Ví dụ:\n",
    "\n",
    "Nhập chuỗi: \"ABAbc\"\n",
    "\n",
    "In:\n",
    "\n",
    "A: False\n",
    "\n",
    "B: True\n",
    "\n",
    "A: False\n",
    "\n",
    "b: True\n",
    "\n",
    "c: True"
   ]
  },
  {
   "cell_type": "code",
   "execution_count": 31,
   "id": "a93bc53d",
   "metadata": {},
   "outputs": [
    {
     "name": "stdout",
     "output_type": "stream",
     "text": [
      "nhập chuỗi: Hello Trang\n",
      "H True\n",
      "e True\n",
      "l False\n",
      "l False\n",
      "o True\n",
      "  True\n",
      "T True\n",
      "r True\n",
      "a True\n",
      "n True\n",
      "g True\n"
     ]
    }
   ],
   "source": [
    "s = input(\"nhập chuỗi: \")\n",
    "#đoạn lệnh in ra tất cả các ký tự trong chuỗi\n",
    "a = 0\n",
    "for i in range(len(s)):\n",
    "    dem = s.count(s[a])\n",
    "    print(s[a],dem ==1)\n",
    "    a+=1\n",
    "   "
   ]
  },
  {
   "cell_type": "markdown",
   "id": "69bebf4c",
   "metadata": {},
   "source": [
    "### Bài 6\n",
    "\n",
    "Nhập vào một chuỗi, kiểm tra trong chuỗi có con số hay không, nếu có in True, không có in False"
   ]
  },
  {
   "cell_type": "code",
   "execution_count": null,
   "id": "1b4eab4f",
   "metadata": {},
   "outputs": [],
   "source": []
  },
  {
   "cell_type": "markdown",
   "id": "1e51403c",
   "metadata": {},
   "source": [
    "### Bài 7\n",
    "\n",
    "Nhập vào một chuỗi, tách những con số có trong chuỗi ra rồi tính tổng của chúng\n",
    "\n",
    "In tổng lên màn hình"
   ]
  },
  {
   "cell_type": "code",
   "execution_count": null,
   "id": "a34e349d",
   "metadata": {},
   "outputs": [],
   "source": []
  },
  {
   "cell_type": "markdown",
   "id": "e951779d",
   "metadata": {},
   "source": [
    "### Bài 8\n",
    "\n",
    "Nhập vào một chuỗi, đảo ngược chuỗi đã nhập rồi in ra màn hình"
   ]
  },
  {
   "cell_type": "code",
   "execution_count": null,
   "id": "9305f0f1",
   "metadata": {},
   "outputs": [],
   "source": []
  },
  {
   "cell_type": "markdown",
   "id": "04194b5c",
   "metadata": {},
   "source": [
    "### Bài 9\n",
    "\n",
    "Nhập vào một chuỗi, kiểm tra xem mỗi từ trong chuỗi có được viết hoa chữ cái đầu hay không, nếu tất cả đều được viết hoa thì in ra True, còn không thì in ra False\n",
    "\n",
    "Trong trường hợp là False, hãy viết hoa tất cả các chữ cái đầu của mỗi từ rồi in lên màn hình\n",
    "\n",
    "Cách làm thông thường:"
   ]
  },
  {
   "cell_type": "code",
   "execution_count": null,
   "id": "9f947c7d",
   "metadata": {},
   "outputs": [],
   "source": []
  },
  {
   "cell_type": "markdown",
   "id": "f43e32af",
   "metadata": {},
   "source": [
    "Cách sử dụng lệnh có sẵn:"
   ]
  },
  {
   "cell_type": "code",
   "execution_count": null,
   "id": "714f1412",
   "metadata": {},
   "outputs": [],
   "source": []
  }
 ],
 "metadata": {
  "kernelspec": {
   "display_name": "Python 3 (ipykernel)",
   "language": "python",
   "name": "python3"
  },
  "language_info": {
   "codemirror_mode": {
    "name": "ipython",
    "version": 3
   },
   "file_extension": ".py",
   "mimetype": "text/x-python",
   "name": "python",
   "nbconvert_exporter": "python",
   "pygments_lexer": "ipython3",
   "version": "3.8.10"
  }
 },
 "nbformat": 4,
 "nbformat_minor": 5
}
