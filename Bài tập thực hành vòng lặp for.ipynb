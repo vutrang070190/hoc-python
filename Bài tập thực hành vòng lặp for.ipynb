{
 "cells": [
  {
   "cell_type": "code",
   "execution_count": 16,
   "id": "58c24a92",
   "metadata": {},
   "outputs": [],
   "source": [
    "'''\n",
    "Vẽ hình vuông sử dụng vòng lặp for\n",
    "\n",
    "'''\n",
    "import turtle\n",
    "man = turtle.Screen()\n",
    "man.bgcolor(\"black\")\n",
    "man.title(\"Square\")\n",
    "pen = turtle.Turtle()\n",
    "pen.speed(2)\n",
    "pen.color(\"#FF0000\")\n",
    "for i in range(4):\n",
    "    pen.forward(100)\n",
    "    pen.right(90)\n",
    "    \n",
    "    \n",
    "turtle.done()\n",
    "    \n",
    "\n",
    "\n"
   ]
  },
  {
   "cell_type": "code",
   "execution_count": 51,
   "id": "9821bef1",
   "metadata": {},
   "outputs": [],
   "source": [
    "'''\n",
    "Viết chương trình sử dụng thư viện turtle và hàm lặp for…in \n",
    "để vẽ ngôi sao với màu sắc cho sẵn,\n",
    "sử dụng vòng lặp lồng nhau để vẽ thêm n ngôi sao\n",
    "xoay quanh tâm cửa số màn hình và cách nhau bên trái 5px\n",
    "'''\n",
    "import turtle\n",
    "\n",
    "man = turtle.Screen()\n",
    "man.bgcolor(\"black\")\n",
    "man.title(\"star\")\n",
    "\n",
    "pen = turtle.Turtle()\n",
    "pen.goto(0,0)\n",
    "pen.speed(0)\n",
    "pen.color(\"#FF0000\")\n",
    "\n",
    "for j in range(1,100):            \n",
    "    for i in range(1,6):\n",
    "        pen.forward(200)\n",
    "        pen.left(144)\n",
    "    pen.left(5)\n",
    "\n",
    "turtle.done()\n",
    "    "
   ]
  },
  {
   "cell_type": "code",
   "execution_count": 58,
   "id": "ee72b8c2",
   "metadata": {},
   "outputs": [
    {
     "name": "stdout",
     "output_type": "stream",
     "text": [
      "nhập vào ký tự bạn muốn dùng để vẽ: *\n",
      "nhập vào chiều cao của hình: 8\n",
      "nhập vào chiều rộng của hình: 15\n",
      "***************\n",
      "*             *\n",
      "*             *\n",
      "*             *\n",
      "*             *\n",
      "*             *\n",
      "*             *\n",
      "***************\n"
     ]
    }
   ],
   "source": [
    "'''\n",
    "Vẽ hình chữ nhật bằng ký tự\n",
    "Viết chương trình cho phép người dùng nhập ký tự muốn dùng để vẽ,\n",
    "chiều cao và chiều rộng của hình. \n",
    "Sau đó in ra hình tứ giác được vẽ bằng ký tự vừa nhập,\n",
    "với chiều cao và chiều rộng tương ứng(lưu ý: \n",
    "chỉ các cạnh hình được vẽ bằng ký tự, bên trong hình sẽ được thay thế bằng dấu space ‘  ‘) \n",
    "'''\n",
    "\n",
    "char = input(\"nhập vào ký tự bạn muốn dùng để vẽ: \")\n",
    "height = int(input(\"nhập vào chiều cao của hình: \"))\n",
    "width = int(input(\"nhập vào chiều rộng của hình: \"))\n",
    "\n",
    "for i in range(1, height + 1):\n",
    "    print_str = ''\n",
    "    for j in range(1, width + 1):\n",
    "        if i == 1 or i == height:\n",
    "            print_str += char\n",
    "        else:\n",
    "            if j == 1 or j == width:\n",
    "                print_str += char\n",
    "            else:\n",
    "                print_str += ' '\n",
    "    \n",
    "    \n",
    "    print(print_str)\n",
    "        \n"
   ]
  },
  {
   "cell_type": "code",
   "execution_count": null,
   "id": "faeb53f9",
   "metadata": {},
   "outputs": [],
   "source": [
    "'''\n",
    "Fizz Buzz là một bài toán lập trình cổ điển. Đây là phiên bản sửa đổi nhẹ của nó.\n",
    "Viết chương trình lấy đầu vào là hai số nguyên: đầu và cuối khoảng (cả hai số đều thuộc khoảng).\n",
    "Chương trình sẽ in ra các số trong khoảng này. \n",
    "Nhưng nếu số đó chia hết cho 3, bạn sẽ in ra “Fizz” thay vì nó\n",
    "nếu số đó chia hết cho 5, in ra “Buzz” \n",
    "và nếu số đó chia hết cho cả 3 và 5, hãy in ra “FizzBuzz”.\n",
    "'''\n",
    "\n",
    "a = int(input(\"nhập vào số nguyên khoảng đầu: \"))\n",
    "b = int(input(\"nhập vào số nguyên khoảng cuối: \"))\n",
    "for i in range(a,b + 1):\n",
    "    if i %3 == 0 and i %5 == 0:\n",
    "        print(\"FizzBuzz\")\n",
    "    elif i%3 == 0:\n",
    "        print(\"Fizz\")\n",
    "    elif i%5 == 0:\n",
    "        print(\"Buzz\")\n",
    "    else:\n",
    "        print(i)\n",
    "    "
   ]
  },
  {
   "cell_type": "code",
   "execution_count": 22,
   "id": "67ae66b1",
   "metadata": {},
   "outputs": [
    {
     "ename": "SyntaxError",
     "evalue": "invalid syntax (1102405674.py, line 21)",
     "output_type": "error",
     "traceback": [
      "\u001b[1;36m  Input \u001b[1;32mIn [22]\u001b[1;36m\u001b[0m\n\u001b[1;33m    if\u001b[0m\n\u001b[1;37m       ^\u001b[0m\n\u001b[1;31mSyntaxError\u001b[0m\u001b[1;31m:\u001b[0m invalid syntax\n"
     ]
    }
   ],
   "source": [
    "'''\n",
    "Trò chơi 21 là trò chơi số đếm được bắt đầu từ 0\n",
    "hai người chơi lần lượt có thể thêm 1, 2 hoặc 3, vào tổng số.\n",
    "Tổng số không được vượt quá 21 và người chơi đếm tới 21 sẽ thua.\n",
    "Ở bài tập này, chúng ta sẽ giả định cho máy làm người chơi thứ 2.\n",
    "'''\n",
    "\n",
    "import random as r\n",
    "play_choice = ''\n",
    "while True:\n",
    "    S_count = 0\n",
    "    current_play = r.randin(0,1)\n",
    "    if current_play == 0:\n",
    "        current_play = \"người chơi\"\n",
    "    else:\n",
    "        current_play = \"computer\"\n",
    "    while S_count <= 21:\n",
    "        \n",
    "        S_count += 1\n",
    "        print(S_count)\n",
    "        if \n",
    "        \n",
    "    "
   ]
  },
  {
   "cell_type": "code",
   "execution_count": null,
   "id": "b17c1b76",
   "metadata": {},
   "outputs": [],
   "source": []
  },
  {
   "cell_type": "code",
   "execution_count": null,
   "id": "601c09a7",
   "metadata": {},
   "outputs": [],
   "source": []
  }
 ],
 "metadata": {
  "kernelspec": {
   "display_name": "Python 3 (ipykernel)",
   "language": "python",
   "name": "python3"
  },
  "language_info": {
   "codemirror_mode": {
    "name": "ipython",
    "version": 3
   },
   "file_extension": ".py",
   "mimetype": "text/x-python",
   "name": "python",
   "nbconvert_exporter": "python",
   "pygments_lexer": "ipython3",
   "version": "3.8.10"
  }
 },
 "nbformat": 4,
 "nbformat_minor": 5
}
